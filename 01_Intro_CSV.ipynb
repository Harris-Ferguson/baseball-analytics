{
 "cells": [
  {
   "cell_type": "markdown",
   "metadata": {},
   "source": [
    "# Analyzing Open Source Baseball Data\n",
    "\n",
    "This notebook answers baseball questions that a fan might be interested in. The questions are answered by using Pandas and MLB data from Lahman, Retrosheet and FanGraphs.\n",
    "\n",
    "This notebook will show how the answer is arrived at, but it will not teach Python, Pandas, Numpy, Matplotlib, and Seaborn per se."
   ]
  },
  {
   "cell_type": "markdown",
   "metadata": {},
   "source": [
    "## Setup\n",
    "[Preliminaries](#Preliminaries)  \n",
    "[Imports and Setup](#Imports-and-Setup)  \n",
    "[Load Data](#Load-the-Data)  \n",
    "\n",
    "## Baseball Analysis/Questions\n",
    "[Are Baseball Games Getting Longer?](#Are-Baseball-Games-Getting-Longer-?)  \n",
    "[Are Games Longer due to Using More Pitchers?](#Are-Games-Longer-Due-to-Using-More-Pitchers?)  \n",
    "[Are Games that Use a DH Higher Scoring?](#Are-Games-that-Use-a-DH-Higher-Scoring?)  "
   ]
  },
  {
   "cell_type": "markdown",
   "metadata": {},
   "source": [
    "## Preliminaries\n",
    "\n",
    "This notebook assumes that the Lahman and Retrosheet data sets have been downloaded and wrangled using the scripts in the `../download_scripts` directory of this repo.\n",
    "\n",
    "For these notebooks, Retrosheet data from 1955 through 2019 inclusive is used.\n",
    "\n",
    "The `../download_scripts/data_helper.py` function: `from_csv_with_types()` uses pd.read_csv() with dtypes set to the type data read in from: <filename\\>_types.csv.  This allows Pandas to use the previously optimized data types."
   ]
  },
  {
   "cell_type": "markdown",
   "metadata": {},
   "source": [
    "## MLB Data Summary\n",
    "\n",
    "Most used csv files.\n",
    "\n",
    "**Lahman**  \n",
    "* Stats per Player per Year:\n",
    "  * batting.csv\n",
    "  * pitching.csv\n",
    "  * fielding.csv\n",
    "* Stats per Team per Year:\n",
    "  * teams.csv -- contains team_id for both Lahman and Retrosheet\n",
    "* Other\n",
    "  * people.csv -- contains player_id for both Lahman and Retrosheet\n",
    "  \n",
    "**Retrosheet**  \n",
    "* Stats per Player per Game:\n",
    "  * batting.csv.gz\n",
    "  * pitching.csv.gz\n",
    "  * fielding.csv.gz\n",
    "* Stats per Team per Game:\n",
    "  * team_game.csv.gz\n",
    "* Stats per Game:\n",
    "  * game.csv.gz "
   ]
  },
  {
   "cell_type": "markdown",
   "metadata": {},
   "source": [
    "## Imports and Setup"
   ]
  },
  {
   "cell_type": "code",
   "execution_count": 1,
   "metadata": {},
   "outputs": [],
   "source": [
    "import os\n",
    "import pandas as pd\n",
    "import numpy as np\n",
    "from pathlib import Path\n",
    "import re\n",
    "from scipy.stats import linregress"
   ]
  },
  {
   "cell_type": "code",
   "execution_count": 2,
   "metadata": {},
   "outputs": [],
   "source": [
    "%matplotlib inline\n",
    "import matplotlib.pyplot as plt\n",
    "import seaborn as sns\n",
    "sns.set()"
   ]
  },
  {
   "cell_type": "code",
   "execution_count": 3,
   "metadata": {},
   "outputs": [],
   "source": [
    "import matplotlib as mpl\n",
    "mpl.rcParams['figure.dpi'] = 100 # increase dpi, will make figures larger and clearer"
   ]
  },
  {
   "cell_type": "code",
   "execution_count": 4,
   "metadata": {},
   "outputs": [],
   "source": [
    "import sys\n",
    "\n",
    "# import data_helper.py from download_scripts directory\n",
    "sys.path.append('../download_scripts')\n",
    "import data_helper as dh"
   ]
  },
  {
   "cell_type": "code",
   "execution_count": 5,
   "metadata": {},
   "outputs": [],
   "source": [
    "data_dir = Path('../data')\n",
    "lahman_data = data_dir.joinpath('lahman/wrangled').resolve()\n",
    "retrosheet_data = data_dir.joinpath('retrosheet/wrangled').resolve()"
   ]
  },
  {
   "cell_type": "code",
   "execution_count": 6,
   "metadata": {},
   "outputs": [],
   "source": [
    "pd.set_option(\"display.max_columns\", 50)"
   ]
  },
  {
   "cell_type": "markdown",
   "metadata": {},
   "source": [
    "## Load the Data\n",
    "Read in the data used in this notebook from the CSV files."
   ]
  },
  {
   "cell_type": "code",
   "execution_count": 7,
   "metadata": {},
   "outputs": [
    {
     "data": {
      "text/html": [
       "<div>\n",
       "<style scoped>\n",
       "    .dataframe tbody tr th:only-of-type {\n",
       "        vertical-align: middle;\n",
       "    }\n",
       "\n",
       "    .dataframe tbody tr th {\n",
       "        vertical-align: top;\n",
       "    }\n",
       "\n",
       "    .dataframe thead th {\n",
       "        text-align: right;\n",
       "    }\n",
       "</style>\n",
       "<table border=\"1\" class=\"dataframe\">\n",
       "  <thead>\n",
       "    <tr style=\"text-align: right;\">\n",
       "      <th></th>\n",
       "      <th>game_id</th>\n",
       "      <th>game_start_dt</th>\n",
       "      <th>game_length_minutes</th>\n",
       "      <th>dh</th>\n",
       "    </tr>\n",
       "  </thead>\n",
       "  <tbody>\n",
       "    <tr>\n",
       "      <th>0</th>\n",
       "      <td>BAL195504120</td>\n",
       "      <td>1955-04-12</td>\n",
       "      <td>145</td>\n",
       "      <td>False</td>\n",
       "    </tr>\n",
       "    <tr>\n",
       "      <th>1</th>\n",
       "      <td>BAL195504180</td>\n",
       "      <td>1955-04-18</td>\n",
       "      <td>146</td>\n",
       "      <td>False</td>\n",
       "    </tr>\n",
       "    <tr>\n",
       "      <th>2</th>\n",
       "      <td>BAL195504220</td>\n",
       "      <td>1955-04-22</td>\n",
       "      <td>168</td>\n",
       "      <td>False</td>\n",
       "    </tr>\n",
       "  </tbody>\n",
       "</table>\n",
       "</div>"
      ],
      "text/plain": [
       "        game_id game_start_dt  game_length_minutes     dh\n",
       "0  BAL195504120    1955-04-12                  145  False\n",
       "1  BAL195504180    1955-04-18                  146  False\n",
       "2  BAL195504220    1955-04-22                  168  False"
      ]
     },
     "execution_count": 7,
     "metadata": {},
     "output_type": "execute_result"
    }
   ],
   "source": [
    "# stats per game (game.csv.gz)\n",
    "cols = ['game_id', 'game_start_dt', 'game_length_minutes', 'dh']\n",
    "game = dh.from_csv_with_types(retrosheet_data / 'game.csv.gz', usecols=cols)\n",
    "game.head(3)"
   ]
  },
  {
   "cell_type": "code",
   "execution_count": 8,
   "metadata": {},
   "outputs": [
    {
     "data": {
      "text/html": [
       "<div>\n",
       "<style scoped>\n",
       "    .dataframe tbody tr th:only-of-type {\n",
       "        vertical-align: middle;\n",
       "    }\n",
       "\n",
       "    .dataframe tbody tr th {\n",
       "        vertical-align: top;\n",
       "    }\n",
       "\n",
       "    .dataframe thead th {\n",
       "        text-align: right;\n",
       "    }\n",
       "</style>\n",
       "<table border=\"1\" class=\"dataframe\">\n",
       "  <thead>\n",
       "    <tr style=\"text-align: right;\">\n",
       "      <th></th>\n",
       "      <th>game_id</th>\n",
       "      <th>team_id</th>\n",
       "      <th>r</th>\n",
       "      <th>pitcher_ct</th>\n",
       "    </tr>\n",
       "  </thead>\n",
       "  <tbody>\n",
       "    <tr>\n",
       "      <th>0</th>\n",
       "      <td>BAL195504120</td>\n",
       "      <td>BAL</td>\n",
       "      <td>1</td>\n",
       "      <td>3</td>\n",
       "    </tr>\n",
       "    <tr>\n",
       "      <th>1</th>\n",
       "      <td>BAL195504180</td>\n",
       "      <td>BAL</td>\n",
       "      <td>0</td>\n",
       "      <td>3</td>\n",
       "    </tr>\n",
       "    <tr>\n",
       "      <th>2</th>\n",
       "      <td>BAL195504220</td>\n",
       "      <td>BAL</td>\n",
       "      <td>2</td>\n",
       "      <td>2</td>\n",
       "    </tr>\n",
       "    <tr>\n",
       "      <th>3</th>\n",
       "      <td>BAL195504230</td>\n",
       "      <td>BAL</td>\n",
       "      <td>3</td>\n",
       "      <td>1</td>\n",
       "    </tr>\n",
       "  </tbody>\n",
       "</table>\n",
       "</div>"
      ],
      "text/plain": [
       "        game_id team_id  r  pitcher_ct\n",
       "0  BAL195504120     BAL  1           3\n",
       "1  BAL195504180     BAL  0           3\n",
       "2  BAL195504220     BAL  2           2\n",
       "3  BAL195504230     BAL  3           1"
      ]
     },
     "execution_count": 8,
     "metadata": {},
     "output_type": "execute_result"
    }
   ],
   "source": [
    "# stats per team per game data (team_game.csv.gz)\n",
    "cols = ['game_id', 'team_id', 'pitcher_ct', 'r']\n",
    "team_game = dh.from_csv_with_types(retrosheet_data / 'team_game.csv.gz', usecols=cols)\n",
    "team_game.head(4)"
   ]
  },
  {
   "cell_type": "code",
   "execution_count": 9,
   "metadata": {},
   "outputs": [
    {
     "data": {
      "text/html": [
       "<div>\n",
       "<style scoped>\n",
       "    .dataframe tbody tr th:only-of-type {\n",
       "        vertical-align: middle;\n",
       "    }\n",
       "\n",
       "    .dataframe tbody tr th {\n",
       "        vertical-align: top;\n",
       "    }\n",
       "\n",
       "    .dataframe thead th {\n",
       "        text-align: right;\n",
       "    }\n",
       "</style>\n",
       "<table border=\"1\" class=\"dataframe\">\n",
       "  <thead>\n",
       "    <tr style=\"text-align: right;\">\n",
       "      <th></th>\n",
       "      <th>game_id</th>\n",
       "      <th>team_id</th>\n",
       "      <th>r</th>\n",
       "      <th>pitcher_ct</th>\n",
       "      <th>game_start_dt</th>\n",
       "      <th>game_length_minutes</th>\n",
       "      <th>dh</th>\n",
       "    </tr>\n",
       "  </thead>\n",
       "  <tbody>\n",
       "    <tr>\n",
       "      <th>0</th>\n",
       "      <td>BAL195504120</td>\n",
       "      <td>BAL</td>\n",
       "      <td>1</td>\n",
       "      <td>3</td>\n",
       "      <td>1955-04-12</td>\n",
       "      <td>145</td>\n",
       "      <td>False</td>\n",
       "    </tr>\n",
       "    <tr>\n",
       "      <th>1</th>\n",
       "      <td>BAL195504120</td>\n",
       "      <td>BOS</td>\n",
       "      <td>7</td>\n",
       "      <td>1</td>\n",
       "      <td>1955-04-12</td>\n",
       "      <td>145</td>\n",
       "      <td>False</td>\n",
       "    </tr>\n",
       "    <tr>\n",
       "      <th>2</th>\n",
       "      <td>BAL195504180</td>\n",
       "      <td>BAL</td>\n",
       "      <td>0</td>\n",
       "      <td>3</td>\n",
       "      <td>1955-04-18</td>\n",
       "      <td>146</td>\n",
       "      <td>False</td>\n",
       "    </tr>\n",
       "    <tr>\n",
       "      <th>3</th>\n",
       "      <td>BAL195504180</td>\n",
       "      <td>NYA</td>\n",
       "      <td>6</td>\n",
       "      <td>1</td>\n",
       "      <td>1955-04-18</td>\n",
       "      <td>146</td>\n",
       "      <td>False</td>\n",
       "    </tr>\n",
       "  </tbody>\n",
       "</table>\n",
       "</div>"
      ],
      "text/plain": [
       "        game_id team_id  r  pitcher_ct game_start_dt  game_length_minutes  \\\n",
       "0  BAL195504120     BAL  1           3    1955-04-12                  145   \n",
       "1  BAL195504120     BOS  7           1    1955-04-12                  145   \n",
       "2  BAL195504180     BAL  0           3    1955-04-18                  146   \n",
       "3  BAL195504180     NYA  6           1    1955-04-18                  146   \n",
       "\n",
       "      dh  \n",
       "0  False  \n",
       "1  False  \n",
       "2  False  \n",
       "3  False  "
      ]
     },
     "execution_count": 9,
     "metadata": {},
     "output_type": "execute_result"
    }
   ],
   "source": [
    "# by default, Pandas will perform an inner_join on columns having the same name\n",
    "df = pd.merge(team_game, game)\n",
    "df.head(4)"
   ]
  },
  {
   "cell_type": "code",
   "execution_count": 10,
   "metadata": {},
   "outputs": [
    {
     "data": {
      "text/html": [
       "<div>\n",
       "<style scoped>\n",
       "    .dataframe tbody tr th:only-of-type {\n",
       "        vertical-align: middle;\n",
       "    }\n",
       "\n",
       "    .dataframe tbody tr th {\n",
       "        vertical-align: top;\n",
       "    }\n",
       "\n",
       "    .dataframe thead th {\n",
       "        text-align: right;\n",
       "    }\n",
       "</style>\n",
       "<table border=\"1\" class=\"dataframe\">\n",
       "  <thead>\n",
       "    <tr style=\"text-align: right;\">\n",
       "      <th></th>\n",
       "      <th>game_id</th>\n",
       "      <th>team_id</th>\n",
       "      <th>r</th>\n",
       "      <th>pitcher_ct</th>\n",
       "      <th>game_start_dt</th>\n",
       "      <th>game_length_minutes</th>\n",
       "      <th>dh</th>\n",
       "      <th>year</th>\n",
       "    </tr>\n",
       "  </thead>\n",
       "  <tbody>\n",
       "    <tr>\n",
       "      <th>0</th>\n",
       "      <td>BAL195504120</td>\n",
       "      <td>BAL</td>\n",
       "      <td>1</td>\n",
       "      <td>3</td>\n",
       "      <td>1955-04-12</td>\n",
       "      <td>145</td>\n",
       "      <td>False</td>\n",
       "      <td>1955</td>\n",
       "    </tr>\n",
       "    <tr>\n",
       "      <th>1</th>\n",
       "      <td>BAL195504120</td>\n",
       "      <td>BOS</td>\n",
       "      <td>7</td>\n",
       "      <td>1</td>\n",
       "      <td>1955-04-12</td>\n",
       "      <td>145</td>\n",
       "      <td>False</td>\n",
       "      <td>1955</td>\n",
       "    </tr>\n",
       "    <tr>\n",
       "      <th>2</th>\n",
       "      <td>BAL195504180</td>\n",
       "      <td>BAL</td>\n",
       "      <td>0</td>\n",
       "      <td>3</td>\n",
       "      <td>1955-04-18</td>\n",
       "      <td>146</td>\n",
       "      <td>False</td>\n",
       "      <td>1955</td>\n",
       "    </tr>\n",
       "    <tr>\n",
       "      <th>3</th>\n",
       "      <td>BAL195504180</td>\n",
       "      <td>NYA</td>\n",
       "      <td>6</td>\n",
       "      <td>1</td>\n",
       "      <td>1955-04-18</td>\n",
       "      <td>146</td>\n",
       "      <td>False</td>\n",
       "      <td>1955</td>\n",
       "    </tr>\n",
       "  </tbody>\n",
       "</table>\n",
       "</div>"
      ],
      "text/plain": [
       "        game_id team_id  r  pitcher_ct game_start_dt  game_length_minutes  \\\n",
       "0  BAL195504120     BAL  1           3    1955-04-12                  145   \n",
       "1  BAL195504120     BOS  7           1    1955-04-12                  145   \n",
       "2  BAL195504180     BAL  0           3    1955-04-18                  146   \n",
       "3  BAL195504180     NYA  6           1    1955-04-18                  146   \n",
       "\n",
       "      dh  year  \n",
       "0  False  1955  \n",
       "1  False  1955  \n",
       "2  False  1955  \n",
       "3  False  1955  "
      ]
     },
     "execution_count": 10,
     "metadata": {},
     "output_type": "execute_result"
    }
   ],
   "source": [
    "# the analysis clearer using an explicit date column\n",
    "df['year'] = df['game_start_dt'].dt.year\n",
    "df.head(4)"
   ]
  },
  {
   "cell_type": "markdown",
   "metadata": {},
   "source": [
    "# Are Baseball Games Getting Longer ?"
   ]
  },
  {
   "cell_type": "code",
   "execution_count": 11,
   "metadata": {},
   "outputs": [
    {
     "data": {
      "text/html": [
       "<div>\n",
       "<style scoped>\n",
       "    .dataframe tbody tr th:only-of-type {\n",
       "        vertical-align: middle;\n",
       "    }\n",
       "\n",
       "    .dataframe tbody tr th {\n",
       "        vertical-align: top;\n",
       "    }\n",
       "\n",
       "    .dataframe thead th {\n",
       "        text-align: right;\n",
       "    }\n",
       "</style>\n",
       "<table border=\"1\" class=\"dataframe\">\n",
       "  <thead>\n",
       "    <tr style=\"text-align: right;\">\n",
       "      <th></th>\n",
       "      <th>year</th>\n",
       "      <th>mean_game_len</th>\n",
       "    </tr>\n",
       "  </thead>\n",
       "  <tbody>\n",
       "    <tr>\n",
       "      <th>0</th>\n",
       "      <td>1955</td>\n",
       "      <td>152.139379</td>\n",
       "    </tr>\n",
       "    <tr>\n",
       "      <th>1</th>\n",
       "      <td>1956</td>\n",
       "      <td>152.490377</td>\n",
       "    </tr>\n",
       "    <tr>\n",
       "      <th>2</th>\n",
       "      <td>1957</td>\n",
       "      <td>154.104661</td>\n",
       "    </tr>\n",
       "    <tr>\n",
       "      <th>3</th>\n",
       "      <td>1958</td>\n",
       "      <td>151.839707</td>\n",
       "    </tr>\n",
       "    <tr>\n",
       "      <th>4</th>\n",
       "      <td>1959</td>\n",
       "      <td>154.607287</td>\n",
       "    </tr>\n",
       "  </tbody>\n",
       "</table>\n",
       "</div>"
      ],
      "text/plain": [
       "   year  mean_game_len\n",
       "0  1955     152.139379\n",
       "1  1956     152.490377\n",
       "2  1957     154.104661\n",
       "3  1958     151.839707\n",
       "4  1959     154.607287"
      ]
     },
     "execution_count": 11,
     "metadata": {},
     "output_type": "execute_result"
    }
   ],
   "source": [
    "# compute the mean game length per year\n",
    "mean_game_len = df.groupby('year').agg(mean_game_len=('game_length_minutes','mean')).reset_index()\n",
    "mean_game_len.head()"
   ]
  },
  {
   "cell_type": "markdown",
   "metadata": {},
   "source": [
    "For nicely annotated plots, matplotlib is often better.  \n",
    "For quick data exploration, seaborn is often better."
   ]
  },
  {
   "cell_type": "code",
   "execution_count": 12,
   "metadata": {},
   "outputs": [
    {
     "data": {
      "image/png": "[encoded data removed]",
      "text/plain": [
       "<Figure size 600x400 with 1 Axes>"
      ]
     },
     "metadata": {},
     "output_type": "display_data"
    }
   ],
   "source": [
    "# plot the data and the 3 year moving average\n",
    "plt.style.use('seaborn-darkgrid')\n",
    "\n",
    "fig, ax = plt.subplots()\n",
    "ax.set_title('Game Length vs Year')\n",
    "ax.set_xlabel('Year')\n",
    "ax.set_ylabel('Game Length in Minutes')\n",
    "ax.set_title('Game Length vs Year')\n",
    "ax.plot('year', 'mean_game_len', data = mean_game_len, label='Mean Length per Year')\n",
    "\n",
    "df_ma = mean_game_len.set_index('year').rolling(3).mean().reset_index()\n",
    "ax.plot('year', 'mean_game_len', data=df_ma, label='3 Yr Moving Avg')\n",
    "ax.legend();"
   ]
  },
  {
   "cell_type": "markdown",
   "metadata": {},
   "source": [
    "## Summary\n",
    "Baseball games are taking longer to complete.  From the mid 70s through 2019, the game length has increased by about 40 minutes.\n",
    "\n",
    "The drop in game time from 2000 to about 2005 might be due to a MLB rule change.  For the 2020 season, MLB has changed the rules to speed up games.  It will be interesting to see if the average game length for 2020 is lower than the 3 year moving average."
   ]
  },
  {
   "cell_type": "markdown",
   "metadata": {},
   "source": [
    "# Are Games Longer Due to Using More Pitchers?"
   ]
  },
  {
   "cell_type": "code",
   "execution_count": 13,
   "metadata": {},
   "outputs": [
    {
     "data": {
      "text/html": [
       "<div>\n",
       "<style scoped>\n",
       "    .dataframe tbody tr th:only-of-type {\n",
       "        vertical-align: middle;\n",
       "    }\n",
       "\n",
       "    .dataframe tbody tr th {\n",
       "        vertical-align: top;\n",
       "    }\n",
       "\n",
       "    .dataframe thead th {\n",
       "        text-align: right;\n",
       "    }\n",
       "</style>\n",
       "<table border=\"1\" class=\"dataframe\">\n",
       "  <thead>\n",
       "    <tr style=\"text-align: right;\">\n",
       "      <th></th>\n",
       "      <th>year</th>\n",
       "      <th>mean_pitcher_ct</th>\n",
       "    </tr>\n",
       "  </thead>\n",
       "  <tbody>\n",
       "    <tr>\n",
       "      <th>0</th>\n",
       "      <td>1955</td>\n",
       "      <td>2.412259</td>\n",
       "    </tr>\n",
       "    <tr>\n",
       "      <th>1</th>\n",
       "      <td>1956</td>\n",
       "      <td>2.397490</td>\n",
       "    </tr>\n",
       "    <tr>\n",
       "      <th>2</th>\n",
       "      <td>1957</td>\n",
       "      <td>2.437449</td>\n",
       "    </tr>\n",
       "    <tr>\n",
       "      <th>3</th>\n",
       "      <td>1958</td>\n",
       "      <td>2.437754</td>\n",
       "    </tr>\n",
       "    <tr>\n",
       "      <th>4</th>\n",
       "      <td>1959</td>\n",
       "      <td>2.393522</td>\n",
       "    </tr>\n",
       "  </tbody>\n",
       "</table>\n",
       "</div>"
      ],
      "text/plain": [
       "   year  mean_pitcher_ct\n",
       "0  1955         2.412259\n",
       "1  1956         2.397490\n",
       "2  1957         2.437449\n",
       "3  1958         2.437754\n",
       "4  1959         2.393522"
      ]
     },
     "execution_count": 13,
     "metadata": {},
     "output_type": "execute_result"
    }
   ],
   "source": [
    "# compute the mean pitcher count per year\n",
    "mean_pitcher_ct = df.groupby('year').agg(mean_pitcher_ct=('pitcher_ct','mean')).reset_index()\n",
    "mean_pitcher_ct.head()"
   ]
  },
  {
   "cell_type": "code",
   "execution_count": 14,
   "metadata": {},
   "outputs": [
    {
     "data": {
      "image/png": "[encoded data removed]",
      "text/plain": [
       "<Figure size 600x400 with 1 Axes>"
      ]
     },
     "metadata": {},
     "output_type": "display_data"
    }
   ],
   "source": [
    "fig, ax = plt.subplots()\n",
    "ax.set_title('Pitcher Count per Game vs Year')\n",
    "ax.set_xlabel('Year')\n",
    "ax.set_ylabel('Pitcher Count')\n",
    "\n",
    "ax.plot('year', 'mean_pitcher_ct', data=mean_pitcher_ct, label='Mean Pitchers per Game per Year')\n",
    "df_ma2 = mean_pitcher_ct.set_index('year').rolling(3).mean().reset_index()\n",
    "ax.plot('year', 'mean_pitcher_ct', data=df_ma2, label='3 Yr Moving Avg')\n",
    "ax.legend();"
   ]
  },
  {
   "cell_type": "markdown",
   "metadata": {},
   "source": [
    "The number of pitchers per game has been steadily increasing since the late 70s."
   ]
  },
  {
   "cell_type": "code",
   "execution_count": 15,
   "metadata": {
    "scrolled": false
   },
   "outputs": [
    {
     "data": {
      "image/png": "[encoded data removed]",
      "text/plain": [
       "<Figure size 640x480 with 2 Axes>"
      ]
     },
     "metadata": {},
     "output_type": "display_data"
    }
   ],
   "source": [
    "# show game length and pitcher count on same plot\n",
    "\n",
    "# compute 3 year moving averages\n",
    "df_ma = mean_game_len.set_index('year').rolling(3).mean().reset_index()\n",
    "df_ma2 = mean_pitcher_ct.set_index('year').rolling(3).mean().reset_index()\n",
    "\n",
    "x = df_ma['year']\n",
    "y1 = df_ma['mean_game_len']\n",
    "y2 = df_ma2['mean_pitcher_ct']\n",
    "\n",
    "plt.style.use('default')\n",
    "\n",
    "fig, ax1 = plt.subplots()\n",
    "ax1.set_title('Game Length and Pitchers vs Year')\n",
    "ax1.set_xlabel('Year')\n",
    "\n",
    "color = 'tab:red'\n",
    "ax1.set_ylabel('Minutes Per Game', color=color)\n",
    "lns1 = ax1.plot(x, y1, label='3 Yr MA of Game Length', color=color)\n",
    "ax1.tick_params(axis='y', labelcolor=color)\n",
    "\n",
    "# instantiate a second axes that shares the same x-axis\n",
    "ax2 = ax1.twinx()  \n",
    "\n",
    "color = 'tab:blue'\n",
    "ax2.set_ylabel('Pitchers Per Game', color=color)\n",
    "lns2 = ax2.plot(x, y2, label='3 Yr MA of Picther Count', color=color)\n",
    "ax2.tick_params(axis='y', labelcolor=color)\n",
    "\n",
    "# create the legend\n",
    "lns = lns1 + lns2\n",
    "labs = [l.get_label() for l in lns]\n",
    "ax1.legend(lns, labs, loc=0)\n",
    "\n",
    "fig.tight_layout()"
   ]
  },
  {
   "cell_type": "markdown",
   "metadata": {},
   "source": [
    "Both have been increasing since the late 70s.\n",
    "\n",
    "How correlated is the unsmoothed ungrouped data?"
   ]
  },
  {
   "cell_type": "code",
   "execution_count": 16,
   "metadata": {},
   "outputs": [
    {
     "data": {
      "text/plain": [
       "0.618"
      ]
     },
     "execution_count": 16,
     "metadata": {},
     "output_type": "execute_result"
    }
   ],
   "source": [
    "df['pitcher_ct'].corr(df['game_length_minutes']).round(3)"
   ]
  },
  {
   "cell_type": "code",
   "execution_count": 17,
   "metadata": {},
   "outputs": [
    {
     "data": {
      "text/plain": [
       "264596"
      ]
     },
     "execution_count": 17,
     "metadata": {},
     "output_type": "execute_result"
    }
   ],
   "source": [
    "len(df)"
   ]
  },
  {
   "cell_type": "code",
   "execution_count": 18,
   "metadata": {},
   "outputs": [
    {
     "data": {
      "text/html": [
       "<div>\n",
       "<style scoped>\n",
       "    .dataframe tbody tr th:only-of-type {\n",
       "        vertical-align: middle;\n",
       "    }\n",
       "\n",
       "    .dataframe tbody tr th {\n",
       "        vertical-align: top;\n",
       "    }\n",
       "\n",
       "    .dataframe thead th {\n",
       "        text-align: right;\n",
       "    }\n",
       "</style>\n",
       "<table border=\"1\" class=\"dataframe\">\n",
       "  <thead>\n",
       "    <tr style=\"text-align: right;\">\n",
       "      <th></th>\n",
       "      <th>pitcher_ct</th>\n",
       "      <th>game_length_minutes</th>\n",
       "    </tr>\n",
       "  </thead>\n",
       "  <tbody>\n",
       "    <tr>\n",
       "      <th>0</th>\n",
       "      <td>1</td>\n",
       "      <td>142.505230</td>\n",
       "    </tr>\n",
       "    <tr>\n",
       "      <th>1</th>\n",
       "      <td>2</td>\n",
       "      <td>154.011490</td>\n",
       "    </tr>\n",
       "    <tr>\n",
       "      <th>2</th>\n",
       "      <td>3</td>\n",
       "      <td>164.875985</td>\n",
       "    </tr>\n",
       "    <tr>\n",
       "      <th>3</th>\n",
       "      <td>4</td>\n",
       "      <td>175.669544</td>\n",
       "    </tr>\n",
       "    <tr>\n",
       "      <th>4</th>\n",
       "      <td>5</td>\n",
       "      <td>188.658580</td>\n",
       "    </tr>\n",
       "    <tr>\n",
       "      <th>5</th>\n",
       "      <td>6</td>\n",
       "      <td>204.684309</td>\n",
       "    </tr>\n",
       "    <tr>\n",
       "      <th>6</th>\n",
       "      <td>7</td>\n",
       "      <td>227.316333</td>\n",
       "    </tr>\n",
       "    <tr>\n",
       "      <th>7</th>\n",
       "      <td>8</td>\n",
       "      <td>253.409041</td>\n",
       "    </tr>\n",
       "    <tr>\n",
       "      <th>8</th>\n",
       "      <td>9</td>\n",
       "      <td>280.685841</td>\n",
       "    </tr>\n",
       "    <tr>\n",
       "      <th>9</th>\n",
       "      <td>10</td>\n",
       "      <td>295.017241</td>\n",
       "    </tr>\n",
       "    <tr>\n",
       "      <th>10</th>\n",
       "      <td>11</td>\n",
       "      <td>313.000000</td>\n",
       "    </tr>\n",
       "    <tr>\n",
       "      <th>11</th>\n",
       "      <td>12</td>\n",
       "      <td>331.400000</td>\n",
       "    </tr>\n",
       "    <tr>\n",
       "      <th>12</th>\n",
       "      <td>13</td>\n",
       "      <td>355.250000</td>\n",
       "    </tr>\n",
       "  </tbody>\n",
       "</table>\n",
       "</div>"
      ],
      "text/plain": [
       "    pitcher_ct  game_length_minutes\n",
       "0            1           142.505230\n",
       "1            2           154.011490\n",
       "2            3           164.875985\n",
       "3            4           175.669544\n",
       "4            5           188.658580\n",
       "5            6           204.684309\n",
       "6            7           227.316333\n",
       "7            8           253.409041\n",
       "8            9           280.685841\n",
       "9           10           295.017241\n",
       "10          11           313.000000\n",
       "11          12           331.400000\n",
       "12          13           355.250000"
      ]
     },
     "execution_count": 18,
     "metadata": {},
     "output_type": "execute_result"
    }
   ],
   "source": [
    "# create a set of points (pitcher_ct, mean game_length_minutes)\n",
    "df_pitcher_time = df.groupby(\n",
    "    'pitcher_ct', as_index=False)['game_length_minutes'].mean()\n",
    "df_pitcher_time"
   ]
  },
  {
   "cell_type": "code",
   "execution_count": 19,
   "metadata": {},
   "outputs": [
    {
     "data": {
      "image/png": "[encoded data removed]",
      "text/plain": [
       "<Figure size 500x500 with 1 Axes>"
      ]
     },
     "metadata": {},
     "output_type": "display_data"
    }
   ],
   "source": [
    "# the relationship looks quite linear\n",
    "sns.lmplot('pitcher_ct', 'game_length_minutes', data=df_pitcher_time);"
   ]
  },
  {
   "cell_type": "code",
   "execution_count": 20,
   "metadata": {},
   "outputs": [
    {
     "data": {
      "text/plain": [
       "LinregressResult(slope=12.443809969953797, intercept=128.10686151023674, rvalue=0.6177469195166662, pvalue=0.0, stderr=0.030795238632883658)"
      ]
     },
     "execution_count": 20,
     "metadata": {},
     "output_type": "execute_result"
    }
   ],
   "source": [
    "# get some additional stats from scipy's linear regression\n",
    "# note this uses *all* the games, not just the 13 points above\n",
    "linregress(df['pitcher_ct'], df['game_length_minutes'])"
   ]
  },
  {
   "cell_type": "markdown",
   "metadata": {},
   "source": [
    "From the Linear Regression:  \n",
    "* r = .618\n",
    "  * r^2 = .382 => 38% of the variance is explained by the number of pitchers using a linear model\n",
    "* p-value = 0.0 => statistically significant\n",
    "* slope  = 12.4  => each additional pitcher adds 12.4 minutes to game length"
   ]
  },
  {
   "cell_type": "markdown",
   "metadata": {},
   "source": [
    "The above is for the period 1955 through 2019.  Perhaps the relationship is different using just the last 3 years of data?"
   ]
  },
  {
   "cell_type": "code",
   "execution_count": 21,
   "metadata": {},
   "outputs": [
    {
     "data": {
      "text/plain": [
       "LinregressResult(slope=12.308532604873943, intercept=134.5750347238667, rvalue=0.619130565160506, pvalue=0.0, stderr=0.12930164768517483)"
      ]
     },
     "execution_count": 21,
     "metadata": {},
     "output_type": "execute_result"
    }
   ],
   "source": [
    "df_3years = df.query('year >= 2017')\n",
    "linregress(df_3years['pitcher_ct'], df_3years['game_length_minutes'])"
   ]
  },
  {
   "cell_type": "markdown",
   "metadata": {},
   "source": [
    "The values are nearly the same."
   ]
  },
  {
   "cell_type": "markdown",
   "metadata": {},
   "source": [
    "## Summary\n",
    "Game length and pitchers per game have both increased significantly since the late 70s.\n",
    "\n",
    "There is a statistically significant linear relationship between the number of pitchers used in a game, and the total time of the game.  Each additional pitcher is associated with a increase in game time of about 12 minutes.\n",
    "\n",
    "The increase in the number of pitchers explains about 38% of the variance, so there are other factors involved in game length.\n",
    "\n",
    "The new MLB rules for 2020 to speed up the game are clues as to what MLB thinks is causing the game to take so long.  The new rules are:\n",
    "* a pitcher must pitch to at least 3 batters or until the end of an inning (unless injured)\n",
    "* the time between innings is reduced by 5 seconds for most games (and 25 seconds for nationally televised games)\n",
    "* the number of meetings on the mound is reduced from 6 to 5 per game\n",
    "* instant reply will be fed more quickly to the dug out so the decision to challenge a call can be made more quickly"
   ]
  },
  {
   "cell_type": "markdown",
   "metadata": {},
   "source": [
    "# Are Games that Use a DH Higher Scoring?"
   ]
  },
  {
   "cell_type": "code",
   "execution_count": 22,
   "metadata": {},
   "outputs": [
    {
     "data": {
      "text/plain": [
       "1973"
      ]
     },
     "execution_count": 22,
     "metadata": {},
     "output_type": "execute_result"
    }
   ],
   "source": [
    "# find the first year that the DH was used\n",
    "dh_first = df.query('dh == True')['year'].min()\n",
    "dh_first"
   ]
  },
  {
   "cell_type": "code",
   "execution_count": 23,
   "metadata": {},
   "outputs": [
    {
     "data": {
      "text/html": [
       "<div>\n",
       "<style scoped>\n",
       "    .dataframe tbody tr th:only-of-type {\n",
       "        vertical-align: middle;\n",
       "    }\n",
       "\n",
       "    .dataframe tbody tr th {\n",
       "        vertical-align: top;\n",
       "    }\n",
       "\n",
       "    .dataframe thead th {\n",
       "        text-align: right;\n",
       "    }\n",
       "</style>\n",
       "<table border=\"1\" class=\"dataframe\">\n",
       "  <thead>\n",
       "    <tr style=\"text-align: right;\">\n",
       "      <th></th>\n",
       "      <th>game_id</th>\n",
       "      <th>team_id</th>\n",
       "      <th>r</th>\n",
       "      <th>pitcher_ct</th>\n",
       "      <th>game_start_dt</th>\n",
       "      <th>game_length_minutes</th>\n",
       "      <th>dh</th>\n",
       "      <th>year</th>\n",
       "    </tr>\n",
       "  </thead>\n",
       "  <tbody>\n",
       "    <tr>\n",
       "      <th>153168</th>\n",
       "      <td>ANA199704020</td>\n",
       "      <td>ANA</td>\n",
       "      <td>5</td>\n",
       "      <td>5</td>\n",
       "      <td>1997-04-02 19:38:00</td>\n",
       "      <td>227</td>\n",
       "      <td>True</td>\n",
       "      <td>1997</td>\n",
       "    </tr>\n",
       "    <tr>\n",
       "      <th>153169</th>\n",
       "      <td>ANA199704020</td>\n",
       "      <td>BOS</td>\n",
       "      <td>6</td>\n",
       "      <td>5</td>\n",
       "      <td>1997-04-02 19:38:00</td>\n",
       "      <td>227</td>\n",
       "      <td>True</td>\n",
       "      <td>1997</td>\n",
       "    </tr>\n",
       "    <tr>\n",
       "      <th>153170</th>\n",
       "      <td>ANA199704030</td>\n",
       "      <td>ANA</td>\n",
       "      <td>2</td>\n",
       "      <td>1</td>\n",
       "      <td>1997-04-03 19:38:00</td>\n",
       "      <td>127</td>\n",
       "      <td>True</td>\n",
       "      <td>1997</td>\n",
       "    </tr>\n",
       "    <tr>\n",
       "      <th>153171</th>\n",
       "      <td>ANA199704030</td>\n",
       "      <td>BOS</td>\n",
       "      <td>0</td>\n",
       "      <td>3</td>\n",
       "      <td>1997-04-03 19:38:00</td>\n",
       "      <td>127</td>\n",
       "      <td>True</td>\n",
       "      <td>1997</td>\n",
       "    </tr>\n",
       "    <tr>\n",
       "      <th>153172</th>\n",
       "      <td>ANA199704040</td>\n",
       "      <td>ANA</td>\n",
       "      <td>8</td>\n",
       "      <td>6</td>\n",
       "      <td>1997-04-04 19:06:00</td>\n",
       "      <td>252</td>\n",
       "      <td>True</td>\n",
       "      <td>1997</td>\n",
       "    </tr>\n",
       "  </tbody>\n",
       "</table>\n",
       "</div>"
      ],
      "text/plain": [
       "             game_id team_id  r  pitcher_ct       game_start_dt  \\\n",
       "153168  ANA199704020     ANA  5           5 1997-04-02 19:38:00   \n",
       "153169  ANA199704020     BOS  6           5 1997-04-02 19:38:00   \n",
       "153170  ANA199704030     ANA  2           1 1997-04-03 19:38:00   \n",
       "153171  ANA199704030     BOS  0           3 1997-04-03 19:38:00   \n",
       "153172  ANA199704040     ANA  8           6 1997-04-04 19:06:00   \n",
       "\n",
       "        game_length_minutes    dh  year  \n",
       "153168                  227  True  1997  \n",
       "153169                  227  True  1997  \n",
       "153170                  127  True  1997  \n",
       "153171                  127  True  1997  \n",
       "153172                  252  True  1997  "
      ]
     },
     "execution_count": 23,
     "metadata": {},
     "output_type": "execute_result"
    }
   ],
   "source": [
    "# only consider games from that year on\n",
    "# sort by the team_game's primary key, so that the results are repeatable\n",
    "game_dh = df.query('year >= @dh_first').sort_values(['game_id', 'team_id'])\n",
    "game_dh.head()"
   ]
  },
  {
   "cell_type": "code",
   "execution_count": 24,
   "metadata": {},
   "outputs": [
    {
     "data": {
      "text/html": [
       "<div>\n",
       "<style scoped>\n",
       "    .dataframe tbody tr th:only-of-type {\n",
       "        vertical-align: middle;\n",
       "    }\n",
       "\n",
       "    .dataframe tbody tr th {\n",
       "        vertical-align: top;\n",
       "    }\n",
       "\n",
       "    .dataframe thead th {\n",
       "        text-align: right;\n",
       "    }\n",
       "</style>\n",
       "<table border=\"1\" class=\"dataframe\">\n",
       "  <thead>\n",
       "    <tr style=\"text-align: right;\">\n",
       "      <th></th>\n",
       "      <th>mean</th>\n",
       "      <th>count</th>\n",
       "    </tr>\n",
       "    <tr>\n",
       "      <th>dh</th>\n",
       "      <th></th>\n",
       "      <th></th>\n",
       "    </tr>\n",
       "  </thead>\n",
       "  <tbody>\n",
       "    <tr>\n",
       "      <th>False</th>\n",
       "      <td>4.362824</td>\n",
       "      <td>104508</td>\n",
       "    </tr>\n",
       "    <tr>\n",
       "      <th>True</th>\n",
       "      <td>4.626851</td>\n",
       "      <td>104658</td>\n",
       "    </tr>\n",
       "  </tbody>\n",
       "</table>\n",
       "</div>"
      ],
      "text/plain": [
       "           mean   count\n",
       "dh                     \n",
       "False  4.362824  104508\n",
       "True   4.626851  104658"
      ]
     },
     "execution_count": 24,
     "metadata": {},
     "output_type": "execute_result"
    }
   ],
   "source": [
    "dh_df = game_dh.groupby('dh')['r'].agg(['mean', 'count'])\n",
    "dh_df                             "
   ]
  },
  {
   "cell_type": "code",
   "execution_count": 25,
   "metadata": {},
   "outputs": [
    {
     "data": {
      "text/plain": [
       "0.2640273692904769"
      ]
     },
     "execution_count": 25,
     "metadata": {},
     "output_type": "execute_result"
    }
   ],
   "source": [
    "delta = dh_df.loc[True, 'mean'] - dh_df.loc[False, 'mean']\n",
    "delta"
   ]
  },
  {
   "cell_type": "markdown",
   "metadata": {},
   "source": [
    "Given the large number of games, this looks significant.  Run the <a href=\"https://en.wikipedia.org/wiki/Resampling_(statistics)#Monte_Carlo_testing\">Monte Carlo</a> version of the <a href=\"https://en.wikipedia.org/wiki/Resampling_(statistics)#Permutation_tests\">Permutation Test</a> to see how likely this large of a difference is."
   ]
  },
  {
   "cell_type": "code",
   "execution_count": 26,
   "metadata": {},
   "outputs": [],
   "source": [
    "dh_r = game_dh.query('dh == True')['r']\n",
    "no_dh_r = game_dh.query('dh == False')['r']"
   ]
  },
  {
   "cell_type": "code",
   "execution_count": 27,
   "metadata": {},
   "outputs": [],
   "source": [
    "def perm_test(x, y):\n",
    "    pooled = np.hstack([x, y])\n",
    "    np.random.shuffle(pooled)\n",
    "    x_sample = pooled[:len(x)]\n",
    "    y_sample = pooled[len(x):]\n",
    "    return x_sample.mean() - y_sample.mean()"
   ]
  },
  {
   "cell_type": "code",
   "execution_count": 28,
   "metadata": {},
   "outputs": [],
   "source": [
    "# set the random seed, so that the results are repeatable\n",
    "np.random.seed(100)\n",
    "N = 1000\n",
    "result_array = np.empty(N)\n",
    "for i in range(N):\n",
    "    result_array[i] = perm_test(dh_r, no_dh_r)"
   ]
  },
  {
   "cell_type": "code",
   "execution_count": 29,
   "metadata": {},
   "outputs": [
    {
     "data": {
      "text/plain": [
       "(-0.0462909108361087, 0.04569349339196016)"
      ]
     },
     "execution_count": 29,
     "metadata": {},
     "output_type": "execute_result"
    }
   ],
   "source": [
    "result_array.min(), result_array.max()"
   ]
  },
  {
   "cell_type": "code",
   "execution_count": 30,
   "metadata": {},
   "outputs": [
    {
     "data": {
      "text/plain": [
       "0"
      ]
     },
     "execution_count": 30,
     "metadata": {},
     "output_type": "execute_result"
    }
   ],
   "source": [
    "(result_array >= delta).sum()"
   ]
  },
  {
   "cell_type": "markdown",
   "metadata": {},
   "source": [
    "There are no random permutations which show anywhere near as large of a run difference as was observed by partitioning games into \"DH\" and \"no DH\"."
   ]
  },
  {
   "cell_type": "code",
   "execution_count": 31,
   "metadata": {},
   "outputs": [
    {
     "data": {
      "image/png": "[encoded data removed]",
      "text/plain": [
       "<Figure size 531x300 with 1 Axes>"
      ]
     },
     "metadata": {},
     "output_type": "display_data"
    }
   ],
   "source": [
    "# seaborn catplot: group by values of 'x' and display the mean of 'y'\n",
    "plt.style.use('seaborn-darkgrid')\n",
    "sns.catplot(x=\"dh\", y=\"r\", data=df, kind=\"point\", height=3, aspect=1.77)\n",
    "plt.title('Runs by DH');"
   ]
  },
  {
   "cell_type": "markdown",
   "metadata": {},
   "source": [
    "## Summary\n",
    "On average, about 1/4 of a run per team per game more is scored when the Designated Hitter is used. This difference is much greater than could be observed by chance alone.\n",
    "\n",
    "The DH is better at producing runs than the pitcher.  (It would be interesting to compare the wOBA Sabermetric for pitchers vs the DH.)\n",
    "\n",
    "That said, the DH may not be responsible the entire 1/4 run difference.  There may be additional factors because the DH is only used in the American League and perhaps there is something else different about hitting in the American League.  Perhaps it's easier to score runs in American league parks.  Perhaps the National League has much better pitchers.  These are not likely to be as significant to run scoring as the use of the DH, but further analysis would be needed to say if the entire 1/4 run per team per game could be attributed to the use of the DH.\n",
    "\n",
    "As the DH is only used in games that are played in American League parks, it would be more accurate to summarize the above as:\n",
    "* games played in American League parks have about 1/4 run per team per game more than games played in National League parks"
   ]
  }
 ],
 "metadata": {
  "kernelspec": {
   "display_name": "Python 3",
   "language": "python",
   "name": "python3"
  },
  "language_info": {
   "codemirror_mode": {
    "name": "ipython",
    "version": 3
   },
   "file_extension": ".py",
   "mimetype": "text/x-python",
   "name": "python",
   "nbconvert_exporter": "python",
   "pygments_lexer": "ipython3",
   "version": "3.7.5"
  }
 },
 "nbformat": 4,
 "nbformat_minor": 2
}
