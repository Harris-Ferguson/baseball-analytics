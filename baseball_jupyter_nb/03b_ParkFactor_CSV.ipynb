{
 "cells": [
  {
   "cell_type": "markdown",
   "metadata": {},
   "source": [
    "# Sabermetrics: Computing Park Factors<br>Accounting for Road Schedule\n",
    "\n",
    "\n",
    "&#128308; First Draft\n",
    "\n",
    "As with the previous notebook, the home team not playing in the home park will be accounted for.  Additionally, the Park Factor will be adjusted by considering each team's road schedule.\n",
    "\n",
    "In some cases, adjusting for the road schedule makes a significant difference."
   ]
  },
  {
   "cell_type": "markdown",
   "metadata": {},
   "source": [
    "## Road Games not at Parks with PF = 1.0   \n",
    "Each team's opponent schedule is not uniform.  The basic PF formula assumes that the average PF is 1.0 for all road games, but this is not the case.\n",
    "\n",
    "One way to account for this is to use the basic PF formula to get an initial PF per park, then adjust the runs scored on the road using this PF for each road game.  The adjusted run total on the road can then be used to compute a new PF per park.  This process can be repeated.  The result being that each team's road schedule is taken into account when computing their home park factor.\n",
    "\n",
    "This will be the approach taken in this notebook."
   ]
  },
  {
   "cell_type": "code",
   "execution_count": 1,
   "metadata": {},
   "outputs": [],
   "source": [
    "import os\n",
    "import pandas as pd\n",
    "import numpy as np\n",
    "from pathlib import Path\n",
    "import re"
   ]
  },
  {
   "cell_type": "code",
   "execution_count": 2,
   "metadata": {},
   "outputs": [],
   "source": [
    "import sys\n",
    "\n",
    "# import data_helper.py from download_scripts directory\n",
    "sys.path.append('../download_scripts')\n",
    "import data_helper as dh"
   ]
  },
  {
   "cell_type": "code",
   "execution_count": 3,
   "metadata": {},
   "outputs": [],
   "source": [
    "data_dir = Path('../data')\n",
    "lahman_data = data_dir.joinpath('lahman/wrangled').resolve()\n",
    "retrosheet_data = data_dir.joinpath('retrosheet/wrangled').resolve()"
   ]
  },
  {
   "cell_type": "markdown",
   "metadata": {},
   "source": [
    "## Read in the Data\n",
    "Reading in the data up front makes the code clearer, but may use more memory. By only selecting the columns that are needed, much less memory is used as these are very wide csv files."
   ]
  },
  {
   "cell_type": "code",
   "execution_count": 4,
   "metadata": {},
   "outputs": [],
   "source": [
    "cols = ['game_id', 'year', 'bat_last', 'team_id', 'opponent_team_id', 'r']\n",
    "team_game = dh.from_csv_with_types(retrosheet_data / 'team_game.csv.gz', usecols=cols)"
   ]
  },
  {
   "cell_type": "code",
   "execution_count": 5,
   "metadata": {},
   "outputs": [],
   "source": [
    "cols = ['game_id', 'park_id', 'game_start']\n",
    "game = dh.from_csv_with_types(retrosheet_data / 'game.csv.gz', usecols=cols)"
   ]
  },
  {
   "cell_type": "code",
   "execution_count": 6,
   "metadata": {},
   "outputs": [],
   "source": [
    "parks = dh.from_csv_with_types(retrosheet_data / 'parks.csv')"
   ]
  },
  {
   "cell_type": "code",
   "execution_count": 7,
   "metadata": {},
   "outputs": [],
   "source": [
    "teams = dh.from_csv_with_types(retrosheet_data / 'teams.csv')"
   ]
  },
  {
   "cell_type": "code",
   "execution_count": 8,
   "metadata": {},
   "outputs": [],
   "source": [
    "# for now, focus on 2015 onward\n",
    "team_game = team_game.query('year >= 2015')\n",
    "game['year'] = game['game_start'].dt.year\n",
    "game = game.query('year >= 2015')\n",
    "game = game.drop(columns='game_start')"
   ]
  },
  {
   "cell_type": "markdown",
   "metadata": {},
   "source": [
    "# Data Processing\n",
    "This section is identical to the Data Processing section in the previous notebook."
   ]
  },
  {
   "cell_type": "code",
   "execution_count": 9,
   "metadata": {},
   "outputs": [],
   "source": [
    "def create_tg_parks(team_game, game):\n",
    "    \"\"\"Create minimal team_game dataframe with park_id.\"\"\"\n",
    "\n",
    "    cols = ['team_id', 'year', 'park_id', 'game_id', 'bat_last', 'r', 'opponent_team_id']\n",
    "    tg_parks = team_game.merge(game)[cols]\n",
    "\n",
    "    tg_parks = tg_parks.set_index(['team_id', 'year', 'park_id'])\n",
    "\n",
    "    return tg_parks"
   ]
  },
  {
   "cell_type": "code",
   "execution_count": 10,
   "metadata": {},
   "outputs": [],
   "source": [
    "def create_home_parks(tg_parks):\n",
    "    \"\"\"Create minimal home_parks dataframe which has home park_id per team per year.\"\"\"\n",
    "\n",
    "    # count games per team per year per park\n",
    "    hp = tg_parks.groupby(['team_id', 'year', 'park_id']).agg(games=('game_id', 'count'))\n",
    "\n",
    "    # rank number of games per team per year\n",
    "    hp['rank'] = hp.groupby(['team_id', 'year'])['games'].rank(ascending=False, method='first')\n",
    "\n",
    "    # each team's home park is the park with the most games (rank == 1)\n",
    "    home_parks = hp.query('rank == 1').copy()\n",
    "    home_parks = home_parks.drop(columns=['rank', 'games'])\n",
    "\n",
    "    return home_parks"
   ]
  },
  {
   "cell_type": "code",
   "execution_count": 11,
   "metadata": {},
   "outputs": [],
   "source": [
    "def create_home_parks_bats_last(home_parks, team_game, tg_parks):\n",
    "    \"\"\"Create dataframe with each game's park_id and the team batting last's home park_id.\"\"\"\n",
    "\n",
    "    # get game's park_id\n",
    "    bats_last = tg_parks.query('bat_last == True').reset_index().set_index(['team_id', 'year'])\n",
    "\n",
    "    # get team's home park_id\n",
    "    hp = home_parks.reset_index().set_index(['team_id', 'year'])\n",
    "\n",
    "    return hp.join(bats_last, lsuffix='_home', rsuffix='_game')"
   ]
  },
  {
   "cell_type": "code",
   "execution_count": 12,
   "metadata": {},
   "outputs": [],
   "source": [
    "def remove_games(home_parks_bats_last, team_game):\n",
    "    \"\"\"Remove games in which team batting last is not at home park.\"\"\"\n",
    "\n",
    "    # get the game_id where the park_ids do not match\n",
    "    diff = home_parks_bats_last.query('park_id_game != park_id_home')\n",
    "\n",
    "    # filter out those game_ids from team_game\n",
    "    filt = team_game['game_id'].isin(diff['game_id'])\n",
    "    return team_game[~filt]   "
   ]
  },
  {
   "cell_type": "code",
   "execution_count": 13,
   "metadata": {},
   "outputs": [],
   "source": [
    "def compute_runs_scored(tg_park):\n",
    "    \"\"\"Compute Runs Scored per team per year per park.\"\"\"\n",
    "\n",
    "    cols = ['team_id', 'year', 'park_id']\n",
    "    return tg_park.groupby(cols).agg(games=('game_id', 'count'), rs=('r', 'sum'))"
   ]
  },
  {
   "cell_type": "code",
   "execution_count": 14,
   "metadata": {},
   "outputs": [],
   "source": [
    "def compute_runs_allowed(tg_park):\n",
    "    \"\"\"Compute Runs Allowed per team per year per park.\"\"\"\n",
    "\n",
    "    cols = ['opponent_team_id', 'year', 'park_id']\n",
    "    tmp = tg_park.groupby(cols).agg(games=('game_id', 'count'), ra=('r', 'sum'))\n",
    "    return tmp.rename_axis(['team_id', 'year', 'park_id'])"
   ]
  },
  {
   "cell_type": "code",
   "execution_count": 15,
   "metadata": {},
   "outputs": [],
   "source": [
    "def compute_runs_total(runs_scored, runs_allowed):\n",
    "    \"\"\"Join RS to RA create single dataframe.  Rank by games to find home_parks_runs.\"\"\"\n",
    "\n",
    "    rt = runs_scored.join(runs_allowed, lsuffix='_rs', rsuffix='_ra')\n",
    "\n",
    "    # validate code\n",
    "    assert (rt['games_rs'] == rt['games_ra']).all()\n",
    "    assert rt['ra'].sum() == rt['rs'].sum()\n",
    "\n",
    "    # rank games per team per year\n",
    "    rt = rt.rename(columns={'games_rs': 'games'})\n",
    "    rt = rt.drop(columns=['games_ra'])\n",
    "    rt['rt'] = rt['rs'] + rt['ra']\n",
    "    rt['rank'] = rt['games'].groupby(['team_id', 'year']).rank(ascending=False, method='first')\n",
    "    \n",
    "    rt = rt.drop(columns=['rs', 'ra'])\n",
    "\n",
    "    return rt"
   ]
  },
  {
   "cell_type": "code",
   "execution_count": 16,
   "metadata": {},
   "outputs": [],
   "source": [
    "def create_home_parks_runs(runs_total):\n",
    "    \"\"\"Similar to create_home_parks, except it has runs total and averge runs per game.\"\"\"\n",
    "\n",
    "    hp = runs_total.query('rank == 1').copy()\n",
    "    hp = hp.drop(columns='rank')\n",
    "    hp['r_avg'] = hp['rt'] / hp['games']\n",
    "\n",
    "    return hp"
   ]
  },
  {
   "cell_type": "code",
   "execution_count": 17,
   "metadata": {},
   "outputs": [],
   "source": [
    "def create_road_parks_runs(runs_total):\n",
    "    \"\"\"Create dataframe with runs per team per road-park per year\"\"\"\n",
    "    rp = runs_total.query('rank > 1').copy()\n",
    "    rp = rp.drop(columns='rank')\n",
    "    \n",
    "    return rp"
   ]
  },
  {
   "cell_type": "code",
   "execution_count": 18,
   "metadata": {},
   "outputs": [],
   "source": [
    "def compute_road_totals(road_parks):\n",
    "    \"\"\"Sum the totals on the road for per team per year.\"\"\"\n",
    "    \n",
    "    road_totals = road_parks.groupby(['team_id', 'year']).agg(\n",
    "        rt=('rt', 'sum'), games=('games', 'sum'))\n",
    "    road_totals['r_avg'] = road_totals['rt'] / road_totals['games']\n",
    "    \n",
    "    return road_totals"
   ]
  },
  {
   "cell_type": "code",
   "execution_count": 19,
   "metadata": {},
   "outputs": [],
   "source": [
    "def compute_pf(home_parks_runs, road_totals):\n",
    "    \"\"\"Compute Park Factor.\"\"\"\n",
    "    \n",
    "    pf = home_parks_runs['r_avg'] / road_totals['r_avg']\n",
    "    pf = pf.to_frame()\n",
    "    pf.columns = ['pf']\n",
    "\n",
    "    return pf"
   ]
  },
  {
   "cell_type": "code",
   "execution_count": 20,
   "metadata": {},
   "outputs": [],
   "source": [
    "# find which games to remove and remove them\n",
    "tg_parks = create_tg_parks(team_game, game)\n",
    "home_parks = create_home_parks(tg_parks)\n",
    "home_parks_bats_last = create_home_parks_bats_last(home_parks, team_game, tg_parks)\n",
    "team_game = remove_games(home_parks_bats_last, team_game)\n",
    "\n",
    "# recompute tg_parks with fewer games\n",
    "tg_parks = create_tg_parks(team_game, game)"
   ]
  },
  {
   "cell_type": "code",
   "execution_count": 21,
   "metadata": {},
   "outputs": [],
   "source": [
    "# compute runs scored and runs allowed\n",
    "runs_scored = compute_runs_scored(tg_parks)\n",
    "runs_allowed = compute_runs_allowed(tg_parks)\n",
    "runs_total = compute_runs_total(runs_scored, runs_allowed)"
   ]
  },
  {
   "cell_type": "code",
   "execution_count": 22,
   "metadata": {},
   "outputs": [],
   "source": [
    "# pull in the pf from home_parks_runs\n",
    "home_parks_runs = create_home_parks_runs(runs_total)\n",
    "road_parks_runs = create_road_parks_runs(runs_total)\n",
    "road_totals = compute_road_totals(road_parks_runs)"
   ]
  },
  {
   "cell_type": "code",
   "execution_count": 23,
   "metadata": {
    "scrolled": true
   },
   "outputs": [
    {
     "data": {
      "text/html": [
       "<div>\n",
       "<style scoped>\n",
       "    .dataframe tbody tr th:only-of-type {\n",
       "        vertical-align: middle;\n",
       "    }\n",
       "\n",
       "    .dataframe tbody tr th {\n",
       "        vertical-align: top;\n",
       "    }\n",
       "\n",
       "    .dataframe thead th {\n",
       "        text-align: right;\n",
       "    }\n",
       "</style>\n",
       "<table border=\"1\" class=\"dataframe\">\n",
       "  <thead>\n",
       "    <tr style=\"text-align: right;\">\n",
       "      <th></th>\n",
       "      <th></th>\n",
       "      <th></th>\n",
       "      <th>pf</th>\n",
       "    </tr>\n",
       "    <tr>\n",
       "      <th>team_id</th>\n",
       "      <th>year</th>\n",
       "      <th>park_id</th>\n",
       "      <th></th>\n",
       "    </tr>\n",
       "  </thead>\n",
       "  <tbody>\n",
       "    <tr>\n",
       "      <th rowspan=\"5\" valign=\"top\">ANA</th>\n",
       "      <th>2015</th>\n",
       "      <th>ANA01</th>\n",
       "      <td>0.860724</td>\n",
       "    </tr>\n",
       "    <tr>\n",
       "      <th>2016</th>\n",
       "      <th>ANA01</th>\n",
       "      <td>0.910053</td>\n",
       "    </tr>\n",
       "    <tr>\n",
       "      <th>2017</th>\n",
       "      <th>ANA01</th>\n",
       "      <td>0.949176</td>\n",
       "    </tr>\n",
       "    <tr>\n",
       "      <th>2018</th>\n",
       "      <th>ANA01</th>\n",
       "      <td>0.968622</td>\n",
       "    </tr>\n",
       "    <tr>\n",
       "      <th>2019</th>\n",
       "      <th>ANA01</th>\n",
       "      <td>1.006353</td>\n",
       "    </tr>\n",
       "    <tr>\n",
       "      <th rowspan=\"2\" valign=\"top\">ARI</th>\n",
       "      <th>2015</th>\n",
       "      <th>PHO01</th>\n",
       "      <td>1.061871</td>\n",
       "    </tr>\n",
       "    <tr>\n",
       "      <th>2016</th>\n",
       "      <th>PHO01</th>\n",
       "      <td>1.224932</td>\n",
       "    </tr>\n",
       "  </tbody>\n",
       "</table>\n",
       "</div>"
      ],
      "text/plain": [
       "                            pf\n",
       "team_id year park_id          \n",
       "ANA     2015 ANA01    0.860724\n",
       "        2016 ANA01    0.910053\n",
       "        2017 ANA01    0.949176\n",
       "        2018 ANA01    0.968622\n",
       "        2019 ANA01    1.006353\n",
       "ARI     2015 PHO01    1.061871\n",
       "        2016 PHO01    1.224932"
      ]
     },
     "execution_count": 23,
     "metadata": {},
     "output_type": "execute_result"
    }
   ],
   "source": [
    "pf = compute_pf(home_parks_runs, road_totals)\n",
    "pf.head(7)"
   ]
  },
  {
   "cell_type": "code",
   "execution_count": 24,
   "metadata": {},
   "outputs": [
    {
     "data": {
      "text/html": [
       "<div>\n",
       "<style scoped>\n",
       "    .dataframe tbody tr th:only-of-type {\n",
       "        vertical-align: middle;\n",
       "    }\n",
       "\n",
       "    .dataframe tbody tr th {\n",
       "        vertical-align: top;\n",
       "    }\n",
       "\n",
       "    .dataframe thead th {\n",
       "        text-align: right;\n",
       "    }\n",
       "</style>\n",
       "<table border=\"1\" class=\"dataframe\">\n",
       "  <thead>\n",
       "    <tr style=\"text-align: right;\">\n",
       "      <th></th>\n",
       "      <th></th>\n",
       "      <th></th>\n",
       "      <th>games</th>\n",
       "      <th>rt</th>\n",
       "      <th>r_avg</th>\n",
       "    </tr>\n",
       "    <tr>\n",
       "      <th>team_id</th>\n",
       "      <th>year</th>\n",
       "      <th>park_id</th>\n",
       "      <th></th>\n",
       "      <th></th>\n",
       "      <th></th>\n",
       "    </tr>\n",
       "  </thead>\n",
       "  <tbody>\n",
       "    <tr>\n",
       "      <th rowspan=\"3\" valign=\"top\">ANA</th>\n",
       "      <th>2015</th>\n",
       "      <th>ANA01</th>\n",
       "      <td>81</td>\n",
       "      <td>618.0</td>\n",
       "      <td>7.629630</td>\n",
       "    </tr>\n",
       "    <tr>\n",
       "      <th>2016</th>\n",
       "      <th>ANA01</th>\n",
       "      <td>81</td>\n",
       "      <td>688.0</td>\n",
       "      <td>8.493827</td>\n",
       "    </tr>\n",
       "    <tr>\n",
       "      <th>2017</th>\n",
       "      <th>ANA01</th>\n",
       "      <td>81</td>\n",
       "      <td>691.0</td>\n",
       "      <td>8.530864</td>\n",
       "    </tr>\n",
       "  </tbody>\n",
       "</table>\n",
       "</div>"
      ],
      "text/plain": [
       "                      games     rt     r_avg\n",
       "team_id year park_id                        \n",
       "ANA     2015 ANA01       81  618.0  7.629630\n",
       "        2016 ANA01       81  688.0  8.493827\n",
       "        2017 ANA01       81  691.0  8.530864"
      ]
     },
     "execution_count": 24,
     "metadata": {},
     "output_type": "execute_result"
    }
   ],
   "source": [
    "home_parks_runs.head(3)"
   ]
  },
  {
   "cell_type": "code",
   "execution_count": 25,
   "metadata": {},
   "outputs": [
    {
     "data": {
      "text/html": [
       "<div>\n",
       "<style scoped>\n",
       "    .dataframe tbody tr th:only-of-type {\n",
       "        vertical-align: middle;\n",
       "    }\n",
       "\n",
       "    .dataframe tbody tr th {\n",
       "        vertical-align: top;\n",
       "    }\n",
       "\n",
       "    .dataframe thead th {\n",
       "        text-align: right;\n",
       "    }\n",
       "</style>\n",
       "<table border=\"1\" class=\"dataframe\">\n",
       "  <thead>\n",
       "    <tr style=\"text-align: right;\">\n",
       "      <th></th>\n",
       "      <th></th>\n",
       "      <th></th>\n",
       "      <th>games</th>\n",
       "      <th>rt</th>\n",
       "    </tr>\n",
       "    <tr>\n",
       "      <th>team_id</th>\n",
       "      <th>year</th>\n",
       "      <th>park_id</th>\n",
       "      <th></th>\n",
       "      <th></th>\n",
       "    </tr>\n",
       "  </thead>\n",
       "  <tbody>\n",
       "    <tr>\n",
       "      <th rowspan=\"3\" valign=\"top\">ANA</th>\n",
       "      <th rowspan=\"3\" valign=\"top\">2015</th>\n",
       "      <th>ARL02</th>\n",
       "      <td>10</td>\n",
       "      <td>115.0</td>\n",
       "    </tr>\n",
       "    <tr>\n",
       "      <th>BAL12</th>\n",
       "      <td>3</td>\n",
       "      <td>14.0</td>\n",
       "    </tr>\n",
       "    <tr>\n",
       "      <th>BOS07</th>\n",
       "      <td>3</td>\n",
       "      <td>35.0</td>\n",
       "    </tr>\n",
       "  </tbody>\n",
       "</table>\n",
       "</div>"
      ],
      "text/plain": [
       "                      games     rt\n",
       "team_id year park_id              \n",
       "ANA     2015 ARL02       10  115.0\n",
       "             BAL12        3   14.0\n",
       "             BOS07        3   35.0"
      ]
     },
     "execution_count": 25,
     "metadata": {},
     "output_type": "execute_result"
    }
   ],
   "source": [
    "road_parks_runs.head(3)"
   ]
  },
  {
   "cell_type": "markdown",
   "metadata": {},
   "source": [
    "# Adjust for Road Schedule"
   ]
  },
  {
   "cell_type": "code",
   "execution_count": 26,
   "metadata": {},
   "outputs": [],
   "source": [
    "pf_orig = pf['pf']"
   ]
  },
  {
   "cell_type": "code",
   "execution_count": 27,
   "metadata": {},
   "outputs": [
    {
     "data": {
      "text/html": [
       "<div>\n",
       "<style scoped>\n",
       "    .dataframe tbody tr th:only-of-type {\n",
       "        vertical-align: middle;\n",
       "    }\n",
       "\n",
       "    .dataframe tbody tr th {\n",
       "        vertical-align: top;\n",
       "    }\n",
       "\n",
       "    .dataframe thead th {\n",
       "        text-align: right;\n",
       "    }\n",
       "</style>\n",
       "<table border=\"1\" class=\"dataframe\">\n",
       "  <thead>\n",
       "    <tr style=\"text-align: right;\">\n",
       "      <th></th>\n",
       "      <th></th>\n",
       "      <th></th>\n",
       "      <th>pf</th>\n",
       "      <th>pf_orig</th>\n",
       "      <th>pf_avg_road</th>\n",
       "    </tr>\n",
       "    <tr>\n",
       "      <th>team_id</th>\n",
       "      <th>year</th>\n",
       "      <th>park_id</th>\n",
       "      <th></th>\n",
       "      <th></th>\n",
       "      <th></th>\n",
       "    </tr>\n",
       "  </thead>\n",
       "  <tbody>\n",
       "    <tr>\n",
       "      <th>COL</th>\n",
       "      <th>2019</th>\n",
       "      <th>DEN02</th>\n",
       "      <td>1.306</td>\n",
       "      <td>1.394</td>\n",
       "      <td>0.936</td>\n",
       "    </tr>\n",
       "  </tbody>\n",
       "</table>\n",
       "</div>"
      ],
      "text/plain": [
       "                         pf  pf_orig  pf_avg_road\n",
       "team_id year park_id                             \n",
       "COL     2019 DEN02    1.306    1.394        0.936"
      ]
     },
     "metadata": {},
     "output_type": "display_data"
    },
    {
     "data": {
      "text/html": [
       "<div>\n",
       "<style scoped>\n",
       "    .dataframe tbody tr th:only-of-type {\n",
       "        vertical-align: middle;\n",
       "    }\n",
       "\n",
       "    .dataframe tbody tr th {\n",
       "        vertical-align: top;\n",
       "    }\n",
       "\n",
       "    .dataframe thead th {\n",
       "        text-align: right;\n",
       "    }\n",
       "</style>\n",
       "<table border=\"1\" class=\"dataframe\">\n",
       "  <thead>\n",
       "    <tr style=\"text-align: right;\">\n",
       "      <th></th>\n",
       "      <th></th>\n",
       "      <th></th>\n",
       "      <th>pf</th>\n",
       "      <th>pf_orig</th>\n",
       "      <th>pf_avg_road</th>\n",
       "    </tr>\n",
       "    <tr>\n",
       "      <th>team_id</th>\n",
       "      <th>year</th>\n",
       "      <th>park_id</th>\n",
       "      <th></th>\n",
       "      <th></th>\n",
       "      <th></th>\n",
       "    </tr>\n",
       "  </thead>\n",
       "  <tbody>\n",
       "    <tr>\n",
       "      <th>COL</th>\n",
       "      <th>2019</th>\n",
       "      <th>DEN02</th>\n",
       "      <td>1.311</td>\n",
       "      <td>1.394</td>\n",
       "      <td>0.939</td>\n",
       "    </tr>\n",
       "  </tbody>\n",
       "</table>\n",
       "</div>"
      ],
      "text/plain": [
       "                         pf  pf_orig  pf_avg_road\n",
       "team_id year park_id                             \n",
       "COL     2019 DEN02    1.311    1.394        0.939"
      ]
     },
     "metadata": {},
     "output_type": "display_data"
    },
    {
     "data": {
      "text/html": [
       "<div>\n",
       "<style scoped>\n",
       "    .dataframe tbody tr th:only-of-type {\n",
       "        vertical-align: middle;\n",
       "    }\n",
       "\n",
       "    .dataframe tbody tr th {\n",
       "        vertical-align: top;\n",
       "    }\n",
       "\n",
       "    .dataframe thead th {\n",
       "        text-align: right;\n",
       "    }\n",
       "</style>\n",
       "<table border=\"1\" class=\"dataframe\">\n",
       "  <thead>\n",
       "    <tr style=\"text-align: right;\">\n",
       "      <th></th>\n",
       "      <th></th>\n",
       "      <th></th>\n",
       "      <th>pf</th>\n",
       "      <th>pf_orig</th>\n",
       "      <th>pf_avg_road</th>\n",
       "    </tr>\n",
       "    <tr>\n",
       "      <th>team_id</th>\n",
       "      <th>year</th>\n",
       "      <th>park_id</th>\n",
       "      <th></th>\n",
       "      <th></th>\n",
       "      <th></th>\n",
       "    </tr>\n",
       "  </thead>\n",
       "  <tbody>\n",
       "    <tr>\n",
       "      <th>COL</th>\n",
       "      <th>2019</th>\n",
       "      <th>DEN02</th>\n",
       "      <td>1.305</td>\n",
       "      <td>1.394</td>\n",
       "      <td>0.935</td>\n",
       "    </tr>\n",
       "  </tbody>\n",
       "</table>\n",
       "</div>"
      ],
      "text/plain": [
       "                         pf  pf_orig  pf_avg_road\n",
       "team_id year park_id                             \n",
       "COL     2019 DEN02    1.305    1.394        0.935"
      ]
     },
     "metadata": {},
     "output_type": "display_data"
    },
    {
     "data": {
      "text/html": [
       "<div>\n",
       "<style scoped>\n",
       "    .dataframe tbody tr th:only-of-type {\n",
       "        vertical-align: middle;\n",
       "    }\n",
       "\n",
       "    .dataframe tbody tr th {\n",
       "        vertical-align: top;\n",
       "    }\n",
       "\n",
       "    .dataframe thead th {\n",
       "        text-align: right;\n",
       "    }\n",
       "</style>\n",
       "<table border=\"1\" class=\"dataframe\">\n",
       "  <thead>\n",
       "    <tr style=\"text-align: right;\">\n",
       "      <th></th>\n",
       "      <th></th>\n",
       "      <th></th>\n",
       "      <th>pf</th>\n",
       "      <th>pf_orig</th>\n",
       "      <th>pf_avg_road</th>\n",
       "    </tr>\n",
       "    <tr>\n",
       "      <th>team_id</th>\n",
       "      <th>year</th>\n",
       "      <th>park_id</th>\n",
       "      <th></th>\n",
       "      <th></th>\n",
       "      <th></th>\n",
       "    </tr>\n",
       "  </thead>\n",
       "  <tbody>\n",
       "    <tr>\n",
       "      <th>COL</th>\n",
       "      <th>2019</th>\n",
       "      <th>DEN02</th>\n",
       "      <td>1.302</td>\n",
       "      <td>1.394</td>\n",
       "      <td>0.932</td>\n",
       "    </tr>\n",
       "  </tbody>\n",
       "</table>\n",
       "</div>"
      ],
      "text/plain": [
       "                         pf  pf_orig  pf_avg_road\n",
       "team_id year park_id                             \n",
       "COL     2019 DEN02    1.302    1.394        0.932"
      ]
     },
     "metadata": {},
     "output_type": "display_data"
    },
    {
     "data": {
      "text/html": [
       "<div>\n",
       "<style scoped>\n",
       "    .dataframe tbody tr th:only-of-type {\n",
       "        vertical-align: middle;\n",
       "    }\n",
       "\n",
       "    .dataframe tbody tr th {\n",
       "        vertical-align: top;\n",
       "    }\n",
       "\n",
       "    .dataframe thead th {\n",
       "        text-align: right;\n",
       "    }\n",
       "</style>\n",
       "<table border=\"1\" class=\"dataframe\">\n",
       "  <thead>\n",
       "    <tr style=\"text-align: right;\">\n",
       "      <th></th>\n",
       "      <th></th>\n",
       "      <th></th>\n",
       "      <th>pf</th>\n",
       "      <th>pf_orig</th>\n",
       "      <th>pf_avg_road</th>\n",
       "    </tr>\n",
       "    <tr>\n",
       "      <th>team_id</th>\n",
       "      <th>year</th>\n",
       "      <th>park_id</th>\n",
       "      <th></th>\n",
       "      <th></th>\n",
       "      <th></th>\n",
       "    </tr>\n",
       "  </thead>\n",
       "  <tbody>\n",
       "    <tr>\n",
       "      <th>COL</th>\n",
       "      <th>2019</th>\n",
       "      <th>DEN02</th>\n",
       "      <td>1.299</td>\n",
       "      <td>1.394</td>\n",
       "      <td>0.931</td>\n",
       "    </tr>\n",
       "  </tbody>\n",
       "</table>\n",
       "</div>"
      ],
      "text/plain": [
       "                         pf  pf_orig  pf_avg_road\n",
       "team_id year park_id                             \n",
       "COL     2019 DEN02    1.299    1.394        0.931"
      ]
     },
     "metadata": {},
     "output_type": "display_data"
    }
   ],
   "source": [
    "for i in range(5):\n",
    "    rp = road_parks_runs.reset_index()\n",
    "    pf = pf.reset_index()\n",
    "\n",
    "    # prior to adjusting by PF, ensure that mean is 1.0\n",
    "    # this is a minor adjustment\n",
    "    pf['pf'] /= pf['pf'].mean()\n",
    "\n",
    "    # bring in the PF for each (year, park_id)\n",
    "    rp = rp.merge(pf,\n",
    "                  left_on=['year', 'park_id'],\n",
    "                  right_on=['year', 'park_id'],\n",
    "                  suffixes=['', '_home'])\n",
    "\n",
    "    rp = rp.drop(columns='team_id_home')\n",
    "\n",
    "    # create adjusted road runs based on each park's pf\n",
    "    rp['rt_adj'] = rp['rt'] / rp['pf']\n",
    "    rp['pf_games'] = rp['pf'] * rp['games']  # to later compute weighted avg of road pf\n",
    "\n",
    "    rp = rp.set_index(['team_id', 'year', 'park_id']).sort_index()\n",
    "\n",
    "    road_totals = rp.groupby(['team_id', 'year']).agg(\n",
    "        rt_adj=('rt_adj', 'sum'), games=('games', 'sum'),\n",
    "        pf_adj_sum=('pf_games', 'sum'))\n",
    "\n",
    "    road_totals['r_avg_adj'] = road_totals['rt_adj'] / road_totals['games']\n",
    "    road_totals['pf_avg_road'] = road_totals['pf_adj_sum'] / road_totals['games']  # weighted avg of road pf\n",
    "\n",
    "    pf = home_parks_runs['r_avg'] / road_totals['r_avg_adj']\n",
    "    pf = pf.to_frame()\n",
    "    pf.columns = ['pf']\n",
    "    pf['pf_orig'] = pf_orig\n",
    "    pf['pf_avg_road'] = road_totals['pf_avg_road']\n",
    "\n",
    "    display(pf.query('team_id == \"COL\" and year==2019').round(3))"
   ]
  },
  {
   "cell_type": "markdown",
   "metadata": {},
   "source": [
    "What the the minimum and maximum PF's for the road?"
   ]
  },
  {
   "cell_type": "code",
   "execution_count": 28,
   "metadata": {},
   "outputs": [
    {
     "data": {
      "text/plain": [
       "min    0.930562\n",
       "max    1.072243\n",
       "Name: pf_avg_road, dtype: float64"
      ]
     },
     "execution_count": 28,
     "metadata": {},
     "output_type": "execute_result"
    }
   ],
   "source": [
    "pf['pf_avg_road'].agg(['min', 'max'])"
   ]
  },
  {
   "cell_type": "markdown",
   "metadata": {},
   "source": [
    "This are significant and will change the home team's park PF considerably."
   ]
  },
  {
   "cell_type": "code",
   "execution_count": 29,
   "metadata": {},
   "outputs": [
    {
     "data": {
      "text/plain": [
       "('COL', 2019, 'DEN02')"
      ]
     },
     "execution_count": 29,
     "metadata": {},
     "output_type": "execute_result"
    }
   ],
   "source": [
    "pf['pf_avg_road'].idxmin()"
   ]
  },
  {
   "cell_type": "markdown",
   "metadata": {},
   "source": [
    "This is not unexpected.  Given that Denver has the highest PF, it must be playing its road games in parks with lower PFs, so its road PF average will be less than one.  This decreased the PF at Coors Field as the adjusted runs on the road was higher than 1.0."
   ]
  },
  {
   "cell_type": "code",
   "execution_count": 30,
   "metadata": {},
   "outputs": [
    {
     "data": {
      "text/plain": [
       "('TBA', 2016, 'STP01')"
      ]
     },
     "execution_count": 30,
     "metadata": {},
     "output_type": "execute_result"
    }
   ],
   "source": [
    "pf['pf_avg_road'].idxmax()"
   ]
  },
  {
   "cell_type": "code",
   "execution_count": 31,
   "metadata": {},
   "outputs": [],
   "source": [
    "# since 2013\n",
    "mlb_division = {\n",
    "    'BOS':'AL-East',\n",
    "    'BAL':'AL-East',\n",
    "    'NYA':'AL-East',\n",
    "    'TBA':'AL-East',\n",
    "    'TOR':'AL-East',\n",
    "    'CHA':'AL-Central', \n",
    "    'CLE':'AL-Central', \n",
    "    'DET':'AL-Central', \n",
    "    'KCA':'AL-Central', \n",
    "    'MIN':'AL-Central', \n",
    "    'HOU':'AL-West', \n",
    "    'ANA':'AL-West', \n",
    "    'OAK':'AL-West', \n",
    "    'SEA':'AL-West', \n",
    "    'TEX':'AL-West', \n",
    "    'ATL':'NL-East', \n",
    "    'MIA':'NL-East', \n",
    "    'NYN':'NL-East', \n",
    "    'PHI':'NL-East', \n",
    "    'WAS':'NL-East', \n",
    "    'CHN':'NL-Central', \n",
    "    'CIN':'NL-Central', \n",
    "    'MIL':'NL-Central', \n",
    "    'PIT':'NL-Central', \n",
    "    'SLN':'NL-Central', \n",
    "    'ARI':'NL-West', \n",
    "    'COL':'NL-West', \n",
    "    'LAN':'NL-West', \n",
    "    'SDN':'NL-West', \n",
    "    'SFN':'NL-West'}\n",
    "\n",
    "al_east = ['BOS', 'BAL', 'NYA', 'TBA', 'TOR']\n",
    "al_central = ['CHA', 'CLE','DET', 'KCA', 'MIN']\n",
    "al_west = ['HOU', 'ANA', 'OAK', 'SEA', 'TEX']\n",
    "nl_east = ['ATL', 'MIA', 'NYN', 'PHI', 'WAS']\n",
    "nl_central = ['CHN', 'CIN', 'MIL', 'PIT', 'SLN']\n",
    "nl_west = ['ARI', 'COL', 'LAN', 'SDN', 'SFN']"
   ]
  },
  {
   "cell_type": "code",
   "execution_count": 32,
   "metadata": {},
   "outputs": [
    {
     "data": {
      "text/html": [
       "<div>\n",
       "<style scoped>\n",
       "    .dataframe tbody tr th:only-of-type {\n",
       "        vertical-align: middle;\n",
       "    }\n",
       "\n",
       "    .dataframe tbody tr th {\n",
       "        vertical-align: top;\n",
       "    }\n",
       "\n",
       "    .dataframe thead th {\n",
       "        text-align: right;\n",
       "    }\n",
       "</style>\n",
       "<table border=\"1\" class=\"dataframe\">\n",
       "  <thead>\n",
       "    <tr style=\"text-align: right;\">\n",
       "      <th></th>\n",
       "      <th></th>\n",
       "      <th></th>\n",
       "      <th>pf</th>\n",
       "      <th>pf_orig</th>\n",
       "      <th>pf_avg_road</th>\n",
       "    </tr>\n",
       "    <tr>\n",
       "      <th>team_id</th>\n",
       "      <th>year</th>\n",
       "      <th>park_id</th>\n",
       "      <th></th>\n",
       "      <th></th>\n",
       "      <th></th>\n",
       "    </tr>\n",
       "  </thead>\n",
       "  <tbody>\n",
       "    <tr>\n",
       "      <th rowspan=\"5\" valign=\"top\">ANA</th>\n",
       "      <th>2015</th>\n",
       "      <th>ANA01</th>\n",
       "      <td>0.852147</td>\n",
       "      <td>0.860724</td>\n",
       "      <td>0.995780</td>\n",
       "    </tr>\n",
       "    <tr>\n",
       "      <th>2016</th>\n",
       "      <th>ANA01</th>\n",
       "      <td>0.893544</td>\n",
       "      <td>0.910053</td>\n",
       "      <td>0.986948</td>\n",
       "    </tr>\n",
       "    <tr>\n",
       "      <th>2017</th>\n",
       "      <th>ANA01</th>\n",
       "      <td>0.935991</td>\n",
       "      <td>0.949176</td>\n",
       "      <td>0.994577</td>\n",
       "    </tr>\n",
       "    <tr>\n",
       "      <th>2018</th>\n",
       "      <th>ANA01</th>\n",
       "      <td>0.960691</td>\n",
       "      <td>0.968622</td>\n",
       "      <td>1.016708</td>\n",
       "    </tr>\n",
       "    <tr>\n",
       "      <th>2019</th>\n",
       "      <th>ANA01</th>\n",
       "      <td>1.025482</td>\n",
       "      <td>1.006353</td>\n",
       "      <td>1.021920</td>\n",
       "    </tr>\n",
       "  </tbody>\n",
       "</table>\n",
       "</div>"
      ],
      "text/plain": [
       "                            pf   pf_orig  pf_avg_road\n",
       "team_id year park_id                                 \n",
       "ANA     2015 ANA01    0.852147  0.860724     0.995780\n",
       "        2016 ANA01    0.893544  0.910053     0.986948\n",
       "        2017 ANA01    0.935991  0.949176     0.994577\n",
       "        2018 ANA01    0.960691  0.968622     1.016708\n",
       "        2019 ANA01    1.025482  1.006353     1.021920"
      ]
     },
     "execution_count": 32,
     "metadata": {},
     "output_type": "execute_result"
    }
   ],
   "source": [
    "pf.head()"
   ]
  },
  {
   "cell_type": "code",
   "execution_count": 33,
   "metadata": {},
   "outputs": [],
   "source": [
    "pf2 = pf.reset_index()\n",
    "pf2['div'] = pf2['team_id'].map(mlb_division)"
   ]
  },
  {
   "cell_type": "code",
   "execution_count": 34,
   "metadata": {},
   "outputs": [
    {
     "data": {
      "text/html": [
       "<div>\n",
       "<style scoped>\n",
       "    .dataframe tbody tr th:only-of-type {\n",
       "        vertical-align: middle;\n",
       "    }\n",
       "\n",
       "    .dataframe tbody tr th {\n",
       "        vertical-align: top;\n",
       "    }\n",
       "\n",
       "    .dataframe thead th {\n",
       "        text-align: right;\n",
       "    }\n",
       "</style>\n",
       "<table border=\"1\" class=\"dataframe\">\n",
       "  <thead>\n",
       "    <tr style=\"text-align: right;\">\n",
       "      <th></th>\n",
       "      <th></th>\n",
       "      <th>pf</th>\n",
       "    </tr>\n",
       "    <tr>\n",
       "      <th>year</th>\n",
       "      <th>div</th>\n",
       "      <th></th>\n",
       "    </tr>\n",
       "  </thead>\n",
       "  <tbody>\n",
       "    <tr>\n",
       "      <th rowspan=\"6\" valign=\"top\">2015</th>\n",
       "      <th>AL-Central</th>\n",
       "      <td>1.025025</td>\n",
       "    </tr>\n",
       "    <tr>\n",
       "      <th>AL-East</th>\n",
       "      <td>1.058728</td>\n",
       "    </tr>\n",
       "    <tr>\n",
       "      <th>AL-West</th>\n",
       "      <td>0.931605</td>\n",
       "    </tr>\n",
       "    <tr>\n",
       "      <th>NL-Central</th>\n",
       "      <td>1.002328</td>\n",
       "    </tr>\n",
       "    <tr>\n",
       "      <th>NL-East</th>\n",
       "      <td>0.944600</td>\n",
       "    </tr>\n",
       "    <tr>\n",
       "      <th>NL-West</th>\n",
       "      <td>1.027719</td>\n",
       "    </tr>\n",
       "    <tr>\n",
       "      <th rowspan=\"6\" valign=\"top\">2016</th>\n",
       "      <th>AL-Central</th>\n",
       "      <td>1.110906</td>\n",
       "    </tr>\n",
       "    <tr>\n",
       "      <th>AL-East</th>\n",
       "      <td>1.092436</td>\n",
       "    </tr>\n",
       "    <tr>\n",
       "      <th>AL-West</th>\n",
       "      <td>0.913574</td>\n",
       "    </tr>\n",
       "    <tr>\n",
       "      <th>NL-Central</th>\n",
       "      <td>0.900196</td>\n",
       "    </tr>\n",
       "    <tr>\n",
       "      <th>NL-East</th>\n",
       "      <td>0.905513</td>\n",
       "    </tr>\n",
       "    <tr>\n",
       "      <th>NL-West</th>\n",
       "      <td>1.091554</td>\n",
       "    </tr>\n",
       "    <tr>\n",
       "      <th rowspan=\"6\" valign=\"top\">2017</th>\n",
       "      <th>AL-Central</th>\n",
       "      <td>1.051615</td>\n",
       "    </tr>\n",
       "    <tr>\n",
       "      <th>AL-East</th>\n",
       "      <td>0.983716</td>\n",
       "    </tr>\n",
       "    <tr>\n",
       "      <th>AL-West</th>\n",
       "      <td>0.991744</td>\n",
       "    </tr>\n",
       "    <tr>\n",
       "      <th>NL-Central</th>\n",
       "      <td>1.007613</td>\n",
       "    </tr>\n",
       "    <tr>\n",
       "      <th>NL-East</th>\n",
       "      <td>0.940691</td>\n",
       "    </tr>\n",
       "    <tr>\n",
       "      <th>NL-West</th>\n",
       "      <td>1.036468</td>\n",
       "    </tr>\n",
       "    <tr>\n",
       "      <th rowspan=\"6\" valign=\"top\">2018</th>\n",
       "      <th>AL-Central</th>\n",
       "      <td>1.032519</td>\n",
       "    </tr>\n",
       "    <tr>\n",
       "      <th>AL-East</th>\n",
       "      <td>1.017511</td>\n",
       "    </tr>\n",
       "    <tr>\n",
       "      <th>AL-West</th>\n",
       "      <td>0.994974</td>\n",
       "    </tr>\n",
       "    <tr>\n",
       "      <th>NL-Central</th>\n",
       "      <td>0.988975</td>\n",
       "    </tr>\n",
       "    <tr>\n",
       "      <th>NL-East</th>\n",
       "      <td>0.917400</td>\n",
       "    </tr>\n",
       "    <tr>\n",
       "      <th>NL-West</th>\n",
       "      <td>1.045536</td>\n",
       "    </tr>\n",
       "    <tr>\n",
       "      <th rowspan=\"6\" valign=\"top\">2019</th>\n",
       "      <th>AL-Central</th>\n",
       "      <td>1.037358</td>\n",
       "    </tr>\n",
       "    <tr>\n",
       "      <th>AL-East</th>\n",
       "      <td>0.976999</td>\n",
       "    </tr>\n",
       "    <tr>\n",
       "      <th>AL-West</th>\n",
       "      <td>1.056966</td>\n",
       "    </tr>\n",
       "    <tr>\n",
       "      <th>NL-Central</th>\n",
       "      <td>0.947451</td>\n",
       "    </tr>\n",
       "    <tr>\n",
       "      <th>NL-East</th>\n",
       "      <td>1.007647</td>\n",
       "    </tr>\n",
       "    <tr>\n",
       "      <th>NL-West</th>\n",
       "      <td>0.963079</td>\n",
       "    </tr>\n",
       "  </tbody>\n",
       "</table>\n",
       "</div>"
      ],
      "text/plain": [
       "                       pf\n",
       "year div                 \n",
       "2015 AL-Central  1.025025\n",
       "     AL-East     1.058728\n",
       "     AL-West     0.931605\n",
       "     NL-Central  1.002328\n",
       "     NL-East     0.944600\n",
       "     NL-West     1.027719\n",
       "2016 AL-Central  1.110906\n",
       "     AL-East     1.092436\n",
       "     AL-West     0.913574\n",
       "     NL-Central  0.900196\n",
       "     NL-East     0.905513\n",
       "     NL-West     1.091554\n",
       "2017 AL-Central  1.051615\n",
       "     AL-East     0.983716\n",
       "     AL-West     0.991744\n",
       "     NL-Central  1.007613\n",
       "     NL-East     0.940691\n",
       "     NL-West     1.036468\n",
       "2018 AL-Central  1.032519\n",
       "     AL-East     1.017511\n",
       "     AL-West     0.994974\n",
       "     NL-Central  0.988975\n",
       "     NL-East     0.917400\n",
       "     NL-West     1.045536\n",
       "2019 AL-Central  1.037358\n",
       "     AL-East     0.976999\n",
       "     AL-West     1.056966\n",
       "     NL-Central  0.947451\n",
       "     NL-East     1.007647\n",
       "     NL-West     0.963079"
      ]
     },
     "execution_count": 34,
     "metadata": {},
     "output_type": "execute_result"
    }
   ],
   "source": [
    "pf2.groupby(['year','div'])[['pf']].agg('mean')"
   ]
  },
  {
   "cell_type": "markdown",
   "metadata": {},
   "source": [
    "# Compare with Previous NB"
   ]
  },
  {
   "cell_type": "code",
   "execution_count": 35,
   "metadata": {},
   "outputs": [],
   "source": [
    "pf_nb01 = dh.from_csv_with_types(data_dir / 'retrosheet/nb_data/pf.csv')\n",
    "pf_nb01 = pf_nb01.set_index(['team_id', 'year'])"
   ]
  },
  {
   "cell_type": "code",
   "execution_count": 36,
   "metadata": {},
   "outputs": [
    {
     "data": {
      "text/html": [
       "<div>\n",
       "<style scoped>\n",
       "    .dataframe tbody tr th:only-of-type {\n",
       "        vertical-align: middle;\n",
       "    }\n",
       "\n",
       "    .dataframe tbody tr th {\n",
       "        vertical-align: top;\n",
       "    }\n",
       "\n",
       "    .dataframe thead th {\n",
       "        text-align: right;\n",
       "    }\n",
       "</style>\n",
       "<table border=\"1\" class=\"dataframe\">\n",
       "  <thead>\n",
       "    <tr style=\"text-align: right;\">\n",
       "      <th></th>\n",
       "      <th></th>\n",
       "      <th>pf</th>\n",
       "      <th>pf_half</th>\n",
       "      <th>name</th>\n",
       "    </tr>\n",
       "    <tr>\n",
       "      <th>team_id</th>\n",
       "      <th>year</th>\n",
       "      <th></th>\n",
       "      <th></th>\n",
       "      <th></th>\n",
       "    </tr>\n",
       "  </thead>\n",
       "  <tbody>\n",
       "    <tr>\n",
       "      <th rowspan=\"5\" valign=\"top\">ANA</th>\n",
       "      <th>2015</th>\n",
       "      <td>0.86</td>\n",
       "      <td>0.93</td>\n",
       "      <td>Angels</td>\n",
       "    </tr>\n",
       "    <tr>\n",
       "      <th>2016</th>\n",
       "      <td>0.91</td>\n",
       "      <td>0.96</td>\n",
       "      <td>Angels</td>\n",
       "    </tr>\n",
       "    <tr>\n",
       "      <th>2017</th>\n",
       "      <td>0.95</td>\n",
       "      <td>0.97</td>\n",
       "      <td>Angels</td>\n",
       "    </tr>\n",
       "    <tr>\n",
       "      <th>2018</th>\n",
       "      <td>0.97</td>\n",
       "      <td>0.98</td>\n",
       "      <td>Angels</td>\n",
       "    </tr>\n",
       "    <tr>\n",
       "      <th>2019</th>\n",
       "      <td>1.01</td>\n",
       "      <td>1.00</td>\n",
       "      <td>Angels</td>\n",
       "    </tr>\n",
       "    <tr>\n",
       "      <th>...</th>\n",
       "      <th>...</th>\n",
       "      <td>...</td>\n",
       "      <td>...</td>\n",
       "      <td>...</td>\n",
       "    </tr>\n",
       "    <tr>\n",
       "      <th rowspan=\"5\" valign=\"top\">WAS</th>\n",
       "      <th>2015</th>\n",
       "      <td>1.00</td>\n",
       "      <td>1.00</td>\n",
       "      <td>Nationals</td>\n",
       "    </tr>\n",
       "    <tr>\n",
       "      <th>2016</th>\n",
       "      <td>0.96</td>\n",
       "      <td>0.98</td>\n",
       "      <td>Nationals</td>\n",
       "    </tr>\n",
       "    <tr>\n",
       "      <th>2017</th>\n",
       "      <td>1.06</td>\n",
       "      <td>1.03</td>\n",
       "      <td>Nationals</td>\n",
       "    </tr>\n",
       "    <tr>\n",
       "      <th>2018</th>\n",
       "      <td>1.13</td>\n",
       "      <td>1.07</td>\n",
       "      <td>Nationals</td>\n",
       "    </tr>\n",
       "    <tr>\n",
       "      <th>2019</th>\n",
       "      <td>1.10</td>\n",
       "      <td>1.05</td>\n",
       "      <td>Nationals</td>\n",
       "    </tr>\n",
       "  </tbody>\n",
       "</table>\n",
       "<p>150 rows × 3 columns</p>\n",
       "</div>"
      ],
      "text/plain": [
       "                pf  pf_half       name\n",
       "team_id year                          \n",
       "ANA     2015  0.86     0.93     Angels\n",
       "        2016  0.91     0.96     Angels\n",
       "        2017  0.95     0.97     Angels\n",
       "        2018  0.97     0.98     Angels\n",
       "        2019  1.01     1.00     Angels\n",
       "...            ...      ...        ...\n",
       "WAS     2015  1.00     1.00  Nationals\n",
       "        2016  0.96     0.98  Nationals\n",
       "        2017  1.06     1.03  Nationals\n",
       "        2018  1.13     1.07  Nationals\n",
       "        2019  1.10     1.05  Nationals\n",
       "\n",
       "[150 rows x 3 columns]"
      ]
     },
     "execution_count": 36,
     "metadata": {},
     "output_type": "execute_result"
    }
   ],
   "source": [
    "pf_nb01"
   ]
  },
  {
   "cell_type": "code",
   "execution_count": 37,
   "metadata": {},
   "outputs": [],
   "source": [
    "# compute the maximum relative difference\n",
    "rel_diff = np.abs(1.0 - pf_nb01['pf'] / pf['pf'])"
   ]
  },
  {
   "cell_type": "code",
   "execution_count": 38,
   "metadata": {},
   "outputs": [
    {
     "data": {
      "text/plain": [
       "('WAS', 2018)"
      ]
     },
     "execution_count": 38,
     "metadata": {},
     "output_type": "execute_result"
    }
   ],
   "source": [
    "rel_diff.idxmax()"
   ]
  },
  {
   "cell_type": "markdown",
   "metadata": {},
   "source": [
    "# Summary\n",
    "The Park Factor was adjusted for the road schedule for each team.  In addition, the weighted average of the road Park Factor was computed.  It was shown, in a few cases, to be significantly different from assuming a road PF of 1.0.  This new metric, the average Park Factor on the road, may be useful."
   ]
  }
 ],
 "metadata": {
  "kernelspec": {
   "display_name": "Python 3",
   "language": "python",
   "name": "python3"
  },
  "language_info": {
   "codemirror_mode": {
    "name": "ipython",
    "version": 3
   },
   "file_extension": ".py",
   "mimetype": "text/x-python",
   "name": "python",
   "nbconvert_exporter": "python",
   "pygments_lexer": "ipython3",
   "version": "3.7.5"
  }
 },
 "nbformat": 4,
 "nbformat_minor": 2
}
