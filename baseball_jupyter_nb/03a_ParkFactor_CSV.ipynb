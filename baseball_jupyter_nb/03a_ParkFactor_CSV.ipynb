{
 "cells": [
  {
   "cell_type": "markdown",
   "metadata": {},
   "source": [
    "# Sabermetrics: Computing Baseball Park Factors\n",
    "\n",
    "\n",
    "Sabermetrics is the original term for baseball analytics.  It is not necessary to know anything about Sabermetrics to understand this notebook.  However, understanding the rules of baseball is helpful.\n",
    "\n",
    "For baseball fans, an excellent introduction to Sabermetrics is: [Understanding Sabermetrics: Second Edition](https://www.amazon.com/Understanding-Sabermetrics-Introduction-Baseball-Statistics/dp/1476667667/).  The three authors are all professors of mathematics who love baseball.\n",
    "\n",
    "Sabermetric blog posts and websites have evolved a specialized terminology that uses some of the same terms as data science but with slightly different meanings. For a data scientist learning about Sabermetrics I recommended the above book written by mathematics professors and Wikipedia as both of these sources use standard data science terminology.\n",
    "\n",
    "On Wikipedia, see for example:\n",
    "* https://en.wikipedia.org/wiki/Baseball_statistics\n",
    "* https://en.wikipedia.org/wiki/Batting_park_factor"
   ]
  },
  {
   "cell_type": "markdown",
   "metadata": {},
   "source": [
    "# Basic Park Factor\n",
    "\n",
    "Each baseball park is different.  Some parks, such as Coors Field in Denver are easy to score runs in whereas others, such as Oracle Park in San Francisco are difficult to score runs in.\n",
    "\n",
    "In order to compare players who play in different parks, it would be helpful to account for how much their home park affects their performance.\n",
    "\n",
    "The basic park factor formula is:\n",
    "\n",
    "$$PF = {(RS_{home} + RA_{home}) / G_{home} \\over \\operatorname(RS_{road} + RA_{road}) / G_{road}}$$\n",
    "\n",
    "For each team:  \n",
    "$RS_{home}$ is Runs Scored at home  \n",
    "$RA_{home}$ is Runs Allowed at home  \n",
    "$G_{home}$ is number of Games played at home  \n",
    "$RS_{road}$ is Runs Scored on the road  \n",
    "$RA_{home}$ is Runs Allowed on the road  \n",
    "$G_{home}$ is number of Games played on the road  \n",
    "\n",
    "Example: 2019 LA Dodgers   \n",
    "$RS_{home}$ = 441  \n",
    "$RA_{home}$ = 271  \n",
    "$G_{home}$ = 81  \n",
    "$RS_{road}$ = 445  \n",
    "$RA_{road}$ = 342  \n",
    "$G_{road}$ = 81  \n",
    "\n",
    "Plugging in the above numbers gives a basic PF for runs for Dodger Stadium in 2019 as 0.9047.  Often this value is multiplied by 100 so that 100 represents league average instead of 1.0.\n",
    "\n",
    "As a player only plays half of their games at home, the PF is sometimes \"halved\" as follows $PF_{half} = (1+PF)/2$.  This gives a value of 0.952 for Dodger Stadium.  [Fangraphs](https://www.fangraphs.com/guts.aspx?type=pf&teamid=0&season=2019) shows the \"halved\" value as 0.96 (for 1yr PF by runs) for 2019.  Which is in close agreement.\n",
    "\n",
    "A value less than 1.0 means that fewer runs than average are scored at Dodger Stadium.  This could be used to determine an equivalent ERA.  For example, Clayton Kershaw had an ERA of 3.02 in 2019.  Assuming half those games were at Dodger Stadium and using $PF_{half}$ means that his ERA in an average park would have been 3.02 / 0.952 = 3.17 without the pitching advantage of Dodger Stadium.\n",
    "\n",
    "The Park Factor formula nicely factors out most of the qualities unique to the home team.  For example, an excellent scoring team would score more runs both home and away.  As RS is both in the numerator and the denominator, the team's above average run scoring ability is \"canceled out\", leaving just the contribution due to the park.  Similarly, an excellent pitching team will allow fewer runs both home and away.  As RA is in both the numerator and the denominator, this also \"cancels out\", leaving just the contribution due to the park."
   ]
  },
  {
   "cell_type": "markdown",
   "metadata": {},
   "source": [
    "## Case Example: Fenway Park 2019\n",
    "All park factors for all stadiums for several years will be calculated while paying particular attention to a specific example, Fenway Park in Boston in 2019.\n",
    "\n",
    "The 2019 Fenway Park calculation is interesting because in 2019 Boston hosted the Yankess in London for two games.  See: https://en.wikipedia.org/wiki/MLB_London_Series. \n",
    "\n",
    "These 2 games were extremely high scoring, with the two teams scoring a total of 50 runs.  Even though Boston was the \"home team\", meaning they batted last, the runs were not scored at their home park of Fenway, but in London."
   ]
  },
  {
   "cell_type": "markdown",
   "metadata": {},
   "source": [
    "## Park Factor Refinements\n",
    "There are several refinements that can be made.  Each will be addressed in subsequent notebooks.  Arguably the most important is the one addressed here.\n",
    "\n",
    "**Home Team not playing in Home Park**  \n",
    "The Park Factor was created to measure the affect of each park on baseball statistics.  \"Home\" in the PF formula doesn't mean \"home team\" it means \"home park\".  Boston's home park is Fenway, so the values in the numerator are Runs Scored at Fenway, Runs Allowed at Fenway and Games played at Fenway.  If Boston happens to bat last at a baseball game in London, this should not affect the Fenway Park Factor.\n",
    "\n",
    "As it is quite rare for the team batting last to not be playing in their home park, it is sufficient to remove all such games prior to computing each team's Park Factor."
   ]
  },
  {
   "cell_type": "code",
   "execution_count": 1,
   "metadata": {},
   "outputs": [],
   "source": [
    "import os\n",
    "import pandas as pd\n",
    "import numpy as np\n",
    "from pathlib import Path\n",
    "import re\n",
    "from scipy.stats import linregress"
   ]
  },
  {
   "cell_type": "code",
   "execution_count": 2,
   "metadata": {},
   "outputs": [],
   "source": [
    "import sys\n",
    "\n",
    "# import data_helper.py from download_scripts directory\n",
    "sys.path.append('../download_scripts')\n",
    "import data_helper as dh"
   ]
  },
  {
   "cell_type": "code",
   "execution_count": 3,
   "metadata": {},
   "outputs": [],
   "source": [
    "data_dir = Path('../data')\n",
    "lahman_data = data_dir.joinpath('lahman/wrangled').resolve()\n",
    "retrosheet_data = data_dir.joinpath('retrosheet/wrangled').resolve()"
   ]
  },
  {
   "cell_type": "markdown",
   "metadata": {},
   "source": [
    "## Read in the Data\n",
    "Reading in the data up front makes the code clearer, but may use more memory.  usecols helps to reduce memory as these are very wide csv files."
   ]
  },
  {
   "cell_type": "code",
   "execution_count": 4,
   "metadata": {},
   "outputs": [],
   "source": [
    "cols = ['game_id', 'year', 'bat_last', 'team_id', 'opponent_team_id', 'r']\n",
    "team_game = dh.from_csv_with_types(retrosheet_data / 'team_game.csv.gz', usecols=cols)"
   ]
  },
  {
   "cell_type": "code",
   "execution_count": 5,
   "metadata": {},
   "outputs": [],
   "source": [
    "cols = ['game_id', 'park_id', 'game_start']\n",
    "game = dh.from_csv_with_types(retrosheet_data / 'game.csv.gz', usecols=cols)"
   ]
  },
  {
   "cell_type": "code",
   "execution_count": 6,
   "metadata": {},
   "outputs": [],
   "source": [
    "parks = dh.from_csv_with_types(retrosheet_data / 'parks.csv')"
   ]
  },
  {
   "cell_type": "code",
   "execution_count": 7,
   "metadata": {},
   "outputs": [],
   "source": [
    "teams = dh.from_csv_with_types(retrosheet_data / 'teams.csv')"
   ]
  },
  {
   "cell_type": "code",
   "execution_count": 8,
   "metadata": {},
   "outputs": [],
   "source": [
    "lahman_teams = dh.from_csv_with_types(lahman_data / 'teams.csv')"
   ]
  },
  {
   "cell_type": "code",
   "execution_count": 9,
   "metadata": {},
   "outputs": [],
   "source": [
    "# for now, focus on 2015 onward\n",
    "team_game = team_game.query('year >= 2015')\n",
    "game['year'] = game['game_start'].dt.year\n",
    "game = game.query('year >= 2015')\n",
    "game = game.drop(columns='game_start')"
   ]
  },
  {
   "cell_type": "markdown",
   "metadata": {},
   "source": [
    "## Understanding the team_game CSV file\n",
    "The output of the cwgame parser was made [tidy](https://en.wikipedia.org/wiki/Tidy_data) and this is one of two files created.\n",
    "\n",
    "The team_game file has one team per game. Since each game has two teams, there are two rows per game.  The team_id field identifies the team that the statistics are for.  The opponent_team_id identifies the opponent.\n",
    "\n",
    "The fields which uniquely identify a record are: team_id, year."
   ]
  },
  {
   "cell_type": "code",
   "execution_count": 10,
   "metadata": {},
   "outputs": [
    {
     "data": {
      "text/html": [
       "<div>\n",
       "<style scoped>\n",
       "    .dataframe tbody tr th:only-of-type {\n",
       "        vertical-align: middle;\n",
       "    }\n",
       "\n",
       "    .dataframe tbody tr th {\n",
       "        vertical-align: top;\n",
       "    }\n",
       "\n",
       "    .dataframe thead th {\n",
       "        text-align: right;\n",
       "    }\n",
       "</style>\n",
       "<table border=\"1\" class=\"dataframe\">\n",
       "  <thead>\n",
       "    <tr style=\"text-align: right;\">\n",
       "      <th></th>\n",
       "      <th>game_id</th>\n",
       "      <th>bat_last</th>\n",
       "      <th>team_id</th>\n",
       "      <th>opponent_team_id</th>\n",
       "      <th>r</th>\n",
       "      <th>year</th>\n",
       "    </tr>\n",
       "  </thead>\n",
       "  <tbody>\n",
       "    <tr>\n",
       "      <th>260466</th>\n",
       "      <td>BOS201906290</td>\n",
       "      <td>True</td>\n",
       "      <td>BOS</td>\n",
       "      <td>NYA</td>\n",
       "      <td>13</td>\n",
       "      <td>2019</td>\n",
       "    </tr>\n",
       "    <tr>\n",
       "      <th>260467</th>\n",
       "      <td>BOS201906290</td>\n",
       "      <td>False</td>\n",
       "      <td>NYA</td>\n",
       "      <td>BOS</td>\n",
       "      <td>17</td>\n",
       "      <td>2019</td>\n",
       "    </tr>\n",
       "  </tbody>\n",
       "</table>\n",
       "</div>"
      ],
      "text/plain": [
       "             game_id  bat_last team_id opponent_team_id   r  year\n",
       "260466  BOS201906290      True     BOS              NYA  13  2019\n",
       "260467  BOS201906290     False     NYA              BOS  17  2019"
      ]
     },
     "execution_count": 10,
     "metadata": {},
     "output_type": "execute_result"
    }
   ],
   "source": [
    "# examine 1 game\n",
    "team_game_example = team_game.query('game_id == \"BOS201906290\"')\n",
    "team_game_example"
   ]
  },
  {
   "cell_type": "markdown",
   "metadata": {},
   "source": [
    "We see the Red Sox (BOS) played the Yankees (NYA).  The Red Sox batted last and scored 13 runs whereas the Yankees batted first and scored 17 runs."
   ]
  },
  {
   "cell_type": "markdown",
   "metadata": {},
   "source": [
    "## Understanding the game CSV file\n",
    "The output of the cwgame parser was made tidy and this is one of two files created.\n",
    "\n",
    "The game file has information specific to a game, such as the baseball park it was played in."
   ]
  },
  {
   "cell_type": "code",
   "execution_count": 11,
   "metadata": {},
   "outputs": [
    {
     "data": {
      "text/html": [
       "<div>\n",
       "<style scoped>\n",
       "    .dataframe tbody tr th:only-of-type {\n",
       "        vertical-align: middle;\n",
       "    }\n",
       "\n",
       "    .dataframe tbody tr th {\n",
       "        vertical-align: top;\n",
       "    }\n",
       "\n",
       "    .dataframe thead th {\n",
       "        text-align: right;\n",
       "    }\n",
       "</style>\n",
       "<table border=\"1\" class=\"dataframe\">\n",
       "  <thead>\n",
       "    <tr style=\"text-align: right;\">\n",
       "      <th></th>\n",
       "      <th>game_id</th>\n",
       "      <th>park_id</th>\n",
       "      <th>year</th>\n",
       "    </tr>\n",
       "  </thead>\n",
       "  <tbody>\n",
       "    <tr>\n",
       "      <th>130233</th>\n",
       "      <td>BOS201906290</td>\n",
       "      <td>LON01</td>\n",
       "      <td>2019</td>\n",
       "    </tr>\n",
       "  </tbody>\n",
       "</table>\n",
       "</div>"
      ],
      "text/plain": [
       "             game_id park_id  year\n",
       "130233  BOS201906290   LON01  2019"
      ]
     },
     "execution_count": 11,
     "metadata": {},
     "output_type": "execute_result"
    }
   ],
   "source": [
    "game_example = game.query('game_id == \"BOS201906290\"')\n",
    "game_example"
   ]
  },
  {
   "cell_type": "code",
   "execution_count": 12,
   "metadata": {},
   "outputs": [
    {
     "data": {
      "text/html": [
       "<div>\n",
       "<style scoped>\n",
       "    .dataframe tbody tr th:only-of-type {\n",
       "        vertical-align: middle;\n",
       "    }\n",
       "\n",
       "    .dataframe tbody tr th {\n",
       "        vertical-align: top;\n",
       "    }\n",
       "\n",
       "    .dataframe thead th {\n",
       "        text-align: right;\n",
       "    }\n",
       "</style>\n",
       "<table border=\"1\" class=\"dataframe\">\n",
       "  <thead>\n",
       "    <tr style=\"text-align: right;\">\n",
       "      <th></th>\n",
       "      <th>game_id</th>\n",
       "      <th>park_id</th>\n",
       "      <th>year</th>\n",
       "      <th>name</th>\n",
       "      <th>aka</th>\n",
       "      <th>city</th>\n",
       "      <th>state</th>\n",
       "      <th>start</th>\n",
       "      <th>end</th>\n",
       "      <th>league</th>\n",
       "      <th>notes</th>\n",
       "    </tr>\n",
       "  </thead>\n",
       "  <tbody>\n",
       "    <tr>\n",
       "      <th>0</th>\n",
       "      <td>BOS201906290</td>\n",
       "      <td>LON01</td>\n",
       "      <td>2019</td>\n",
       "      <td>London Stadium</td>\n",
       "      <td>NaN</td>\n",
       "      <td>London</td>\n",
       "      <td>UK</td>\n",
       "      <td>2019-06-29</td>\n",
       "      <td>2019-06-30</td>\n",
       "      <td>AL</td>\n",
       "      <td>BOS</td>\n",
       "    </tr>\n",
       "  </tbody>\n",
       "</table>\n",
       "</div>"
      ],
      "text/plain": [
       "        game_id park_id  year            name  aka    city state      start  \\\n",
       "0  BOS201906290   LON01  2019  London Stadium  NaN  London    UK 2019-06-29   \n",
       "\n",
       "         end league notes  \n",
       "0 2019-06-30     AL   BOS  "
      ]
     },
     "execution_count": 12,
     "metadata": {},
     "output_type": "execute_result"
    }
   ],
   "source": [
    "# join with parks file to get info about parks\n",
    "game_example.merge(parks, left_on=['park_id'], right_on=['park_id'])"
   ]
  },
  {
   "cell_type": "markdown",
   "metadata": {},
   "source": [
    "We see that the game was played in London."
   ]
  },
  {
   "cell_type": "code",
   "execution_count": 13,
   "metadata": {},
   "outputs": [
    {
     "data": {
      "text/html": [
       "<div>\n",
       "<style scoped>\n",
       "    .dataframe tbody tr th:only-of-type {\n",
       "        vertical-align: middle;\n",
       "    }\n",
       "\n",
       "    .dataframe tbody tr th {\n",
       "        vertical-align: top;\n",
       "    }\n",
       "\n",
       "    .dataframe thead th {\n",
       "        text-align: right;\n",
       "    }\n",
       "</style>\n",
       "<table border=\"1\" class=\"dataframe\">\n",
       "  <thead>\n",
       "    <tr style=\"text-align: right;\">\n",
       "      <th></th>\n",
       "      <th>game_id</th>\n",
       "      <th>bat_last</th>\n",
       "      <th>team_id</th>\n",
       "      <th>opponent_team_id</th>\n",
       "      <th>r</th>\n",
       "      <th>year</th>\n",
       "      <th>lg_id</th>\n",
       "      <th>city</th>\n",
       "      <th>name</th>\n",
       "    </tr>\n",
       "  </thead>\n",
       "  <tbody>\n",
       "    <tr>\n",
       "      <th>0</th>\n",
       "      <td>BOS201906290</td>\n",
       "      <td>True</td>\n",
       "      <td>BOS</td>\n",
       "      <td>NYA</td>\n",
       "      <td>13</td>\n",
       "      <td>2019</td>\n",
       "      <td>A</td>\n",
       "      <td>Boston</td>\n",
       "      <td>Red Sox</td>\n",
       "    </tr>\n",
       "    <tr>\n",
       "      <th>1</th>\n",
       "      <td>BOS201906290</td>\n",
       "      <td>False</td>\n",
       "      <td>NYA</td>\n",
       "      <td>BOS</td>\n",
       "      <td>17</td>\n",
       "      <td>2019</td>\n",
       "      <td>A</td>\n",
       "      <td>New York</td>\n",
       "      <td>Yankees</td>\n",
       "    </tr>\n",
       "  </tbody>\n",
       "</table>\n",
       "</div>"
      ],
      "text/plain": [
       "        game_id  bat_last team_id opponent_team_id   r  year lg_id      city  \\\n",
       "0  BOS201906290      True     BOS              NYA  13  2019     A    Boston   \n",
       "1  BOS201906290     False     NYA              BOS  17  2019     A  New York   \n",
       "\n",
       "      name  \n",
       "0  Red Sox  \n",
       "1  Yankees  "
      ]
     },
     "execution_count": 13,
     "metadata": {},
     "output_type": "execute_result"
    }
   ],
   "source": [
    "# join with teams file to get info about teams\n",
    "team_game_example.merge(teams, left_on=['team_id', 'year'], right_on=['team_id', 'year'])"
   ]
  },
  {
   "cell_type": "markdown",
   "metadata": {},
   "source": [
    "# Compute RT = (RS + RA)\n",
    "Runs Total = Runs Scored + Runs Allowed: per team per year per park.\n",
    "\n",
    "Also rank the number of games played by each team at each park.  Whatever park a team plays its most games in, will be the park for which the Park Factor is computed."
   ]
  },
  {
   "cell_type": "code",
   "execution_count": 14,
   "metadata": {},
   "outputs": [],
   "source": [
    "def compute_rt_per_park(team_game, game, parks):\n",
    "    \"\"\"Compuate RS and RA per team per year per park\"\"\"\n",
    "    \n",
    "    # bring in the park_id field from game\n",
    "    tg_park = team_game.merge(game)\n",
    "    \n",
    "    # compute RS per team per year per park\n",
    "    rs = tg_park.groupby(['team_id', 'year', 'park_id']).agg(\n",
    "        rs=('r', 'sum'), games=('r', 'count')).reset_index()\n",
    "    \n",
    "    # compute RA per team per year per park\n",
    "    ra = tg_park.groupby(['opponent_team_id', 'year', 'park_id']).agg(\n",
    "        ra=('r', 'sum'), games=('r', 'count')).reset_index()\n",
    "    \n",
    "    # combine the RS and RA dataframes\n",
    "    ra = ra.rename(columns={'opponent_team_id':'team_id'})\n",
    "    rt = rs.merge(ra, \n",
    "              left_on=['team_id', 'year', 'park_id'], \n",
    "              right_on=['team_id', 'year', 'park_id'],\n",
    "              suffixes=('_rs', '_ra'))\n",
    "    \n",
    "    # the number of games in which runs scored must equal \n",
    "    # the number of games in which runs were allowed\n",
    "    assert (rt['games_rs'] == rt['games_ra']).all()\n",
    "    \n",
    "    # when summed over all teams, runs scored must equal runs allowed\n",
    "    assert rt['rs'].sum() == rt['ra'].sum()\n",
    "    \n",
    "    rt['rt'] = rt['rs'] + rt['ra']\n",
    "    rt['games'] = rt['games_rs']\n",
    "    rt = rt.drop(columns=['games_rs', 'games_ra'])   \n",
    "    \n",
    "    # per team per year, rank each park by number of games played there\n",
    "    rt['rank'] = rt.groupby(['team_id', 'year'])['games'].rank(ascending=False)\n",
    "    \n",
    "    return rt"
   ]
  },
  {
   "cell_type": "code",
   "execution_count": 15,
   "metadata": {},
   "outputs": [
    {
     "data": {
      "text/html": [
       "<div>\n",
       "<style scoped>\n",
       "    .dataframe tbody tr th:only-of-type {\n",
       "        vertical-align: middle;\n",
       "    }\n",
       "\n",
       "    .dataframe tbody tr th {\n",
       "        vertical-align: top;\n",
       "    }\n",
       "\n",
       "    .dataframe thead th {\n",
       "        text-align: right;\n",
       "    }\n",
       "</style>\n",
       "<table border=\"1\" class=\"dataframe\">\n",
       "  <thead>\n",
       "    <tr style=\"text-align: right;\">\n",
       "      <th></th>\n",
       "      <th>team_id</th>\n",
       "      <th>year</th>\n",
       "      <th>park_id</th>\n",
       "      <th>rs</th>\n",
       "      <th>ra</th>\n",
       "      <th>rt</th>\n",
       "      <th>games</th>\n",
       "      <th>rank</th>\n",
       "    </tr>\n",
       "  </thead>\n",
       "  <tbody>\n",
       "    <tr>\n",
       "      <th>0</th>\n",
       "      <td>ANA</td>\n",
       "      <td>2015</td>\n",
       "      <td>ANA01</td>\n",
       "      <td>320.0</td>\n",
       "      <td>298.0</td>\n",
       "      <td>618.0</td>\n",
       "      <td>81</td>\n",
       "      <td>1.0</td>\n",
       "    </tr>\n",
       "    <tr>\n",
       "      <th>1</th>\n",
       "      <td>ANA</td>\n",
       "      <td>2015</td>\n",
       "      <td>ARL02</td>\n",
       "      <td>69.0</td>\n",
       "      <td>46.0</td>\n",
       "      <td>115.0</td>\n",
       "      <td>10</td>\n",
       "      <td>2.5</td>\n",
       "    </tr>\n",
       "    <tr>\n",
       "      <th>2</th>\n",
       "      <td>ANA</td>\n",
       "      <td>2015</td>\n",
       "      <td>BAL12</td>\n",
       "      <td>9.0</td>\n",
       "      <td>5.0</td>\n",
       "      <td>14.0</td>\n",
       "      <td>3</td>\n",
       "      <td>13.0</td>\n",
       "    </tr>\n",
       "    <tr>\n",
       "      <th>3</th>\n",
       "      <td>ANA</td>\n",
       "      <td>2015</td>\n",
       "      <td>BOS07</td>\n",
       "      <td>16.0</td>\n",
       "      <td>19.0</td>\n",
       "      <td>35.0</td>\n",
       "      <td>3</td>\n",
       "      <td>13.0</td>\n",
       "    </tr>\n",
       "    <tr>\n",
       "      <th>4</th>\n",
       "      <td>ANA</td>\n",
       "      <td>2015</td>\n",
       "      <td>CHI12</td>\n",
       "      <td>4.0</td>\n",
       "      <td>14.0</td>\n",
       "      <td>18.0</td>\n",
       "      <td>3</td>\n",
       "      <td>13.0</td>\n",
       "    </tr>\n",
       "  </tbody>\n",
       "</table>\n",
       "</div>"
      ],
      "text/plain": [
       "  team_id  year park_id     rs     ra     rt  games  rank\n",
       "0     ANA  2015   ANA01  320.0  298.0  618.0     81   1.0\n",
       "1     ANA  2015   ARL02   69.0   46.0  115.0     10   2.5\n",
       "2     ANA  2015   BAL12    9.0    5.0   14.0      3  13.0\n",
       "3     ANA  2015   BOS07   16.0   19.0   35.0      3  13.0\n",
       "4     ANA  2015   CHI12    4.0   14.0   18.0      3  13.0"
      ]
     },
     "execution_count": 15,
     "metadata": {},
     "output_type": "execute_result"
    }
   ],
   "source": [
    "rt = compute_rt_per_park(team_game, game, parks)\n",
    "rt.head()"
   ]
  },
  {
   "cell_type": "code",
   "execution_count": 16,
   "metadata": {},
   "outputs": [
    {
     "data": {
      "text/plain": [
       "rs    901.0\n",
       "ra    828.0\n",
       "dtype: float64"
      ]
     },
     "execution_count": 16,
     "metadata": {},
     "output_type": "execute_result"
    }
   ],
   "source": [
    "# spot check with Boston\n",
    "rt.query('team_id == \"BOS\" and year==2019')[['rs', 'ra']].sum()"
   ]
  },
  {
   "cell_type": "code",
   "execution_count": 17,
   "metadata": {},
   "outputs": [
    {
     "data": {
      "text/plain": [
       "901"
      ]
     },
     "execution_count": 17,
     "metadata": {},
     "output_type": "execute_result"
    }
   ],
   "source": [
    "# total runs scored: home and away\n",
    "team_game.query('team_id == \"BOS\" and year==2019')['r'].sum()"
   ]
  },
  {
   "cell_type": "code",
   "execution_count": 18,
   "metadata": {},
   "outputs": [
    {
     "data": {
      "text/plain": [
       "828"
      ]
     },
     "execution_count": 18,
     "metadata": {},
     "output_type": "execute_result"
    }
   ],
   "source": [
    "# total runs allowed: home and away\n",
    "team_game.query('opponent_team_id == \"BOS\" and year==2019')['r'].sum()"
   ]
  },
  {
   "cell_type": "code",
   "execution_count": 19,
   "metadata": {},
   "outputs": [
    {
     "data": {
      "text/html": [
       "<div>\n",
       "<style scoped>\n",
       "    .dataframe tbody tr th:only-of-type {\n",
       "        vertical-align: middle;\n",
       "    }\n",
       "\n",
       "    .dataframe tbody tr th {\n",
       "        vertical-align: top;\n",
       "    }\n",
       "\n",
       "    .dataframe thead th {\n",
       "        text-align: right;\n",
       "    }\n",
       "</style>\n",
       "<table border=\"1\" class=\"dataframe\">\n",
       "  <thead>\n",
       "    <tr style=\"text-align: right;\">\n",
       "      <th></th>\n",
       "      <th>r</th>\n",
       "      <th>ra</th>\n",
       "    </tr>\n",
       "  </thead>\n",
       "  <tbody>\n",
       "    <tr>\n",
       "      <th>2898</th>\n",
       "      <td>901</td>\n",
       "      <td>828</td>\n",
       "    </tr>\n",
       "  </tbody>\n",
       "</table>\n",
       "</div>"
      ],
      "text/plain": [
       "        r   ra\n",
       "2898  901  828"
      ]
     },
     "execution_count": 19,
     "metadata": {},
     "output_type": "execute_result"
    }
   ],
   "source": [
    "# and check with Lahman to see its RS and RA for Boston\n",
    "lahman_teams.query('team_id == \"BOS\" and year == 2019')[['r', 'ra']]"
   ]
  },
  {
   "cell_type": "markdown",
   "metadata": {},
   "source": [
    "The spot check for Boston looks good."
   ]
  },
  {
   "cell_type": "markdown",
   "metadata": {},
   "source": [
    "## Split RT into Home Parks and Road Parks\n",
    "The RT dataframe has the total runs scored and allowed per team per park per year.\n",
    "\n",
    "To compute the PF for each home park it is necessary to split out the home parks from the road parks, per team per year.\n",
    "\n",
    "For example, the home park for Boston is Fenway.  The runs scored as the \"home team\" in London, should not count as runs scored in Fenway Park."
   ]
  },
  {
   "cell_type": "code",
   "execution_count": 20,
   "metadata": {},
   "outputs": [],
   "source": [
    "def find_home_parks(rt):\n",
    "    \"\"\"Find each team's home park.\"\"\"\n",
    "    \n",
    "    # rank == 1 identifies each team's home park\n",
    "    home_parks = rt.query('rank == 1').copy()\n",
    "    home_parks['r_avg'] = home_parks['rt'] / home_parks['games']\n",
    "    home_parks = home_parks.drop(columns=['rank'])\n",
    "    \n",
    "    return home_parks"
   ]
  },
  {
   "cell_type": "code",
   "execution_count": 21,
   "metadata": {},
   "outputs": [],
   "source": [
    "def find_road_parks(rt):\n",
    "    \"\"\"Find the road parks for each team.\"\"\"\n",
    "    \n",
    "    # rank > 1 identifies each team's road parks\n",
    "    road_parks = rt.query('rank > 1').copy()\n",
    "    road_parks = road_parks.drop(columns=['rank'])\n",
    "    \n",
    "    return road_parks"
   ]
  },
  {
   "cell_type": "code",
   "execution_count": 22,
   "metadata": {},
   "outputs": [],
   "source": [
    "def compute_road_totals(road_parks):\n",
    "    \"\"\"Sum the totals on the road for per team per year.\"\"\"\n",
    "    \n",
    "    road_totals = road_parks.groupby(['team_id', 'year']).agg(\n",
    "        rt=('rt', 'sum'), games=('games', 'sum'))\n",
    "    road_totals['r_avg'] = road_totals['rt'] / road_totals['games']\n",
    "    \n",
    "    return road_totals"
   ]
  },
  {
   "cell_type": "code",
   "execution_count": 23,
   "metadata": {},
   "outputs": [],
   "source": [
    "home_parks = find_home_parks(rt)"
   ]
  },
  {
   "cell_type": "code",
   "execution_count": 24,
   "metadata": {},
   "outputs": [
    {
     "data": {
      "text/html": [
       "<div>\n",
       "<style scoped>\n",
       "    .dataframe tbody tr th:only-of-type {\n",
       "        vertical-align: middle;\n",
       "    }\n",
       "\n",
       "    .dataframe tbody tr th {\n",
       "        vertical-align: top;\n",
       "    }\n",
       "\n",
       "    .dataframe thead th {\n",
       "        text-align: right;\n",
       "    }\n",
       "</style>\n",
       "<table border=\"1\" class=\"dataframe\">\n",
       "  <thead>\n",
       "    <tr style=\"text-align: right;\">\n",
       "      <th></th>\n",
       "      <th>team_id</th>\n",
       "      <th>year</th>\n",
       "      <th>park_id</th>\n",
       "      <th>rs</th>\n",
       "      <th>ra</th>\n",
       "      <th>rt</th>\n",
       "      <th>games</th>\n",
       "      <th>r_avg</th>\n",
       "    </tr>\n",
       "  </thead>\n",
       "  <tbody>\n",
       "    <tr>\n",
       "      <th>461</th>\n",
       "      <td>BOS</td>\n",
       "      <td>2019</td>\n",
       "      <td>BOS07</td>\n",
       "      <td>431.0</td>\n",
       "      <td>410.0</td>\n",
       "      <td>841.0</td>\n",
       "      <td>79</td>\n",
       "      <td>10.64557</td>\n",
       "    </tr>\n",
       "  </tbody>\n",
       "</table>\n",
       "</div>"
      ],
      "text/plain": [
       "    team_id  year park_id     rs     ra     rt  games     r_avg\n",
       "461     BOS  2019   BOS07  431.0  410.0  841.0     79  10.64557"
      ]
     },
     "execution_count": 24,
     "metadata": {},
     "output_type": "execute_result"
    }
   ],
   "source": [
    "# home park for Boston\n",
    "home_parks.query('team_id == \"BOS\" and year==2019')"
   ]
  },
  {
   "cell_type": "markdown",
   "metadata": {},
   "source": [
    "We see that 79 games were played at Fenway and 841 runs in total were scored at Fenway."
   ]
  },
  {
   "cell_type": "markdown",
   "metadata": {},
   "source": [
    "## Team batting last but not playing at their home park\n",
    "The \"home park\" is the park where the team plays the most games.\n",
    "\n",
    "When Boston hosted the Yankees in London, Boston batted last, but the game was not at Boston's home park, Fenway.  The extraordinary high scoring games in London affect the Fenway Park PF if they are added to Fenway Park total.\n",
    "\n",
    "Another example is the 2015 Baltimore Orioles who hosted Tampa Bay in Tampa Bay. See: https://en.wikipedia.org/wiki/2015_White_Sox%E2%80%93Orioles_crowdless_game"
   ]
  },
  {
   "cell_type": "code",
   "execution_count": 25,
   "metadata": {},
   "outputs": [
    {
     "data": {
      "text/html": [
       "<div>\n",
       "<style scoped>\n",
       "    .dataframe tbody tr th:only-of-type {\n",
       "        vertical-align: middle;\n",
       "    }\n",
       "\n",
       "    .dataframe tbody tr th {\n",
       "        vertical-align: top;\n",
       "    }\n",
       "\n",
       "    .dataframe thead th {\n",
       "        text-align: right;\n",
       "    }\n",
       "</style>\n",
       "<table border=\"1\" class=\"dataframe\">\n",
       "  <thead>\n",
       "    <tr style=\"text-align: right;\">\n",
       "      <th></th>\n",
       "      <th>team_id</th>\n",
       "      <th>year</th>\n",
       "      <th>park_id_game</th>\n",
       "      <th>game_id</th>\n",
       "      <th>park_id_home_team</th>\n",
       "    </tr>\n",
       "  </thead>\n",
       "  <tbody>\n",
       "    <tr>\n",
       "      <th>253</th>\n",
       "      <td>BAL</td>\n",
       "      <td>2015</td>\n",
       "      <td>STP01</td>\n",
       "      <td>BAL201505010</td>\n",
       "      <td>BAL12</td>\n",
       "    </tr>\n",
       "    <tr>\n",
       "      <th>254</th>\n",
       "      <td>BAL</td>\n",
       "      <td>2015</td>\n",
       "      <td>STP01</td>\n",
       "      <td>BAL201505020</td>\n",
       "      <td>BAL12</td>\n",
       "    </tr>\n",
       "    <tr>\n",
       "      <th>255</th>\n",
       "      <td>BAL</td>\n",
       "      <td>2015</td>\n",
       "      <td>STP01</td>\n",
       "      <td>BAL201505030</td>\n",
       "      <td>BAL12</td>\n",
       "    </tr>\n",
       "    <tr>\n",
       "      <th>2637</th>\n",
       "      <td>ATL</td>\n",
       "      <td>2016</td>\n",
       "      <td>FTB01</td>\n",
       "      <td>ATL201607030</td>\n",
       "      <td>ATL02</td>\n",
       "    </tr>\n",
       "    <tr>\n",
       "      <th>5814</th>\n",
       "      <td>HOU</td>\n",
       "      <td>2017</td>\n",
       "      <td>STP01</td>\n",
       "      <td>HOU201708290</td>\n",
       "      <td>HOU03</td>\n",
       "    </tr>\n",
       "    <tr>\n",
       "      <th>5815</th>\n",
       "      <td>HOU</td>\n",
       "      <td>2017</td>\n",
       "      <td>STP01</td>\n",
       "      <td>HOU201708300</td>\n",
       "      <td>HOU03</td>\n",
       "    </tr>\n",
       "    <tr>\n",
       "      <th>5816</th>\n",
       "      <td>HOU</td>\n",
       "      <td>2017</td>\n",
       "      <td>STP01</td>\n",
       "      <td>HOU201708310</td>\n",
       "      <td>HOU03</td>\n",
       "    </tr>\n",
       "    <tr>\n",
       "      <th>6062</th>\n",
       "      <td>MIA</td>\n",
       "      <td>2017</td>\n",
       "      <td>MIL06</td>\n",
       "      <td>MIA201709150</td>\n",
       "      <td>MIA02</td>\n",
       "    </tr>\n",
       "    <tr>\n",
       "      <th>6063</th>\n",
       "      <td>MIA</td>\n",
       "      <td>2017</td>\n",
       "      <td>MIL06</td>\n",
       "      <td>MIA201709160</td>\n",
       "      <td>MIA02</td>\n",
       "    </tr>\n",
       "    <tr>\n",
       "      <th>6064</th>\n",
       "      <td>MIA</td>\n",
       "      <td>2017</td>\n",
       "      <td>MIL06</td>\n",
       "      <td>MIA201709170</td>\n",
       "      <td>MIA02</td>\n",
       "    </tr>\n",
       "    <tr>\n",
       "      <th>6619</th>\n",
       "      <td>PIT</td>\n",
       "      <td>2017</td>\n",
       "      <td>WIL02</td>\n",
       "      <td>PIT201708200</td>\n",
       "      <td>PIT08</td>\n",
       "    </tr>\n",
       "    <tr>\n",
       "      <th>7033</th>\n",
       "      <td>TBA</td>\n",
       "      <td>2017</td>\n",
       "      <td>NYC20</td>\n",
       "      <td>TBA201709110</td>\n",
       "      <td>STP01</td>\n",
       "    </tr>\n",
       "    <tr>\n",
       "      <th>7034</th>\n",
       "      <td>TBA</td>\n",
       "      <td>2017</td>\n",
       "      <td>NYC20</td>\n",
       "      <td>TBA201709120</td>\n",
       "      <td>STP01</td>\n",
       "    </tr>\n",
       "    <tr>\n",
       "      <th>7035</th>\n",
       "      <td>TBA</td>\n",
       "      <td>2017</td>\n",
       "      <td>NYC20</td>\n",
       "      <td>TBA201709130</td>\n",
       "      <td>STP01</td>\n",
       "    </tr>\n",
       "    <tr>\n",
       "      <th>8591</th>\n",
       "      <td>MIN</td>\n",
       "      <td>2018</td>\n",
       "      <td>SJU01</td>\n",
       "      <td>MIN201804170</td>\n",
       "      <td>MIN04</td>\n",
       "    </tr>\n",
       "    <tr>\n",
       "      <th>8592</th>\n",
       "      <td>MIN</td>\n",
       "      <td>2018</td>\n",
       "      <td>SJU01</td>\n",
       "      <td>MIN201804180</td>\n",
       "      <td>MIN04</td>\n",
       "    </tr>\n",
       "    <tr>\n",
       "      <th>8971</th>\n",
       "      <td>PHI</td>\n",
       "      <td>2018</td>\n",
       "      <td>WIL02</td>\n",
       "      <td>PHI201808190</td>\n",
       "      <td>PHI13</td>\n",
       "    </tr>\n",
       "    <tr>\n",
       "      <th>9087</th>\n",
       "      <td>SDN</td>\n",
       "      <td>2018</td>\n",
       "      <td>MNT01</td>\n",
       "      <td>SDN201805040</td>\n",
       "      <td>SAN02</td>\n",
       "    </tr>\n",
       "    <tr>\n",
       "      <th>9088</th>\n",
       "      <td>SDN</td>\n",
       "      <td>2018</td>\n",
       "      <td>MNT01</td>\n",
       "      <td>SDN201805050</td>\n",
       "      <td>SAN02</td>\n",
       "    </tr>\n",
       "    <tr>\n",
       "      <th>9089</th>\n",
       "      <td>SDN</td>\n",
       "      <td>2018</td>\n",
       "      <td>MNT01</td>\n",
       "      <td>SDN201805060</td>\n",
       "      <td>SAN02</td>\n",
       "    </tr>\n",
       "    <tr>\n",
       "      <th>9736</th>\n",
       "      <td>ANA</td>\n",
       "      <td>2019</td>\n",
       "      <td>MNT01</td>\n",
       "      <td>ANA201905040</td>\n",
       "      <td>ANA01</td>\n",
       "    </tr>\n",
       "    <tr>\n",
       "      <th>9737</th>\n",
       "      <td>ANA</td>\n",
       "      <td>2019</td>\n",
       "      <td>MNT01</td>\n",
       "      <td>ANA201905050</td>\n",
       "      <td>ANA01</td>\n",
       "    </tr>\n",
       "    <tr>\n",
       "      <th>10082</th>\n",
       "      <td>BOS</td>\n",
       "      <td>2019</td>\n",
       "      <td>LON01</td>\n",
       "      <td>BOS201906290</td>\n",
       "      <td>BOS07</td>\n",
       "    </tr>\n",
       "    <tr>\n",
       "      <th>10083</th>\n",
       "      <td>BOS</td>\n",
       "      <td>2019</td>\n",
       "      <td>LON01</td>\n",
       "      <td>BOS201906300</td>\n",
       "      <td>BOS07</td>\n",
       "    </tr>\n",
       "    <tr>\n",
       "      <th>10292</th>\n",
       "      <td>CIN</td>\n",
       "      <td>2019</td>\n",
       "      <td>MNT01</td>\n",
       "      <td>CIN201904130</td>\n",
       "      <td>CIN09</td>\n",
       "    </tr>\n",
       "    <tr>\n",
       "      <th>10293</th>\n",
       "      <td>CIN</td>\n",
       "      <td>2019</td>\n",
       "      <td>MNT01</td>\n",
       "      <td>CIN201904140</td>\n",
       "      <td>CIN09</td>\n",
       "    </tr>\n",
       "    <tr>\n",
       "      <th>10725</th>\n",
       "      <td>KCA</td>\n",
       "      <td>2019</td>\n",
       "      <td>OMA01</td>\n",
       "      <td>KCA201906130</td>\n",
       "      <td>KAN06</td>\n",
       "    </tr>\n",
       "  </tbody>\n",
       "</table>\n",
       "</div>"
      ],
      "text/plain": [
       "      team_id  year park_id_game       game_id park_id_home_team\n",
       "253       BAL  2015        STP01  BAL201505010             BAL12\n",
       "254       BAL  2015        STP01  BAL201505020             BAL12\n",
       "255       BAL  2015        STP01  BAL201505030             BAL12\n",
       "2637      ATL  2016        FTB01  ATL201607030             ATL02\n",
       "5814      HOU  2017        STP01  HOU201708290             HOU03\n",
       "5815      HOU  2017        STP01  HOU201708300             HOU03\n",
       "5816      HOU  2017        STP01  HOU201708310             HOU03\n",
       "6062      MIA  2017        MIL06  MIA201709150             MIA02\n",
       "6063      MIA  2017        MIL06  MIA201709160             MIA02\n",
       "6064      MIA  2017        MIL06  MIA201709170             MIA02\n",
       "6619      PIT  2017        WIL02  PIT201708200             PIT08\n",
       "7033      TBA  2017        NYC20  TBA201709110             STP01\n",
       "7034      TBA  2017        NYC20  TBA201709120             STP01\n",
       "7035      TBA  2017        NYC20  TBA201709130             STP01\n",
       "8591      MIN  2018        SJU01  MIN201804170             MIN04\n",
       "8592      MIN  2018        SJU01  MIN201804180             MIN04\n",
       "8971      PHI  2018        WIL02  PHI201808190             PHI13\n",
       "9087      SDN  2018        MNT01  SDN201805040             SAN02\n",
       "9088      SDN  2018        MNT01  SDN201805050             SAN02\n",
       "9089      SDN  2018        MNT01  SDN201805060             SAN02\n",
       "9736      ANA  2019        MNT01  ANA201905040             ANA01\n",
       "9737      ANA  2019        MNT01  ANA201905050             ANA01\n",
       "10082     BOS  2019        LON01  BOS201906290             BOS07\n",
       "10083     BOS  2019        LON01  BOS201906300             BOS07\n",
       "10292     CIN  2019        MNT01  CIN201904130             CIN09\n",
       "10293     CIN  2019        MNT01  CIN201904140             CIN09\n",
       "10725     KCA  2019        OMA01  KCA201906130             KAN06"
      ]
     },
     "execution_count": 25,
     "metadata": {},
     "output_type": "execute_result"
    }
   ],
   "source": [
    "batting_last = team_game.query('bat_last == True').merge(game)[\n",
    "    ['team_id', 'year', 'park_id', 'game_id']]\n",
    "\n",
    "tmp = batting_last.merge(home_parks[['team_id', 'year', 'park_id']],\n",
    "               left_on=['team_id', 'year'],\n",
    "               right_on=['team_id', 'year'],\n",
    "               suffixes=['_game', '_home_team'])\n",
    "\n",
    "diff = tmp.query('park_id_game != park_id_home_team')\n",
    "diff"
   ]
  },
  {
   "cell_type": "code",
   "execution_count": 26,
   "metadata": {},
   "outputs": [],
   "source": [
    "# remove these games and recompute the run totals\n",
    "filt = team_game['game_id'].isin(diff['game_id'])\n",
    "team_game = team_game[~filt]\n",
    "\n",
    "rt = compute_rt_per_park(team_game, game, parks)"
   ]
  },
  {
   "cell_type": "code",
   "execution_count": 27,
   "metadata": {},
   "outputs": [],
   "source": [
    "home_parks = find_home_parks(rt)\n",
    "road_parks = find_road_parks(rt)\n",
    "road_totals = compute_road_totals(road_parks)"
   ]
  },
  {
   "cell_type": "code",
   "execution_count": 28,
   "metadata": {},
   "outputs": [
    {
     "data": {
      "text/html": [
       "<div>\n",
       "<style scoped>\n",
       "    .dataframe tbody tr th:only-of-type {\n",
       "        vertical-align: middle;\n",
       "    }\n",
       "\n",
       "    .dataframe tbody tr th {\n",
       "        vertical-align: top;\n",
       "    }\n",
       "\n",
       "    .dataframe thead th {\n",
       "        text-align: right;\n",
       "    }\n",
       "</style>\n",
       "<table border=\"1\" class=\"dataframe\">\n",
       "  <thead>\n",
       "    <tr style=\"text-align: right;\">\n",
       "      <th></th>\n",
       "      <th>team_id</th>\n",
       "      <th>year</th>\n",
       "      <th>pf</th>\n",
       "      <th>pf_half</th>\n",
       "    </tr>\n",
       "  </thead>\n",
       "  <tbody>\n",
       "    <tr>\n",
       "      <th>0</th>\n",
       "      <td>ANA</td>\n",
       "      <td>2015</td>\n",
       "      <td>0.860724</td>\n",
       "      <td>0.930362</td>\n",
       "    </tr>\n",
       "    <tr>\n",
       "      <th>1</th>\n",
       "      <td>ANA</td>\n",
       "      <td>2016</td>\n",
       "      <td>0.910053</td>\n",
       "      <td>0.955026</td>\n",
       "    </tr>\n",
       "    <tr>\n",
       "      <th>2</th>\n",
       "      <td>ANA</td>\n",
       "      <td>2017</td>\n",
       "      <td>0.949176</td>\n",
       "      <td>0.974588</td>\n",
       "    </tr>\n",
       "    <tr>\n",
       "      <th>3</th>\n",
       "      <td>ANA</td>\n",
       "      <td>2018</td>\n",
       "      <td>0.968622</td>\n",
       "      <td>0.984311</td>\n",
       "    </tr>\n",
       "    <tr>\n",
       "      <th>4</th>\n",
       "      <td>ANA</td>\n",
       "      <td>2019</td>\n",
       "      <td>1.006353</td>\n",
       "      <td>1.003176</td>\n",
       "    </tr>\n",
       "  </tbody>\n",
       "</table>\n",
       "</div>"
      ],
      "text/plain": [
       "  team_id  year        pf   pf_half\n",
       "0     ANA  2015  0.860724  0.930362\n",
       "1     ANA  2016  0.910053  0.955026\n",
       "2     ANA  2017  0.949176  0.974588\n",
       "3     ANA  2018  0.968622  0.984311\n",
       "4     ANA  2019  1.006353  1.003176"
      ]
     },
     "execution_count": 28,
     "metadata": {},
     "output_type": "execute_result"
    }
   ],
   "source": [
    "# ensure the indexes are the same before dividing\n",
    "home_parks = home_parks.set_index(['team_id', 'year'])\n",
    "pf = home_parks['r_avg'] / road_totals['r_avg']\n",
    "pf = pf.to_frame().reset_index()\n",
    "pf = pf.rename(columns={'r_avg':'pf'})\n",
    "pf['pf_half'] = (1+pf['pf']) / 2\n",
    "home_parks = home_parks.reset_index()\n",
    "pf.head()"
   ]
  },
  {
   "cell_type": "code",
   "execution_count": 29,
   "metadata": {},
   "outputs": [
    {
     "data": {
      "text/html": [
       "<div>\n",
       "<style scoped>\n",
       "    .dataframe tbody tr th:only-of-type {\n",
       "        vertical-align: middle;\n",
       "    }\n",
       "\n",
       "    .dataframe tbody tr th {\n",
       "        vertical-align: top;\n",
       "    }\n",
       "\n",
       "    .dataframe thead th {\n",
       "        text-align: right;\n",
       "    }\n",
       "</style>\n",
       "<table border=\"1\" class=\"dataframe\">\n",
       "  <thead>\n",
       "    <tr style=\"text-align: right;\">\n",
       "      <th></th>\n",
       "      <th>team_id</th>\n",
       "      <th>year</th>\n",
       "      <th>pf</th>\n",
       "      <th>pf_half</th>\n",
       "    </tr>\n",
       "  </thead>\n",
       "  <tbody>\n",
       "    <tr>\n",
       "      <th>24</th>\n",
       "      <td>BOS</td>\n",
       "      <td>2019</td>\n",
       "      <td>1.029</td>\n",
       "      <td>1.014</td>\n",
       "    </tr>\n",
       "  </tbody>\n",
       "</table>\n",
       "</div>"
      ],
      "text/plain": [
       "   team_id  year     pf  pf_half\n",
       "24     BOS  2019  1.029    1.014"
      ]
     },
     "execution_count": 29,
     "metadata": {},
     "output_type": "execute_result"
    }
   ],
   "source": [
    "pf.query('team_id == \"BOS\" and year==2019').round(3)"
   ]
  },
  {
   "cell_type": "markdown",
   "metadata": {},
   "source": [
    "We see that the basic PF for Fenway Park is 1.029 rounded to 3 decimal points."
   ]
  },
  {
   "cell_type": "code",
   "execution_count": 30,
   "metadata": {},
   "outputs": [
    {
     "name": "stdout",
     "output_type": "stream",
     "text": [
      "pf: 1.029 pf_half:1.014\n"
     ]
    }
   ],
   "source": [
    "# Spot Check by hand using ESPN home/away splits for Boston 2019\n",
    "# See: http://www.espn.com/mlb/stats/team/_/stat/pitching/split/33\n",
    "# home: 81 games 452 RS  439 RA -- includes London!\n",
    "# away: 81 games 449 RS  389 RA\n",
    "# London Series See: https://en.wikipedia.org/wiki/MLB_London_Series\n",
    "# Boston in London (as home team) 2 games: 21 RS 29 RA\n",
    "fenway_r_avg = (452 + 439 - 21 - 29) / 79\n",
    "away_r_avg = (449 + 389) / 81\n",
    "pf_fenway_2019 = fenway_r_avg / away_r_avg\n",
    "print(f'pf: {pf_fenway_2019:.3f} pf_half:{(1+pf_fenway_2019)/2:.3f}')"
   ]
  },
  {
   "cell_type": "markdown",
   "metadata": {},
   "source": [
    "The value calculated by hand exactly matches the code which computes the PF for every team for every year.  This suggests that the above code is correct.\n",
    "\n",
    "What value do we get if we mistakenly include the high scoring London games in the total for Fenway Park?"
   ]
  },
  {
   "cell_type": "code",
   "execution_count": 31,
   "metadata": {},
   "outputs": [
    {
     "name": "stdout",
     "output_type": "stream",
     "text": [
      "pf: 1.063 pf_half:1.032\n"
     ]
    }
   ],
   "source": [
    "fenway_london_r_avg = (452+439) / 81\n",
    "away_r_avg = (449 + 389) / 81\n",
    "pf_fenway_london_2019 = fenway_london_r_avg / away_r_avg\n",
    "print(f'pf: {pf_fenway_london_2019:.3f} pf_half:{(1+pf_fenway_london_2019)/2:.3f}')"
   ]
  },
  {
   "cell_type": "markdown",
   "metadata": {},
   "source": [
    "ESPN shows the PF for Fenway Park in 2019 as 1.06.  It appears ESPN mistakenly included the London runs as Fenway Park runs.\n",
    "See: http://www.espn.com/mlb/stats/parkfactor/_/year/2019\n",
    "\n",
    "Fangraphs, which presents pf_half values, shows the half value as 1.03.  It appears Fangraphs mistakenly includes the London runs as Fenway Park runs.\n",
    "See: https://www.fangraphs.com/guts.aspx?type=pf&season=2019&teamid=0\n",
    "\n",
    "Repeatable Research is about presenting data analysis that is repeatable.  This allows anyone to catch and fix possible errors, such as the one found here.  Scoring lots of runs in London as the home team, should not increase the Fenway Park PF."
   ]
  },
  {
   "cell_type": "markdown",
   "metadata": {},
   "source": [
    "# Webscrape FanGraphs for PF\n",
    "This will allow for comparing many values with those computed here."
   ]
  },
  {
   "cell_type": "code",
   "execution_count": 32,
   "metadata": {},
   "outputs": [],
   "source": [
    "import requests\n",
    "from io import StringIO\n",
    "from bs4 import BeautifulSoup\n",
    "import requests"
   ]
  },
  {
   "cell_type": "code",
   "execution_count": 33,
   "metadata": {
    "scrolled": false
   },
   "outputs": [],
   "source": [
    "# read the parks factor table on the fangraphs website\n",
    "data = []\n",
    "for year in range(2015, 2020):\n",
    "    url = f'https://www.fangraphs.com/guts.aspx?type=pf&season={year}&teamid=0'\n",
    "    page = requests.get(url)\n",
    "    soup = BeautifulSoup(page.content, 'lxml')\n",
    "    \n",
    "    table = soup.find('table', class_='rgMasterTable')\n",
    "    \n",
    "    header = table.find('thead')\n",
    "    cols = [col.text for col in header.find_all('th')]\n",
    "    \n",
    "    body = table.find('tbody')\n",
    "    for row in body.find_all('tr'):\n",
    "        data.append([col.text for col in row.find_all('td')])"
   ]
  },
  {
   "cell_type": "code",
   "execution_count": 34,
   "metadata": {
    "scrolled": true
   },
   "outputs": [
    {
     "data": {
      "text/html": [
       "<div>\n",
       "<style scoped>\n",
       "    .dataframe tbody tr th:only-of-type {\n",
       "        vertical-align: middle;\n",
       "    }\n",
       "\n",
       "    .dataframe tbody tr th {\n",
       "        vertical-align: top;\n",
       "    }\n",
       "\n",
       "    .dataframe thead th {\n",
       "        text-align: right;\n",
       "    }\n",
       "</style>\n",
       "<table border=\"1\" class=\"dataframe\">\n",
       "  <thead>\n",
       "    <tr style=\"text-align: right;\">\n",
       "      <th></th>\n",
       "      <th>Season</th>\n",
       "      <th>Team</th>\n",
       "      <th>Basic (5yr)</th>\n",
       "      <th>3yr</th>\n",
       "      <th>1yr</th>\n",
       "      <th>1B</th>\n",
       "      <th>2B</th>\n",
       "      <th>3B</th>\n",
       "      <th>HR</th>\n",
       "      <th>SO</th>\n",
       "      <th>BB</th>\n",
       "      <th>GB</th>\n",
       "      <th>FB</th>\n",
       "      <th>LD</th>\n",
       "      <th>IFFB</th>\n",
       "      <th>FIP</th>\n",
       "    </tr>\n",
       "  </thead>\n",
       "  <tbody>\n",
       "    <tr>\n",
       "      <th>0</th>\n",
       "      <td>2015</td>\n",
       "      <td>Angels</td>\n",
       "      <td>97</td>\n",
       "      <td>95</td>\n",
       "      <td>93</td>\n",
       "      <td>100</td>\n",
       "      <td>96</td>\n",
       "      <td>88</td>\n",
       "      <td>98</td>\n",
       "      <td>102</td>\n",
       "      <td>97</td>\n",
       "      <td>101</td>\n",
       "      <td>100</td>\n",
       "      <td>98</td>\n",
       "      <td>100</td>\n",
       "      <td>98</td>\n",
       "    </tr>\n",
       "    <tr>\n",
       "      <th>1</th>\n",
       "      <td>2015</td>\n",
       "      <td>Orioles</td>\n",
       "      <td>101</td>\n",
       "      <td>101</td>\n",
       "      <td>108</td>\n",
       "      <td>101</td>\n",
       "      <td>96</td>\n",
       "      <td>87</td>\n",
       "      <td>106</td>\n",
       "      <td>98</td>\n",
       "      <td>100</td>\n",
       "      <td>101</td>\n",
       "      <td>102</td>\n",
       "      <td>100</td>\n",
       "      <td>100</td>\n",
       "      <td>103</td>\n",
       "    </tr>\n",
       "    <tr>\n",
       "      <th>2</th>\n",
       "      <td>2015</td>\n",
       "      <td>Red Sox</td>\n",
       "      <td>104</td>\n",
       "      <td>107</td>\n",
       "      <td>109</td>\n",
       "      <td>103</td>\n",
       "      <td>112</td>\n",
       "      <td>103</td>\n",
       "      <td>95</td>\n",
       "      <td>99</td>\n",
       "      <td>99</td>\n",
       "      <td>102</td>\n",
       "      <td>97</td>\n",
       "      <td>103</td>\n",
       "      <td>101</td>\n",
       "      <td>98</td>\n",
       "    </tr>\n",
       "    <tr>\n",
       "      <th>3</th>\n",
       "      <td>2015</td>\n",
       "      <td>White Sox</td>\n",
       "      <td>99</td>\n",
       "      <td>98</td>\n",
       "      <td>95</td>\n",
       "      <td>98</td>\n",
       "      <td>95</td>\n",
       "      <td>93</td>\n",
       "      <td>105</td>\n",
       "      <td>102</td>\n",
       "      <td>103</td>\n",
       "      <td>98</td>\n",
       "      <td>101</td>\n",
       "      <td>98</td>\n",
       "      <td>105</td>\n",
       "      <td>102</td>\n",
       "    </tr>\n",
       "    <tr>\n",
       "      <th>4</th>\n",
       "      <td>2015</td>\n",
       "      <td>Indians</td>\n",
       "      <td>102</td>\n",
       "      <td>106</td>\n",
       "      <td>112</td>\n",
       "      <td>101</td>\n",
       "      <td>106</td>\n",
       "      <td>83</td>\n",
       "      <td>102</td>\n",
       "      <td>100</td>\n",
       "      <td>100</td>\n",
       "      <td>101</td>\n",
       "      <td>97</td>\n",
       "      <td>101</td>\n",
       "      <td>92</td>\n",
       "      <td>100</td>\n",
       "    </tr>\n",
       "  </tbody>\n",
       "</table>\n",
       "</div>"
      ],
      "text/plain": [
       "   Season       Team  Basic (5yr)  3yr  1yr   1B   2B   3B   HR   SO   BB  \\\n",
       "0    2015     Angels           97   95   93  100   96   88   98  102   97   \n",
       "1    2015    Orioles          101  101  108  101   96   87  106   98  100   \n",
       "2    2015    Red Sox          104  107  109  103  112  103   95   99   99   \n",
       "3    2015  White Sox           99   98   95   98   95   93  105  102  103   \n",
       "4    2015    Indians          102  106  112  101  106   83  102  100  100   \n",
       "\n",
       "    GB   FB   LD  IFFB  FIP  \n",
       "0  101  100   98   100   98  \n",
       "1  101  102  100   100  103  \n",
       "2  102   97  103   101   98  \n",
       "3   98  101   98   105  102  \n",
       "4  101   97  101    92  100  "
      ]
     },
     "execution_count": 34,
     "metadata": {},
     "output_type": "execute_result"
    }
   ],
   "source": [
    "fangraphs = pd.DataFrame(data, columns = cols)\n",
    "\n",
    "# change datatypes from string to int\n",
    "for col in fangraphs.columns:\n",
    "    if col != 'Team':\n",
    "        fangraphs[col] = fangraphs[col].astype('int')\n",
    "\n",
    "fangraphs.head()"
   ]
  },
  {
   "cell_type": "code",
   "execution_count": 35,
   "metadata": {},
   "outputs": [],
   "source": [
    "nb_data_path = data_dir / 'retrosheet/nb_data'\n",
    "nb_data_path.mkdir(parents=True, exist_ok=True)\n",
    "dh.to_csv_with_types(fangraphs, nb_data_path / 'fangraphs.csv')"
   ]
  },
  {
   "cell_type": "code",
   "execution_count": 36,
   "metadata": {},
   "outputs": [
    {
     "data": {
      "text/html": [
       "<div>\n",
       "<style scoped>\n",
       "    .dataframe tbody tr th:only-of-type {\n",
       "        vertical-align: middle;\n",
       "    }\n",
       "\n",
       "    .dataframe tbody tr th {\n",
       "        vertical-align: top;\n",
       "    }\n",
       "\n",
       "    .dataframe thead th {\n",
       "        text-align: right;\n",
       "    }\n",
       "</style>\n",
       "<table border=\"1\" class=\"dataframe\">\n",
       "  <thead>\n",
       "    <tr style=\"text-align: right;\">\n",
       "      <th></th>\n",
       "      <th>team_id</th>\n",
       "      <th>year</th>\n",
       "      <th>pf</th>\n",
       "      <th>pf_half</th>\n",
       "      <th>name</th>\n",
       "    </tr>\n",
       "  </thead>\n",
       "  <tbody>\n",
       "    <tr>\n",
       "      <th>0</th>\n",
       "      <td>ANA</td>\n",
       "      <td>2015</td>\n",
       "      <td>0.860724</td>\n",
       "      <td>0.930362</td>\n",
       "      <td>Angels</td>\n",
       "    </tr>\n",
       "    <tr>\n",
       "      <th>1</th>\n",
       "      <td>ANA</td>\n",
       "      <td>2016</td>\n",
       "      <td>0.910053</td>\n",
       "      <td>0.955026</td>\n",
       "      <td>Angels</td>\n",
       "    </tr>\n",
       "    <tr>\n",
       "      <th>2</th>\n",
       "      <td>ANA</td>\n",
       "      <td>2017</td>\n",
       "      <td>0.949176</td>\n",
       "      <td>0.974588</td>\n",
       "      <td>Angels</td>\n",
       "    </tr>\n",
       "    <tr>\n",
       "      <th>3</th>\n",
       "      <td>ANA</td>\n",
       "      <td>2018</td>\n",
       "      <td>0.968622</td>\n",
       "      <td>0.984311</td>\n",
       "      <td>Angels</td>\n",
       "    </tr>\n",
       "    <tr>\n",
       "      <th>4</th>\n",
       "      <td>ANA</td>\n",
       "      <td>2019</td>\n",
       "      <td>1.006353</td>\n",
       "      <td>1.003176</td>\n",
       "      <td>Angels</td>\n",
       "    </tr>\n",
       "  </tbody>\n",
       "</table>\n",
       "</div>"
      ],
      "text/plain": [
       "  team_id  year        pf   pf_half    name\n",
       "0     ANA  2015  0.860724  0.930362  Angels\n",
       "1     ANA  2016  0.910053  0.955026  Angels\n",
       "2     ANA  2017  0.949176  0.974588  Angels\n",
       "3     ANA  2018  0.968622  0.984311  Angels\n",
       "4     ANA  2019  1.006353  1.003176  Angels"
      ]
     },
     "execution_count": 36,
     "metadata": {},
     "output_type": "execute_result"
    }
   ],
   "source": [
    "# add the team name to the pf dataframe to compare with Fangraphs\n",
    "pf = pf.merge(teams[['team_id', 'year', 'name']], left_on=['team_id', 'year'], right_on=['team_id', 'year'])\n",
    "pf.head()"
   ]
  },
  {
   "cell_type": "code",
   "execution_count": 38,
   "metadata": {},
   "outputs": [
    {
     "data": {
      "text/html": [
       "<div>\n",
       "<style scoped>\n",
       "    .dataframe tbody tr th:only-of-type {\n",
       "        vertical-align: middle;\n",
       "    }\n",
       "\n",
       "    .dataframe tbody tr th {\n",
       "        vertical-align: top;\n",
       "    }\n",
       "\n",
       "    .dataframe thead th {\n",
       "        text-align: right;\n",
       "    }\n",
       "</style>\n",
       "<table border=\"1\" class=\"dataframe\">\n",
       "  <thead>\n",
       "    <tr style=\"text-align: right;\">\n",
       "      <th></th>\n",
       "      <th>team_id</th>\n",
       "      <th>year</th>\n",
       "      <th>pf</th>\n",
       "      <th>pf_half</th>\n",
       "      <th>name</th>\n",
       "      <th>Season</th>\n",
       "      <th>Team</th>\n",
       "      <th>1yr</th>\n",
       "    </tr>\n",
       "  </thead>\n",
       "  <tbody>\n",
       "    <tr>\n",
       "      <th>0</th>\n",
       "      <td>ANA</td>\n",
       "      <td>2015</td>\n",
       "      <td>0.860724</td>\n",
       "      <td>0.930362</td>\n",
       "      <td>Angels</td>\n",
       "      <td>2015</td>\n",
       "      <td>Angels</td>\n",
       "      <td>93</td>\n",
       "    </tr>\n",
       "    <tr>\n",
       "      <th>1</th>\n",
       "      <td>ANA</td>\n",
       "      <td>2016</td>\n",
       "      <td>0.910053</td>\n",
       "      <td>0.955026</td>\n",
       "      <td>Angels</td>\n",
       "      <td>2016</td>\n",
       "      <td>Angels</td>\n",
       "      <td>96</td>\n",
       "    </tr>\n",
       "    <tr>\n",
       "      <th>2</th>\n",
       "      <td>ANA</td>\n",
       "      <td>2017</td>\n",
       "      <td>0.949176</td>\n",
       "      <td>0.974588</td>\n",
       "      <td>Angels</td>\n",
       "      <td>2017</td>\n",
       "      <td>Angels</td>\n",
       "      <td>98</td>\n",
       "    </tr>\n",
       "    <tr>\n",
       "      <th>3</th>\n",
       "      <td>ANA</td>\n",
       "      <td>2018</td>\n",
       "      <td>0.968622</td>\n",
       "      <td>0.984311</td>\n",
       "      <td>Angels</td>\n",
       "      <td>2018</td>\n",
       "      <td>Angels</td>\n",
       "      <td>99</td>\n",
       "    </tr>\n",
       "    <tr>\n",
       "      <th>4</th>\n",
       "      <td>ANA</td>\n",
       "      <td>2019</td>\n",
       "      <td>1.006353</td>\n",
       "      <td>1.003176</td>\n",
       "      <td>Angels</td>\n",
       "      <td>2019</td>\n",
       "      <td>Angels</td>\n",
       "      <td>101</td>\n",
       "    </tr>\n",
       "  </tbody>\n",
       "</table>\n",
       "</div>"
      ],
      "text/plain": [
       "  team_id  year        pf   pf_half    name  Season    Team  1yr\n",
       "0     ANA  2015  0.860724  0.930362  Angels    2015  Angels   93\n",
       "1     ANA  2016  0.910053  0.955026  Angels    2016  Angels   96\n",
       "2     ANA  2017  0.949176  0.974588  Angels    2017  Angels   98\n",
       "3     ANA  2018  0.968622  0.984311  Angels    2018  Angels   99\n",
       "4     ANA  2019  1.006353  1.003176  Angels    2019  Angels  101"
      ]
     },
     "execution_count": 38,
     "metadata": {},
     "output_type": "execute_result"
    }
   ],
   "source": [
    "# add the 1yr PF from Fangraphs\n",
    "pf_fg = pf.merge(fangraphs[['Season', 'Team', '1yr']],\n",
    "         left_on=['year', 'name'],\n",
    "         right_on=['Season', 'Team'],\n",
    "         validate='one_to_one')\n",
    "pf_fg.head()"
   ]
  },
  {
   "cell_type": "code",
   "execution_count": 39,
   "metadata": {},
   "outputs": [
    {
     "data": {
      "text/plain": [
       "0.021251573577154792"
      ]
     },
     "execution_count": 39,
     "metadata": {},
     "output_type": "execute_result"
    }
   ],
   "source": [
    "# compute the relative differences\n",
    "pf_fg['pf_half'] *= 100  # to be on the same scale as Fangraphs\n",
    "rel_diff = np.abs(1.0 - pf_fg['pf_half'] / pf_fg['1yr'])\n",
    "rel_diff.max()"
   ]
  },
  {
   "cell_type": "code",
   "execution_count": 40,
   "metadata": {},
   "outputs": [
    {
     "data": {
      "text/html": [
       "<div>\n",
       "<style scoped>\n",
       "    .dataframe tbody tr th:only-of-type {\n",
       "        vertical-align: middle;\n",
       "    }\n",
       "\n",
       "    .dataframe tbody tr th {\n",
       "        vertical-align: top;\n",
       "    }\n",
       "\n",
       "    .dataframe thead th {\n",
       "        text-align: right;\n",
       "    }\n",
       "</style>\n",
       "<table border=\"1\" class=\"dataframe\">\n",
       "  <thead>\n",
       "    <tr style=\"text-align: right;\">\n",
       "      <th></th>\n",
       "      <th>team_id</th>\n",
       "      <th>year</th>\n",
       "      <th>pf</th>\n",
       "      <th>pf_half</th>\n",
       "      <th>name</th>\n",
       "      <th>Season</th>\n",
       "      <th>Team</th>\n",
       "      <th>1yr</th>\n",
       "      <th>park_id_game</th>\n",
       "      <th>game_id</th>\n",
       "      <th>park_id_home_team</th>\n",
       "    </tr>\n",
       "  </thead>\n",
       "  <tbody>\n",
       "    <tr>\n",
       "      <th>0</th>\n",
       "      <td>BAL</td>\n",
       "      <td>2015</td>\n",
       "      <td>1.205903</td>\n",
       "      <td>110.295170</td>\n",
       "      <td>Orioles</td>\n",
       "      <td>2015</td>\n",
       "      <td>Orioles</td>\n",
       "      <td>108</td>\n",
       "      <td>STP01</td>\n",
       "      <td>BAL201505010</td>\n",
       "      <td>BAL12</td>\n",
       "    </tr>\n",
       "    <tr>\n",
       "      <th>1</th>\n",
       "      <td>BAL</td>\n",
       "      <td>2015</td>\n",
       "      <td>1.205903</td>\n",
       "      <td>110.295170</td>\n",
       "      <td>Orioles</td>\n",
       "      <td>2015</td>\n",
       "      <td>Orioles</td>\n",
       "      <td>108</td>\n",
       "      <td>STP01</td>\n",
       "      <td>BAL201505020</td>\n",
       "      <td>BAL12</td>\n",
       "    </tr>\n",
       "    <tr>\n",
       "      <th>2</th>\n",
       "      <td>BAL</td>\n",
       "      <td>2015</td>\n",
       "      <td>1.205903</td>\n",
       "      <td>110.295170</td>\n",
       "      <td>Orioles</td>\n",
       "      <td>2015</td>\n",
       "      <td>Orioles</td>\n",
       "      <td>108</td>\n",
       "      <td>STP01</td>\n",
       "      <td>BAL201505030</td>\n",
       "      <td>BAL12</td>\n",
       "    </tr>\n",
       "    <tr>\n",
       "      <th>3</th>\n",
       "      <td>BOS</td>\n",
       "      <td>2019</td>\n",
       "      <td>1.028987</td>\n",
       "      <td>101.449352</td>\n",
       "      <td>Red Sox</td>\n",
       "      <td>2019</td>\n",
       "      <td>Red Sox</td>\n",
       "      <td>103</td>\n",
       "      <td>LON01</td>\n",
       "      <td>BOS201906290</td>\n",
       "      <td>BOS07</td>\n",
       "    </tr>\n",
       "    <tr>\n",
       "      <th>4</th>\n",
       "      <td>BOS</td>\n",
       "      <td>2019</td>\n",
       "      <td>1.028987</td>\n",
       "      <td>101.449352</td>\n",
       "      <td>Red Sox</td>\n",
       "      <td>2019</td>\n",
       "      <td>Red Sox</td>\n",
       "      <td>103</td>\n",
       "      <td>LON01</td>\n",
       "      <td>BOS201906300</td>\n",
       "      <td>BOS07</td>\n",
       "    </tr>\n",
       "  </tbody>\n",
       "</table>\n",
       "</div>"
      ],
      "text/plain": [
       "  team_id  year        pf     pf_half     name  Season     Team  1yr  \\\n",
       "0     BAL  2015  1.205903  110.295170  Orioles    2015  Orioles  108   \n",
       "1     BAL  2015  1.205903  110.295170  Orioles    2015  Orioles  108   \n",
       "2     BAL  2015  1.205903  110.295170  Orioles    2015  Orioles  108   \n",
       "3     BOS  2019  1.028987  101.449352  Red Sox    2019  Red Sox  103   \n",
       "4     BOS  2019  1.028987  101.449352  Red Sox    2019  Red Sox  103   \n",
       "\n",
       "  park_id_game       game_id park_id_home_team  \n",
       "0        STP01  BAL201505010             BAL12  \n",
       "1        STP01  BAL201505020             BAL12  \n",
       "2        STP01  BAL201505030             BAL12  \n",
       "3        LON01  BOS201906290             BOS07  \n",
       "4        LON01  BOS201906300             BOS07  "
      ]
     },
     "execution_count": 40,
     "metadata": {},
     "output_type": "execute_result"
    }
   ],
   "source": [
    "# examine the largest differences between what is computed here and Fangraphs\n",
    "pf_fg.loc[rel_diff > 0.015].merge(diff,\n",
    "    left_on=['team_id', 'year'],\n",
    "    right_on = ['team_id', 'year'])"
   ]
  },
  {
   "cell_type": "markdown",
   "metadata": {},
   "source": [
    "These differences are for the games previously mentioned.  Boston hosting the Yankees in London in 2019 and Baltimore hosting Tampa Bay in Tampa Bay in 2015."
   ]
  },
  {
   "cell_type": "code",
   "execution_count": 41,
   "metadata": {},
   "outputs": [
    {
     "data": {
      "text/html": [
       "<div>\n",
       "<style scoped>\n",
       "    .dataframe tbody tr th:only-of-type {\n",
       "        vertical-align: middle;\n",
       "    }\n",
       "\n",
       "    .dataframe tbody tr th {\n",
       "        vertical-align: top;\n",
       "    }\n",
       "\n",
       "    .dataframe thead th {\n",
       "        text-align: right;\n",
       "    }\n",
       "</style>\n",
       "<table border=\"1\" class=\"dataframe\">\n",
       "  <thead>\n",
       "    <tr style=\"text-align: right;\">\n",
       "      <th></th>\n",
       "      <th>team_id</th>\n",
       "      <th>year</th>\n",
       "      <th>pf</th>\n",
       "      <th>pf_half</th>\n",
       "      <th>name</th>\n",
       "      <th>Season</th>\n",
       "      <th>Team</th>\n",
       "      <th>1yr</th>\n",
       "    </tr>\n",
       "  </thead>\n",
       "  <tbody>\n",
       "    <tr>\n",
       "      <th>24</th>\n",
       "      <td>BOS</td>\n",
       "      <td>2019</td>\n",
       "      <td>1.028987</td>\n",
       "      <td>101.449352</td>\n",
       "      <td>Red Sox</td>\n",
       "      <td>2019</td>\n",
       "      <td>Red Sox</td>\n",
       "      <td>103</td>\n",
       "    </tr>\n",
       "  </tbody>\n",
       "</table>\n",
       "</div>"
      ],
      "text/plain": [
       "   team_id  year        pf     pf_half     name  Season     Team  1yr\n",
       "24     BOS  2019  1.028987  101.449352  Red Sox    2019  Red Sox  103"
      ]
     },
     "execution_count": 41,
     "metadata": {},
     "output_type": "execute_result"
    }
   ],
   "source": [
    "# what does Fangraphs say about Boston?\n",
    "pf_fg.query('team_id == \"BOS\" and year == 2019')"
   ]
  },
  {
   "cell_type": "markdown",
   "metadata": {},
   "source": [
    "Fangraphs reports the halved value (1yr) as 103.  This is the halved value is what we got when we included the London games in with Fenway park.  Fangraphs accidentally included the London games in with Fenway."
   ]
  },
  {
   "cell_type": "markdown",
   "metadata": {},
   "source": [
    "What does ESPN say about Boston?  \n",
    "http://www.espn.com/mlb/stats/parkfactor/_/year/2019  \n",
    "\n",
    "They have the non-halved value as 1.063 which exactly matches the value computed by adding the London games in with the Fenway Park games.  Both ESPN and Fangraphs made the same mistake."
   ]
  },
  {
   "cell_type": "code",
   "execution_count": 42,
   "metadata": {},
   "outputs": [],
   "source": [
    "# save the PF dataframe\n",
    "pf = pf.round(2)\n",
    "dh.to_csv_with_types(pf, data_dir / 'retrosheet/nb_data/pf.csv')"
   ]
  },
  {
   "cell_type": "markdown",
   "metadata": {},
   "source": [
    "# Summary\n",
    "Computing the Park Factor is relatively easy using the Retorsheet data however it is important to distinguish between being the \"home team\" (who bats last) and playing at the \"home park\".\n",
    "\n",
    "Less than 1% of all games have the team batting last, not playing in their home park.  These games were removed from the data and the Park Factor was computed for each home park.\n",
    "\n",
    "For the exceptionally high scoring games in London in 2019 it appears that both ESPN and Fangraphs added the London runs to Fenway Park, causing an incorrect Fenway Park PF.\n",
    "\n",
    "Similarly, for Baltimore hosting Tampa Bay in Tampa Bay in 2015, both Fangraphs and ESPN added the Tampa Bay runs to Camden Yards, causing an incorrect Camden Yards PF."
   ]
  }
 ],
 "metadata": {
  "kernelspec": {
   "display_name": "Python 3",
   "language": "python",
   "name": "python3"
  },
  "language_info": {
   "codemirror_mode": {
    "name": "ipython",
    "version": 3
   },
   "file_extension": ".py",
   "mimetype": "text/x-python",
   "name": "python",
   "nbconvert_exporter": "python",
   "pygments_lexer": "ipython3",
   "version": "3.7.5"
  }
 },
 "nbformat": 4,
 "nbformat_minor": 2
}
