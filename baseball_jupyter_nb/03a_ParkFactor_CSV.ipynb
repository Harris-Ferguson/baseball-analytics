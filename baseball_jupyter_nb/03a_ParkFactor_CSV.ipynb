{
 "cells": [
  {
   "cell_type": "markdown",
   "metadata": {},
   "source": [
    "# Computing Baseball Park Factors<br>Home Team Not Playing in Home Park\n",
    "\n",
    "The original term for baseball analystics is Sabermetrics.  It is not necessary to know anything about Sabermetrics to understand this notebook.  However, understanding the rules of baseball is helpful.\n",
    "\n",
    "For baseball fans, an excellent introduction to Sabermetrics is: [Understanding Sabermetrics: Second Edition](https://www.amazon.com/Understanding-Sabermetrics-Introduction-Baseball-Statistics/dp/1476667667/).  The three authors are all professors of mathematics who love baseball.\n",
    "\n",
    "Sabermetric blog posts and websites have evolved a specialized terminology that uses some of the same terms as data science but with slightly different meanings. For a data scientist learning about Sabermetrics, I recommended the above book written by mathematics professors and Wikipedia as both of these sources use standard data science terminology.\n",
    "\n",
    "On Wikipedia, see for example:\n",
    "* https://en.wikipedia.org/wiki/Baseball_statistics\n",
    "* https://en.wikipedia.org/wiki/Batting_park_factor\n",
    "\n",
    "The park factor (PF) is computed for each home park, and it is shown that ESPN and Fangraphs wrongly computed the PF for Fenway Park in 2019.  This error is due to mistakenly counting the high scoring games in London as runs scored in Fenway Park.  A similar error occurs when Baltimore was forced to play \"home games\" on the road in 2015.  Those runs were mistakenly counted by ESPN and Fangraphs as if they were scored at Camden Yards."
   ]
  },
  {
   "cell_type": "markdown",
   "metadata": {},
   "source": [
    "# Basic Park Factor\n",
    "\n",
    "Each baseball park is different.  Some parks, such as Coors Field in Denver are easy to score runs in whereas others, such as Oracle Park in San Francisco are difficult to score runs in.\n",
    "\n",
    "In order to compare players who play in different parks, it is helpful to account for how much their home park affects their performance.\n",
    "\n",
    "The basic park factor formula is:\n",
    "\n",
    "$$PF = {(RS_{home} + RA_{home}) / G_{home} \\over \\operatorname(RS_{road} + RA_{road}) / G_{road}}$$\n",
    "\n",
    "For each team:  \n",
    "$RS_{home}$ is Runs Scored at home  \n",
    "$RA_{home}$ is Runs Allowed at home  \n",
    "$G_{home}$ is number of Games played at home  \n",
    "$RS_{road}$ is Runs Scored on the road  \n",
    "$RA_{home}$ is Runs Allowed on the road  \n",
    "$G_{home}$ is number of Games played on the road  \n",
    "\n",
    "Example: 2019 LA Dodgers   \n",
    "$RS_{home}$ = 441  \n",
    "$RA_{home}$ = 271  \n",
    "$G_{home}$ = 81  \n",
    "$RS_{road}$ = 445  \n",
    "$RA_{road}$ = 342  \n",
    "$G_{road}$ = 81  \n",
    "\n",
    "Plugging in the above numbers gives a basic PF for runs for Dodger Stadium in 2019 as 0.9047.  Often this value is multiplied by 100 so that 100 represents league average instead of 1.0.\n",
    "\n",
    "As a player only plays half of their games at home, the PF is sometimes \"halved\" as follows $PF_{half} = (1+PF)/2$.  This gives a value of 0.952 for Dodger Stadium.  [Fangraphs](https://www.fangraphs.com/guts.aspx?type=pf&teamid=0&season=2019) shows the \"halved\" value as 0.96 (for 1yr PF by runs) for 2019.  Which is in close agreement.\n",
    "\n",
    "A value less than 1.0 means that fewer runs than average are scored at Dodger Stadium.  This could be used to determine an equivalent ERA.  For example, Clayton Kershaw had an ERA of 3.02 in 2019.  Assuming half those games were at Dodger Stadium and using $PF_{half}$ means that his ERA in an average park would have been 3.02 / 0.952 = 3.17 without the pitching advantage of Dodger Stadium.\n",
    "\n",
    "The Park Factor formula nicely factors out most of the qualities unique to the home team.  For example, an excellent scoring team would score more runs both home and away.  As RS is both in the numerator and the denominator, the team's above average run scoring ability is \"canceled out\", leaving just the contribution due to the park.  Similarly, an excellent pitching team will allow fewer runs both home and away.  As RA is in both the numerator and the denominator, this also \"cancels out\", leaving just the contribution due to the park."
   ]
  },
  {
   "cell_type": "markdown",
   "metadata": {},
   "source": [
    "## Case Example: Fenway Park 2019\n",
    "All park factors for all stadiums for several years will be calculated while paying particular attention to a specific example, Fenway Park in Boston in 2019.\n",
    "\n",
    "The 2019 Fenway Park calculation is interesting because in 2019 Boston hosted the Yankess in London for two games.  See: https://en.wikipedia.org/wiki/MLB_London_Series. \n",
    "\n",
    "These 2 games were extremely high scoring, with the two teams scoring a total of 50 runs.  Even though Boston was the \"home team\", meaning they batted last, the runs were not scored at their home park of Fenway, but in London."
   ]
  },
  {
   "cell_type": "markdown",
   "metadata": {},
   "source": [
    "## Home Team not playing in Home Park\n",
    "The Park Factor was created to measure the affect of each park on baseball statistics.  \n",
    "\n",
    "\"Home\" in the PF formula doesn't mean \"home team\" it means \"home park\".  Boston's home park is Fenway, so the values in the numerator are Runs Scored at Fenway, Runs Allowed at Fenway and Games played at Fenway.  If Boston happens to bat last at a baseball game in London, this should not affect the Fenway Park PF.\n",
    "\n",
    "As it is quite rare for the team batting last to not be playing in their home park, it is sufficient to remove all such games prior to computing each team's Park Factor."
   ]
  },
  {
   "cell_type": "code",
   "execution_count": 1,
   "metadata": {},
   "outputs": [],
   "source": [
    "import os\n",
    "import pandas as pd\n",
    "import numpy as np\n",
    "from pathlib import Path\n",
    "import re"
   ]
  },
  {
   "cell_type": "code",
   "execution_count": 2,
   "metadata": {},
   "outputs": [],
   "source": [
    "import sys\n",
    "\n",
    "# import data_helper.py from download_scripts directory\n",
    "sys.path.append('../download_scripts')\n",
    "import data_helper as dh"
   ]
  },
  {
   "cell_type": "code",
   "execution_count": 3,
   "metadata": {},
   "outputs": [],
   "source": [
    "data_dir = Path('../data')\n",
    "lahman_data = data_dir.joinpath('lahman/wrangled').resolve()\n",
    "retrosheet_data = data_dir.joinpath('retrosheet/wrangled').resolve()"
   ]
  },
  {
   "cell_type": "markdown",
   "metadata": {},
   "source": [
    "## Read in the Data\n",
    "Reading in the data up front makes the code clearer, but may use more memory. By only selecting the columns that are needed, much less memory is used as these are very wide csv files."
   ]
  },
  {
   "cell_type": "code",
   "execution_count": 4,
   "metadata": {},
   "outputs": [],
   "source": [
    "cols = ['game_id', 'year', 'bat_last', 'team_id', 'opponent_team_id', 'r']\n",
    "team_game = dh.from_csv_with_types(retrosheet_data / 'team_game.csv.gz', usecols=cols)"
   ]
  },
  {
   "cell_type": "code",
   "execution_count": 5,
   "metadata": {},
   "outputs": [],
   "source": [
    "cols = ['game_id', 'park_id', 'game_start']\n",
    "game = dh.from_csv_with_types(retrosheet_data / 'game.csv.gz', usecols=cols)"
   ]
  },
  {
   "cell_type": "code",
   "execution_count": 6,
   "metadata": {},
   "outputs": [],
   "source": [
    "parks = dh.from_csv_with_types(retrosheet_data / 'parks.csv')"
   ]
  },
  {
   "cell_type": "code",
   "execution_count": 7,
   "metadata": {},
   "outputs": [],
   "source": [
    "teams = dh.from_csv_with_types(retrosheet_data / 'teams.csv')"
   ]
  },
  {
   "cell_type": "code",
   "execution_count": 8,
   "metadata": {},
   "outputs": [],
   "source": [
    "# for now, focus on 2015 onward\n",
    "team_game = team_game.query('year >= 2015')\n",
    "game['year'] = game['game_start'].dt.year\n",
    "game = game.query('year >= 2015')\n",
    "game = game.drop(columns='game_start')"
   ]
  },
  {
   "cell_type": "markdown",
   "metadata": {},
   "source": [
    "## Understanding the team_game CSV file\n",
    "The team_game csv file is one of two files that was created when the output of the cwgame parser was made [tidy](https://en.wikipedia.org/wiki/Tidy_data).\n",
    "\n",
    "The team_game file has one team per game. Since each game has two teams, there are two rows per game. The team_id field identifies the team that the statistics are for. The opponent_team_id identifies the opponent.\n",
    "\n",
    "The fields which uniquely identify a record are: team_id, game_id"
   ]
  },
  {
   "cell_type": "code",
   "execution_count": 9,
   "metadata": {},
   "outputs": [
    {
     "data": {
      "text/html": [
       "<div>\n",
       "<style scoped>\n",
       "    .dataframe tbody tr th:only-of-type {\n",
       "        vertical-align: middle;\n",
       "    }\n",
       "\n",
       "    .dataframe tbody tr th {\n",
       "        vertical-align: top;\n",
       "    }\n",
       "\n",
       "    .dataframe thead th {\n",
       "        text-align: right;\n",
       "    }\n",
       "</style>\n",
       "<table border=\"1\" class=\"dataframe\">\n",
       "  <thead>\n",
       "    <tr style=\"text-align: right;\">\n",
       "      <th></th>\n",
       "      <th>game_id</th>\n",
       "      <th>bat_last</th>\n",
       "      <th>team_id</th>\n",
       "      <th>opponent_team_id</th>\n",
       "      <th>r</th>\n",
       "      <th>year</th>\n",
       "    </tr>\n",
       "  </thead>\n",
       "  <tbody>\n",
       "    <tr>\n",
       "      <th>260466</th>\n",
       "      <td>BOS201906290</td>\n",
       "      <td>True</td>\n",
       "      <td>BOS</td>\n",
       "      <td>NYA</td>\n",
       "      <td>13</td>\n",
       "      <td>2019</td>\n",
       "    </tr>\n",
       "    <tr>\n",
       "      <th>260467</th>\n",
       "      <td>BOS201906290</td>\n",
       "      <td>False</td>\n",
       "      <td>NYA</td>\n",
       "      <td>BOS</td>\n",
       "      <td>17</td>\n",
       "      <td>2019</td>\n",
       "    </tr>\n",
       "  </tbody>\n",
       "</table>\n",
       "</div>"
      ],
      "text/plain": [
       "             game_id  bat_last team_id opponent_team_id   r  year\n",
       "260466  BOS201906290      True     BOS              NYA  13  2019\n",
       "260467  BOS201906290     False     NYA              BOS  17  2019"
      ]
     },
     "execution_count": 9,
     "metadata": {},
     "output_type": "execute_result"
    }
   ],
   "source": [
    "# examine 1 game (two teams)\n",
    "team_game.query('game_id == \"BOS201906290\"')"
   ]
  },
  {
   "cell_type": "markdown",
   "metadata": {},
   "source": [
    "We see the Red Sox (BOS) played the Yankees (NYA).  The Red Sox batted last and scored 13 runs whereas the Yankees batted first and scored 17 runs."
   ]
  },
  {
   "cell_type": "markdown",
   "metadata": {},
   "source": [
    "## Understanding the game CSV file\n",
    "The game csv file is one of two files that was created when the output of the cwgame parser was made tidy.\n",
    "\n",
    "The game file has one row per game, with information such as which baseball park the game was played in."
   ]
  },
  {
   "cell_type": "code",
   "execution_count": 10,
   "metadata": {},
   "outputs": [
    {
     "data": {
      "text/html": [
       "<div>\n",
       "<style scoped>\n",
       "    .dataframe tbody tr th:only-of-type {\n",
       "        vertical-align: middle;\n",
       "    }\n",
       "\n",
       "    .dataframe tbody tr th {\n",
       "        vertical-align: top;\n",
       "    }\n",
       "\n",
       "    .dataframe thead th {\n",
       "        text-align: right;\n",
       "    }\n",
       "</style>\n",
       "<table border=\"1\" class=\"dataframe\">\n",
       "  <thead>\n",
       "    <tr style=\"text-align: right;\">\n",
       "      <th></th>\n",
       "      <th>game_id</th>\n",
       "      <th>park_id</th>\n",
       "      <th>year</th>\n",
       "    </tr>\n",
       "  </thead>\n",
       "  <tbody>\n",
       "    <tr>\n",
       "      <th>130233</th>\n",
       "      <td>BOS201906290</td>\n",
       "      <td>LON01</td>\n",
       "      <td>2019</td>\n",
       "    </tr>\n",
       "  </tbody>\n",
       "</table>\n",
       "</div>"
      ],
      "text/plain": [
       "             game_id park_id  year\n",
       "130233  BOS201906290   LON01  2019"
      ]
     },
     "execution_count": 10,
     "metadata": {},
     "output_type": "execute_result"
    }
   ],
   "source": [
    "game.query('game_id == \"BOS201906290\"')"
   ]
  },
  {
   "cell_type": "code",
   "execution_count": 11,
   "metadata": {},
   "outputs": [
    {
     "data": {
      "text/html": [
       "<div>\n",
       "<style scoped>\n",
       "    .dataframe tbody tr th:only-of-type {\n",
       "        vertical-align: middle;\n",
       "    }\n",
       "\n",
       "    .dataframe tbody tr th {\n",
       "        vertical-align: top;\n",
       "    }\n",
       "\n",
       "    .dataframe thead th {\n",
       "        text-align: right;\n",
       "    }\n",
       "</style>\n",
       "<table border=\"1\" class=\"dataframe\">\n",
       "  <thead>\n",
       "    <tr style=\"text-align: right;\">\n",
       "      <th></th>\n",
       "      <th>park_id</th>\n",
       "      <th>name</th>\n",
       "      <th>aka</th>\n",
       "      <th>city</th>\n",
       "      <th>state</th>\n",
       "      <th>start</th>\n",
       "      <th>end</th>\n",
       "      <th>league</th>\n",
       "      <th>notes</th>\n",
       "    </tr>\n",
       "  </thead>\n",
       "  <tbody>\n",
       "    <tr>\n",
       "      <th>111</th>\n",
       "      <td>LON01</td>\n",
       "      <td>London Stadium</td>\n",
       "      <td>NaN</td>\n",
       "      <td>London</td>\n",
       "      <td>UK</td>\n",
       "      <td>2019-06-29</td>\n",
       "      <td>2019-06-30</td>\n",
       "      <td>AL</td>\n",
       "      <td>BOS</td>\n",
       "    </tr>\n",
       "  </tbody>\n",
       "</table>\n",
       "</div>"
      ],
      "text/plain": [
       "    park_id            name  aka    city state      start        end league  \\\n",
       "111   LON01  London Stadium  NaN  London    UK 2019-06-29 2019-06-30     AL   \n",
       "\n",
       "    notes  \n",
       "111   BOS  "
      ]
     },
     "execution_count": 11,
     "metadata": {},
     "output_type": "execute_result"
    }
   ],
   "source": [
    "# query parks to get more info about LON01\n",
    "parks.query('park_id == \"LON01\"')"
   ]
  },
  {
   "cell_type": "code",
   "execution_count": 12,
   "metadata": {},
   "outputs": [
    {
     "data": {
      "text/html": [
       "<div>\n",
       "<style scoped>\n",
       "    .dataframe tbody tr th:only-of-type {\n",
       "        vertical-align: middle;\n",
       "    }\n",
       "\n",
       "    .dataframe tbody tr th {\n",
       "        vertical-align: top;\n",
       "    }\n",
       "\n",
       "    .dataframe thead th {\n",
       "        text-align: right;\n",
       "    }\n",
       "</style>\n",
       "<table border=\"1\" class=\"dataframe\">\n",
       "  <thead>\n",
       "    <tr style=\"text-align: right;\">\n",
       "      <th></th>\n",
       "      <th>team_id</th>\n",
       "      <th>year</th>\n",
       "      <th>lg_id</th>\n",
       "      <th>city</th>\n",
       "      <th>name</th>\n",
       "    </tr>\n",
       "  </thead>\n",
       "  <tbody>\n",
       "    <tr>\n",
       "      <th>2494</th>\n",
       "      <td>BOS</td>\n",
       "      <td>2019</td>\n",
       "      <td>A</td>\n",
       "      <td>Boston</td>\n",
       "      <td>Red Sox</td>\n",
       "    </tr>\n",
       "    <tr>\n",
       "      <th>2501</th>\n",
       "      <td>NYA</td>\n",
       "      <td>2019</td>\n",
       "      <td>A</td>\n",
       "      <td>New York</td>\n",
       "      <td>Yankees</td>\n",
       "    </tr>\n",
       "  </tbody>\n",
       "</table>\n",
       "</div>"
      ],
      "text/plain": [
       "     team_id  year lg_id      city     name\n",
       "2494     BOS  2019     A    Boston  Red Sox\n",
       "2501     NYA  2019     A  New York  Yankees"
      ]
     },
     "execution_count": 12,
     "metadata": {},
     "output_type": "execute_result"
    }
   ],
   "source": [
    "# query teams to get more info about the two teams\n",
    "two_teams = ['BOS', 'NYA']\n",
    "teams.query('year == 2019 and team_id in @two_teams')"
   ]
  },
  {
   "cell_type": "markdown",
   "metadata": {},
   "source": [
    "# Data Processing\n",
    "The PF will be computed per team, per year, per park.\n",
    "\n",
    "The rational for removing games in which the team batting last is not playing at home is:\n",
    "* these games shouldn't count towards the home park because they are not played in the home park\n",
    "* these games are arguably not \"road games\", as the specified team batted last\n",
    "* less than 1% of all games meet this criteria\n",
    "\n",
    "DataFrame Indexes\n",
    "* usually the best index is the field(s) that uniquely identify a row in that dataframe\n",
    "* most of the DataFrames used here are identified by (team_id, year), or equivalently (park_id, year), or equivalently (team_id, year, park_id)\n",
    "\n",
    "There are several data processing steps.\n",
    "\n",
    "Each of the following functions represents a particular data transformation.  Functional composition is then used to apply multiple data transformations to the original data.\n",
    "\n",
    "For example,  \n",
    "`home_parks = create_home_parks(create_tg_parks(team_game, game))`.\n",
    "\n",
    "Using functional composition in a single line of code can be difficult to read, so multiple lines are used,  \n",
    "`tg_parks = create_tg_parks(team_game, game)\n",
    "home_parks = create_home_parks(tg_parks)`"
   ]
  },
  {
   "cell_type": "code",
   "execution_count": 13,
   "metadata": {},
   "outputs": [],
   "source": [
    "def create_tg_parks(team_game, game):\n",
    "    \"\"\"Create minimal team_game dataframe with park_id.\"\"\"\n",
    "\n",
    "    cols = ['team_id', 'year', 'park_id', 'game_id', 'bat_last', 'r', 'opponent_team_id']\n",
    "    tg_parks = team_game.merge(game)[cols]\n",
    "\n",
    "    return tg_parks.set_index(['team_id', 'year', 'park_id'])"
   ]
  },
  {
   "cell_type": "code",
   "execution_count": 14,
   "metadata": {},
   "outputs": [
    {
     "data": {
      "text/html": [
       "<div>\n",
       "<style scoped>\n",
       "    .dataframe tbody tr th:only-of-type {\n",
       "        vertical-align: middle;\n",
       "    }\n",
       "\n",
       "    .dataframe tbody tr th {\n",
       "        vertical-align: top;\n",
       "    }\n",
       "\n",
       "    .dataframe thead th {\n",
       "        text-align: right;\n",
       "    }\n",
       "</style>\n",
       "<table border=\"1\" class=\"dataframe\">\n",
       "  <thead>\n",
       "    <tr style=\"text-align: right;\">\n",
       "      <th></th>\n",
       "      <th></th>\n",
       "      <th></th>\n",
       "      <th>game_id</th>\n",
       "      <th>bat_last</th>\n",
       "      <th>r</th>\n",
       "      <th>opponent_team_id</th>\n",
       "    </tr>\n",
       "    <tr>\n",
       "      <th>team_id</th>\n",
       "      <th>year</th>\n",
       "      <th>park_id</th>\n",
       "      <th></th>\n",
       "      <th></th>\n",
       "      <th></th>\n",
       "      <th></th>\n",
       "    </tr>\n",
       "  </thead>\n",
       "  <tbody>\n",
       "    <tr>\n",
       "      <th>ANA</th>\n",
       "      <th>2015</th>\n",
       "      <th>ANA01</th>\n",
       "      <td>ANA201504100</td>\n",
       "      <td>True</td>\n",
       "      <td>2</td>\n",
       "      <td>KCA</td>\n",
       "    </tr>\n",
       "    <tr>\n",
       "      <th>KCA</th>\n",
       "      <th>2015</th>\n",
       "      <th>ANA01</th>\n",
       "      <td>ANA201504100</td>\n",
       "      <td>False</td>\n",
       "      <td>4</td>\n",
       "      <td>ANA</td>\n",
       "    </tr>\n",
       "    <tr>\n",
       "      <th>ANA</th>\n",
       "      <th>2015</th>\n",
       "      <th>ANA01</th>\n",
       "      <td>ANA201504110</td>\n",
       "      <td>True</td>\n",
       "      <td>4</td>\n",
       "      <td>KCA</td>\n",
       "    </tr>\n",
       "    <tr>\n",
       "      <th>KCA</th>\n",
       "      <th>2015</th>\n",
       "      <th>ANA01</th>\n",
       "      <td>ANA201504110</td>\n",
       "      <td>False</td>\n",
       "      <td>6</td>\n",
       "      <td>ANA</td>\n",
       "    </tr>\n",
       "  </tbody>\n",
       "</table>\n",
       "</div>"
      ],
      "text/plain": [
       "                           game_id  bat_last  r opponent_team_id\n",
       "team_id year park_id                                            \n",
       "ANA     2015 ANA01    ANA201504100      True  2              KCA\n",
       "KCA     2015 ANA01    ANA201504100     False  4              ANA\n",
       "ANA     2015 ANA01    ANA201504110      True  4              KCA\n",
       "KCA     2015 ANA01    ANA201504110     False  6              ANA"
      ]
     },
     "execution_count": 14,
     "metadata": {},
     "output_type": "execute_result"
    }
   ],
   "source": [
    "tg_parks = create_tg_parks(team_game, game)\n",
    "tg_parks.head(4)"
   ]
  },
  {
   "cell_type": "code",
   "execution_count": 15,
   "metadata": {},
   "outputs": [],
   "source": [
    "def create_home_parks(tg_parks):\n",
    "    \"\"\"Create minimal home_parks dataframe which has home park_id per team per year.\"\"\"\n",
    "\n",
    "    hp = tg_parks.groupby(['team_id', 'year', 'park_id']).agg(games=('game_id', 'count'))\n",
    "\n",
    "    # rank number of games per team per year\n",
    "    hp['rank'] = hp.groupby(['team_id', 'year'])['games'].rank(ascending=False, method='first')\n",
    "\n",
    "    # each team's home park is the park with the most games (rank == 1)\n",
    "    home_parks = hp.query('rank == 1').copy()\n",
    "    home_parks = home_parks.drop(columns=['rank', 'games'])\n",
    "\n",
    "    return home_parks"
   ]
  },
  {
   "cell_type": "code",
   "execution_count": 16,
   "metadata": {},
   "outputs": [
    {
     "data": {
      "text/html": [
       "<div>\n",
       "<style scoped>\n",
       "    .dataframe tbody tr th:only-of-type {\n",
       "        vertical-align: middle;\n",
       "    }\n",
       "\n",
       "    .dataframe tbody tr th {\n",
       "        vertical-align: top;\n",
       "    }\n",
       "\n",
       "    .dataframe thead th {\n",
       "        text-align: right;\n",
       "    }\n",
       "</style>\n",
       "<table border=\"1\" class=\"dataframe\">\n",
       "  <thead>\n",
       "    <tr style=\"text-align: right;\">\n",
       "      <th></th>\n",
       "      <th></th>\n",
       "      <th></th>\n",
       "    </tr>\n",
       "    <tr>\n",
       "      <th>team_id</th>\n",
       "      <th>year</th>\n",
       "      <th>park_id</th>\n",
       "    </tr>\n",
       "  </thead>\n",
       "  <tbody>\n",
       "    <tr>\n",
       "      <th rowspan=\"5\" valign=\"top\">ANA</th>\n",
       "      <th>2015</th>\n",
       "      <th>ANA01</th>\n",
       "    </tr>\n",
       "    <tr>\n",
       "      <th>2016</th>\n",
       "      <th>ANA01</th>\n",
       "    </tr>\n",
       "    <tr>\n",
       "      <th>2017</th>\n",
       "      <th>ANA01</th>\n",
       "    </tr>\n",
       "    <tr>\n",
       "      <th>2018</th>\n",
       "      <th>ANA01</th>\n",
       "    </tr>\n",
       "    <tr>\n",
       "      <th>2019</th>\n",
       "      <th>ANA01</th>\n",
       "    </tr>\n",
       "    <tr>\n",
       "      <th>ARI</th>\n",
       "      <th>2015</th>\n",
       "      <th>PHO01</th>\n",
       "    </tr>\n",
       "  </tbody>\n",
       "</table>\n",
       "</div>"
      ],
      "text/plain": [
       "Empty DataFrame\n",
       "Columns: []\n",
       "Index: [(ANA, 2015, ANA01), (ANA, 2016, ANA01), (ANA, 2017, ANA01), (ANA, 2018, ANA01), (ANA, 2019, ANA01), (ARI, 2015, PHO01)]"
      ]
     },
     "execution_count": 16,
     "metadata": {},
     "output_type": "execute_result"
    }
   ],
   "source": [
    "home_parks = create_home_parks(tg_parks)\n",
    "home_parks.head(6)"
   ]
  },
  {
   "cell_type": "code",
   "execution_count": 17,
   "metadata": {},
   "outputs": [],
   "source": [
    "def create_home_parks_bats_last(home_parks, team_game, tg_parks):\n",
    "    \"\"\"Create dataframe with each game's park_id and the team batting last's home park_id.\"\"\"\n",
    "\n",
    "    # get game's park_id\n",
    "    bats_last = tg_parks.query('bat_last == True').reset_index().set_index(['team_id', 'year'])\n",
    "\n",
    "    # get team's home park_id\n",
    "    hp = home_parks.reset_index().set_index(['team_id', 'year'])\n",
    "\n",
    "    return hp.join(bats_last, lsuffix='_home', rsuffix='_game')"
   ]
  },
  {
   "cell_type": "code",
   "execution_count": 18,
   "metadata": {},
   "outputs": [
    {
     "data": {
      "text/html": [
       "<div>\n",
       "<style scoped>\n",
       "    .dataframe tbody tr th:only-of-type {\n",
       "        vertical-align: middle;\n",
       "    }\n",
       "\n",
       "    .dataframe tbody tr th {\n",
       "        vertical-align: top;\n",
       "    }\n",
       "\n",
       "    .dataframe thead th {\n",
       "        text-align: right;\n",
       "    }\n",
       "</style>\n",
       "<table border=\"1\" class=\"dataframe\">\n",
       "  <thead>\n",
       "    <tr style=\"text-align: right;\">\n",
       "      <th></th>\n",
       "      <th></th>\n",
       "      <th>park_id_home</th>\n",
       "      <th>park_id_game</th>\n",
       "      <th>game_id</th>\n",
       "      <th>bat_last</th>\n",
       "      <th>r</th>\n",
       "      <th>opponent_team_id</th>\n",
       "    </tr>\n",
       "    <tr>\n",
       "      <th>team_id</th>\n",
       "      <th>year</th>\n",
       "      <th></th>\n",
       "      <th></th>\n",
       "      <th></th>\n",
       "      <th></th>\n",
       "      <th></th>\n",
       "      <th></th>\n",
       "    </tr>\n",
       "  </thead>\n",
       "  <tbody>\n",
       "    <tr>\n",
       "      <th rowspan=\"4\" valign=\"top\">ANA</th>\n",
       "      <th>2015</th>\n",
       "      <td>ANA01</td>\n",
       "      <td>ANA01</td>\n",
       "      <td>ANA201504100</td>\n",
       "      <td>True</td>\n",
       "      <td>2</td>\n",
       "      <td>KCA</td>\n",
       "    </tr>\n",
       "    <tr>\n",
       "      <th>2015</th>\n",
       "      <td>ANA01</td>\n",
       "      <td>ANA01</td>\n",
       "      <td>ANA201504110</td>\n",
       "      <td>True</td>\n",
       "      <td>4</td>\n",
       "      <td>KCA</td>\n",
       "    </tr>\n",
       "    <tr>\n",
       "      <th>2015</th>\n",
       "      <td>ANA01</td>\n",
       "      <td>ANA01</td>\n",
       "      <td>ANA201504120</td>\n",
       "      <td>True</td>\n",
       "      <td>2</td>\n",
       "      <td>KCA</td>\n",
       "    </tr>\n",
       "    <tr>\n",
       "      <th>2015</th>\n",
       "      <td>ANA01</td>\n",
       "      <td>ANA01</td>\n",
       "      <td>ANA201504200</td>\n",
       "      <td>True</td>\n",
       "      <td>3</td>\n",
       "      <td>OAK</td>\n",
       "    </tr>\n",
       "  </tbody>\n",
       "</table>\n",
       "</div>"
      ],
      "text/plain": [
       "             park_id_home park_id_game       game_id  bat_last  r  \\\n",
       "team_id year                                                        \n",
       "ANA     2015        ANA01        ANA01  ANA201504100      True  2   \n",
       "        2015        ANA01        ANA01  ANA201504110      True  4   \n",
       "        2015        ANA01        ANA01  ANA201504120      True  2   \n",
       "        2015        ANA01        ANA01  ANA201504200      True  3   \n",
       "\n",
       "             opponent_team_id  \n",
       "team_id year                   \n",
       "ANA     2015              KCA  \n",
       "        2015              KCA  \n",
       "        2015              KCA  \n",
       "        2015              OAK  "
      ]
     },
     "execution_count": 18,
     "metadata": {},
     "output_type": "execute_result"
    }
   ],
   "source": [
    "home_parks_bats_last = create_home_parks_bats_last(home_parks, team_game, tg_parks)\n",
    "home_parks_bats_last.head(4)"
   ]
  },
  {
   "cell_type": "code",
   "execution_count": 19,
   "metadata": {},
   "outputs": [],
   "source": [
    "def remove_games(home_parks_bats_last, team_game):\n",
    "    \"\"\"Remove games in which team batting last is not at home park.\"\"\"\n",
    "\n",
    "    # get the game_id where the park_ids do not match\n",
    "    diff = home_parks_bats_last.query('park_id_game != park_id_home')\n",
    "\n",
    "    # filter out those game_ids from team_game\n",
    "    filt = team_game['game_id'].isin(diff['game_id'])\n",
    "    return team_game[~filt]   "
   ]
  },
  {
   "cell_type": "code",
   "execution_count": 20,
   "metadata": {},
   "outputs": [
    {
     "name": "stdout",
     "output_type": "stream",
     "text": [
      "24294\n",
      "24240\n"
     ]
    }
   ],
   "source": [
    "print(len(team_game))\n",
    "team_game = remove_games(home_parks_bats_last, team_game)\n",
    "print(len(team_game))"
   ]
  },
  {
   "cell_type": "code",
   "execution_count": 21,
   "metadata": {},
   "outputs": [
    {
     "name": "stdout",
     "output_type": "stream",
     "text": [
      "24294\n",
      "24240\n"
     ]
    }
   ],
   "source": [
    "# recompute tg_park using the new team_game dataframe\n",
    "print(len(tg_parks))\n",
    "tg_parks = create_tg_parks(team_game, game)\n",
    "print(len(tg_parks))"
   ]
  },
  {
   "cell_type": "code",
   "execution_count": 22,
   "metadata": {},
   "outputs": [],
   "source": [
    "def compute_runs_scored(tg_parks):\n",
    "    \"\"\"Compute Runs Scored per team per year per park.\"\"\"\n",
    "\n",
    "    cols = ['team_id', 'year', 'park_id']\n",
    "    return tg_parks.groupby(cols).agg(games=('game_id', 'count'), rs=('r', 'sum'))"
   ]
  },
  {
   "cell_type": "code",
   "execution_count": 23,
   "metadata": {},
   "outputs": [
    {
     "data": {
      "text/html": [
       "<div>\n",
       "<style scoped>\n",
       "    .dataframe tbody tr th:only-of-type {\n",
       "        vertical-align: middle;\n",
       "    }\n",
       "\n",
       "    .dataframe tbody tr th {\n",
       "        vertical-align: top;\n",
       "    }\n",
       "\n",
       "    .dataframe thead th {\n",
       "        text-align: right;\n",
       "    }\n",
       "</style>\n",
       "<table border=\"1\" class=\"dataframe\">\n",
       "  <thead>\n",
       "    <tr style=\"text-align: right;\">\n",
       "      <th></th>\n",
       "      <th></th>\n",
       "      <th></th>\n",
       "      <th>games</th>\n",
       "      <th>rs</th>\n",
       "    </tr>\n",
       "    <tr>\n",
       "      <th>team_id</th>\n",
       "      <th>year</th>\n",
       "      <th>park_id</th>\n",
       "      <th></th>\n",
       "      <th></th>\n",
       "    </tr>\n",
       "  </thead>\n",
       "  <tbody>\n",
       "    <tr>\n",
       "      <th rowspan=\"4\" valign=\"top\">ANA</th>\n",
       "      <th rowspan=\"4\" valign=\"top\">2015</th>\n",
       "      <th>ANA01</th>\n",
       "      <td>81</td>\n",
       "      <td>320.0</td>\n",
       "    </tr>\n",
       "    <tr>\n",
       "      <th>ARL02</th>\n",
       "      <td>10</td>\n",
       "      <td>69.0</td>\n",
       "    </tr>\n",
       "    <tr>\n",
       "      <th>BAL12</th>\n",
       "      <td>3</td>\n",
       "      <td>9.0</td>\n",
       "    </tr>\n",
       "    <tr>\n",
       "      <th>BOS07</th>\n",
       "      <td>3</td>\n",
       "      <td>16.0</td>\n",
       "    </tr>\n",
       "  </tbody>\n",
       "</table>\n",
       "</div>"
      ],
      "text/plain": [
       "                      games     rs\n",
       "team_id year park_id              \n",
       "ANA     2015 ANA01       81  320.0\n",
       "             ARL02       10   69.0\n",
       "             BAL12        3    9.0\n",
       "             BOS07        3   16.0"
      ]
     },
     "execution_count": 23,
     "metadata": {},
     "output_type": "execute_result"
    }
   ],
   "source": [
    "runs_scored = compute_runs_scored(tg_parks)\n",
    "runs_scored.head(4)"
   ]
  },
  {
   "cell_type": "code",
   "execution_count": 24,
   "metadata": {},
   "outputs": [],
   "source": [
    "def compute_runs_allowed(tg_parks):\n",
    "    \"\"\"Compute Runs Allowed per team per year per park.\"\"\"\n",
    "\n",
    "    cols = ['opponent_team_id', 'year', 'park_id']\n",
    "    tmp = tg_parks.groupby(cols).agg(games=('game_id', 'count'), ra=('r', 'sum'))\n",
    "    return tmp.rename_axis(['team_id', 'year', 'park_id'])"
   ]
  },
  {
   "cell_type": "code",
   "execution_count": 25,
   "metadata": {},
   "outputs": [
    {
     "data": {
      "text/html": [
       "<div>\n",
       "<style scoped>\n",
       "    .dataframe tbody tr th:only-of-type {\n",
       "        vertical-align: middle;\n",
       "    }\n",
       "\n",
       "    .dataframe tbody tr th {\n",
       "        vertical-align: top;\n",
       "    }\n",
       "\n",
       "    .dataframe thead th {\n",
       "        text-align: right;\n",
       "    }\n",
       "</style>\n",
       "<table border=\"1\" class=\"dataframe\">\n",
       "  <thead>\n",
       "    <tr style=\"text-align: right;\">\n",
       "      <th></th>\n",
       "      <th></th>\n",
       "      <th></th>\n",
       "      <th>games</th>\n",
       "      <th>ra</th>\n",
       "    </tr>\n",
       "    <tr>\n",
       "      <th>team_id</th>\n",
       "      <th>year</th>\n",
       "      <th>park_id</th>\n",
       "      <th></th>\n",
       "      <th></th>\n",
       "    </tr>\n",
       "  </thead>\n",
       "  <tbody>\n",
       "    <tr>\n",
       "      <th rowspan=\"4\" valign=\"top\">ANA</th>\n",
       "      <th rowspan=\"4\" valign=\"top\">2015</th>\n",
       "      <th>ANA01</th>\n",
       "      <td>81</td>\n",
       "      <td>298.0</td>\n",
       "    </tr>\n",
       "    <tr>\n",
       "      <th>ARL02</th>\n",
       "      <td>10</td>\n",
       "      <td>46.0</td>\n",
       "    </tr>\n",
       "    <tr>\n",
       "      <th>BAL12</th>\n",
       "      <td>3</td>\n",
       "      <td>5.0</td>\n",
       "    </tr>\n",
       "    <tr>\n",
       "      <th>BOS07</th>\n",
       "      <td>3</td>\n",
       "      <td>19.0</td>\n",
       "    </tr>\n",
       "  </tbody>\n",
       "</table>\n",
       "</div>"
      ],
      "text/plain": [
       "                      games     ra\n",
       "team_id year park_id              \n",
       "ANA     2015 ANA01       81  298.0\n",
       "             ARL02       10   46.0\n",
       "             BAL12        3    5.0\n",
       "             BOS07        3   19.0"
      ]
     },
     "execution_count": 25,
     "metadata": {},
     "output_type": "execute_result"
    }
   ],
   "source": [
    "runs_allowed = compute_runs_allowed(tg_parks)\n",
    "runs_allowed.head(4)"
   ]
  },
  {
   "cell_type": "code",
   "execution_count": 26,
   "metadata": {},
   "outputs": [],
   "source": [
    "def compute_runs_total(runs_scored, runs_allowed):\n",
    "    \"\"\"Join RS to RA create single dataframe.  Rank by games to find home_parks_runs.\"\"\"\n",
    "\n",
    "    rt = runs_scored.join(runs_allowed, lsuffix='_rs', rsuffix='_ra')\n",
    "\n",
    "    # validate code\n",
    "    assert (rt['games_rs'] == rt['games_ra']).all()\n",
    "    assert rt['ra'].sum() == rt['rs'].sum()\n",
    "\n",
    "    # rank games per team per year\n",
    "    rt = rt.rename(columns={'games_rs': 'games'})\n",
    "    rt = rt.drop(columns=['games_ra'])\n",
    "    rt['rt'] = rt['rs'] + rt['ra']\n",
    "    rt['rank'] = rt['games'].groupby(['team_id', 'year']).rank(ascending=False, method='first')\n",
    "    \n",
    "    rt = rt.drop(columns=['rs', 'ra'])\n",
    "\n",
    "    return rt"
   ]
  },
  {
   "cell_type": "code",
   "execution_count": 27,
   "metadata": {},
   "outputs": [
    {
     "data": {
      "text/html": [
       "<div>\n",
       "<style scoped>\n",
       "    .dataframe tbody tr th:only-of-type {\n",
       "        vertical-align: middle;\n",
       "    }\n",
       "\n",
       "    .dataframe tbody tr th {\n",
       "        vertical-align: top;\n",
       "    }\n",
       "\n",
       "    .dataframe thead th {\n",
       "        text-align: right;\n",
       "    }\n",
       "</style>\n",
       "<table border=\"1\" class=\"dataframe\">\n",
       "  <thead>\n",
       "    <tr style=\"text-align: right;\">\n",
       "      <th></th>\n",
       "      <th></th>\n",
       "      <th></th>\n",
       "      <th>games</th>\n",
       "      <th>rt</th>\n",
       "      <th>rank</th>\n",
       "    </tr>\n",
       "    <tr>\n",
       "      <th>team_id</th>\n",
       "      <th>year</th>\n",
       "      <th>park_id</th>\n",
       "      <th></th>\n",
       "      <th></th>\n",
       "      <th></th>\n",
       "    </tr>\n",
       "  </thead>\n",
       "  <tbody>\n",
       "    <tr>\n",
       "      <th rowspan=\"3\" valign=\"top\">ANA</th>\n",
       "      <th rowspan=\"3\" valign=\"top\">2015</th>\n",
       "      <th>ANA01</th>\n",
       "      <td>81</td>\n",
       "      <td>618.0</td>\n",
       "      <td>1.0</td>\n",
       "    </tr>\n",
       "    <tr>\n",
       "      <th>ARL02</th>\n",
       "      <td>10</td>\n",
       "      <td>115.0</td>\n",
       "      <td>2.0</td>\n",
       "    </tr>\n",
       "    <tr>\n",
       "      <th>BAL12</th>\n",
       "      <td>3</td>\n",
       "      <td>14.0</td>\n",
       "      <td>9.0</td>\n",
       "    </tr>\n",
       "  </tbody>\n",
       "</table>\n",
       "</div>"
      ],
      "text/plain": [
       "                      games     rt  rank\n",
       "team_id year park_id                    \n",
       "ANA     2015 ANA01       81  618.0   1.0\n",
       "             ARL02       10  115.0   2.0\n",
       "             BAL12        3   14.0   9.0"
      ]
     },
     "execution_count": 27,
     "metadata": {},
     "output_type": "execute_result"
    }
   ],
   "source": [
    "runs_total = compute_runs_total(runs_scored, runs_allowed)\n",
    "runs_total.head(3)"
   ]
  },
  {
   "cell_type": "code",
   "execution_count": 28,
   "metadata": {},
   "outputs": [],
   "source": [
    "def create_home_parks_runs(runs_total):\n",
    "    \"\"\"Similar to create_home_parks, except it has runs total and averge runs per game.\"\"\"\n",
    "\n",
    "    hp = runs_total.query('rank == 1').copy()\n",
    "    hp = hp.drop(columns='rank')\n",
    "    hp['r_avg'] = hp['rt'] / hp['games']\n",
    "\n",
    "    return hp"
   ]
  },
  {
   "cell_type": "code",
   "execution_count": 29,
   "metadata": {},
   "outputs": [
    {
     "data": {
      "text/html": [
       "<div>\n",
       "<style scoped>\n",
       "    .dataframe tbody tr th:only-of-type {\n",
       "        vertical-align: middle;\n",
       "    }\n",
       "\n",
       "    .dataframe tbody tr th {\n",
       "        vertical-align: top;\n",
       "    }\n",
       "\n",
       "    .dataframe thead th {\n",
       "        text-align: right;\n",
       "    }\n",
       "</style>\n",
       "<table border=\"1\" class=\"dataframe\">\n",
       "  <thead>\n",
       "    <tr style=\"text-align: right;\">\n",
       "      <th></th>\n",
       "      <th></th>\n",
       "      <th></th>\n",
       "      <th>games</th>\n",
       "      <th>rt</th>\n",
       "      <th>r_avg</th>\n",
       "    </tr>\n",
       "    <tr>\n",
       "      <th>team_id</th>\n",
       "      <th>year</th>\n",
       "      <th>park_id</th>\n",
       "      <th></th>\n",
       "      <th></th>\n",
       "      <th></th>\n",
       "    </tr>\n",
       "  </thead>\n",
       "  <tbody>\n",
       "    <tr>\n",
       "      <th rowspan=\"3\" valign=\"top\">ANA</th>\n",
       "      <th>2015</th>\n",
       "      <th>ANA01</th>\n",
       "      <td>81</td>\n",
       "      <td>618.0</td>\n",
       "      <td>7.629630</td>\n",
       "    </tr>\n",
       "    <tr>\n",
       "      <th>2016</th>\n",
       "      <th>ANA01</th>\n",
       "      <td>81</td>\n",
       "      <td>688.0</td>\n",
       "      <td>8.493827</td>\n",
       "    </tr>\n",
       "    <tr>\n",
       "      <th>2017</th>\n",
       "      <th>ANA01</th>\n",
       "      <td>81</td>\n",
       "      <td>691.0</td>\n",
       "      <td>8.530864</td>\n",
       "    </tr>\n",
       "  </tbody>\n",
       "</table>\n",
       "</div>"
      ],
      "text/plain": [
       "                      games     rt     r_avg\n",
       "team_id year park_id                        \n",
       "ANA     2015 ANA01       81  618.0  7.629630\n",
       "        2016 ANA01       81  688.0  8.493827\n",
       "        2017 ANA01       81  691.0  8.530864"
      ]
     },
     "execution_count": 29,
     "metadata": {},
     "output_type": "execute_result"
    }
   ],
   "source": [
    "home_parks_runs = create_home_parks_runs(runs_total)\n",
    "home_parks_runs.head(3)"
   ]
  },
  {
   "cell_type": "code",
   "execution_count": 30,
   "metadata": {},
   "outputs": [],
   "source": [
    "def create_road_parks_runs(runs_total):\n",
    "    \"\"\"Create dataframe with runs per team per road-park per year\"\"\"\n",
    "    rp = runs_total.query('rank > 1').copy()\n",
    "    rp = rp.drop(columns='rank')\n",
    "    \n",
    "    return rp"
   ]
  },
  {
   "cell_type": "code",
   "execution_count": 31,
   "metadata": {},
   "outputs": [
    {
     "data": {
      "text/html": [
       "<div>\n",
       "<style scoped>\n",
       "    .dataframe tbody tr th:only-of-type {\n",
       "        vertical-align: middle;\n",
       "    }\n",
       "\n",
       "    .dataframe tbody tr th {\n",
       "        vertical-align: top;\n",
       "    }\n",
       "\n",
       "    .dataframe thead th {\n",
       "        text-align: right;\n",
       "    }\n",
       "</style>\n",
       "<table border=\"1\" class=\"dataframe\">\n",
       "  <thead>\n",
       "    <tr style=\"text-align: right;\">\n",
       "      <th></th>\n",
       "      <th></th>\n",
       "      <th></th>\n",
       "      <th>games</th>\n",
       "      <th>rt</th>\n",
       "    </tr>\n",
       "    <tr>\n",
       "      <th>team_id</th>\n",
       "      <th>year</th>\n",
       "      <th>park_id</th>\n",
       "      <th></th>\n",
       "      <th></th>\n",
       "    </tr>\n",
       "  </thead>\n",
       "  <tbody>\n",
       "    <tr>\n",
       "      <th rowspan=\"3\" valign=\"top\">ANA</th>\n",
       "      <th rowspan=\"3\" valign=\"top\">2015</th>\n",
       "      <th>ARL02</th>\n",
       "      <td>10</td>\n",
       "      <td>115.0</td>\n",
       "    </tr>\n",
       "    <tr>\n",
       "      <th>BAL12</th>\n",
       "      <td>3</td>\n",
       "      <td>14.0</td>\n",
       "    </tr>\n",
       "    <tr>\n",
       "      <th>BOS07</th>\n",
       "      <td>3</td>\n",
       "      <td>35.0</td>\n",
       "    </tr>\n",
       "  </tbody>\n",
       "</table>\n",
       "</div>"
      ],
      "text/plain": [
       "                      games     rt\n",
       "team_id year park_id              \n",
       "ANA     2015 ARL02       10  115.0\n",
       "             BAL12        3   14.0\n",
       "             BOS07        3   35.0"
      ]
     },
     "execution_count": 31,
     "metadata": {},
     "output_type": "execute_result"
    }
   ],
   "source": [
    "road_parks_runs = create_road_parks_runs(runs_total)\n",
    "road_parks_runs.head(3)"
   ]
  },
  {
   "cell_type": "code",
   "execution_count": 32,
   "metadata": {},
   "outputs": [],
   "source": [
    "def compute_road_totals(road_parks):\n",
    "    \"\"\"Sum the totals on the road per team per year.\"\"\"\n",
    "    \n",
    "    road_totals = road_parks.groupby(['team_id', 'year']).agg(\n",
    "        rt=('rt', 'sum'), games=('games', 'sum'))\n",
    "    road_totals['r_avg'] = road_totals['rt'] / road_totals['games']\n",
    "    \n",
    "    return road_totals"
   ]
  },
  {
   "cell_type": "code",
   "execution_count": 33,
   "metadata": {},
   "outputs": [
    {
     "data": {
      "text/html": [
       "<div>\n",
       "<style scoped>\n",
       "    .dataframe tbody tr th:only-of-type {\n",
       "        vertical-align: middle;\n",
       "    }\n",
       "\n",
       "    .dataframe tbody tr th {\n",
       "        vertical-align: top;\n",
       "    }\n",
       "\n",
       "    .dataframe thead th {\n",
       "        text-align: right;\n",
       "    }\n",
       "</style>\n",
       "<table border=\"1\" class=\"dataframe\">\n",
       "  <thead>\n",
       "    <tr style=\"text-align: right;\">\n",
       "      <th></th>\n",
       "      <th></th>\n",
       "      <th>rt</th>\n",
       "      <th>games</th>\n",
       "      <th>r_avg</th>\n",
       "    </tr>\n",
       "    <tr>\n",
       "      <th>team_id</th>\n",
       "      <th>year</th>\n",
       "      <th></th>\n",
       "      <th></th>\n",
       "      <th></th>\n",
       "    </tr>\n",
       "  </thead>\n",
       "  <tbody>\n",
       "    <tr>\n",
       "      <th rowspan=\"3\" valign=\"top\">ANA</th>\n",
       "      <th>2015</th>\n",
       "      <td>718.0</td>\n",
       "      <td>81</td>\n",
       "      <td>8.864198</td>\n",
       "    </tr>\n",
       "    <tr>\n",
       "      <th>2016</th>\n",
       "      <td>756.0</td>\n",
       "      <td>81</td>\n",
       "      <td>9.333333</td>\n",
       "    </tr>\n",
       "    <tr>\n",
       "      <th>2017</th>\n",
       "      <td>728.0</td>\n",
       "      <td>81</td>\n",
       "      <td>8.987654</td>\n",
       "    </tr>\n",
       "  </tbody>\n",
       "</table>\n",
       "</div>"
      ],
      "text/plain": [
       "                 rt  games     r_avg\n",
       "team_id year                        \n",
       "ANA     2015  718.0     81  8.864198\n",
       "        2016  756.0     81  9.333333\n",
       "        2017  728.0     81  8.987654"
      ]
     },
     "execution_count": 33,
     "metadata": {},
     "output_type": "execute_result"
    }
   ],
   "source": [
    "road_totals = compute_road_totals(road_parks_runs)\n",
    "road_totals.head(3)"
   ]
  },
  {
   "cell_type": "code",
   "execution_count": 34,
   "metadata": {},
   "outputs": [],
   "source": [
    "def compute_pf(home_parks_runs, road_totals):\n",
    "    \"\"\"Compute Park Factor.\"\"\"\n",
    "    \n",
    "    pf = home_parks_runs['r_avg'] / road_totals['r_avg']\n",
    "    pf = pf.to_frame()\n",
    "    pf.columns = ['pf']\n",
    "\n",
    "    return pf"
   ]
  },
  {
   "cell_type": "code",
   "execution_count": 35,
   "metadata": {},
   "outputs": [
    {
     "data": {
      "text/html": [
       "<div>\n",
       "<style scoped>\n",
       "    .dataframe tbody tr th:only-of-type {\n",
       "        vertical-align: middle;\n",
       "    }\n",
       "\n",
       "    .dataframe tbody tr th {\n",
       "        vertical-align: top;\n",
       "    }\n",
       "\n",
       "    .dataframe thead th {\n",
       "        text-align: right;\n",
       "    }\n",
       "</style>\n",
       "<table border=\"1\" class=\"dataframe\">\n",
       "  <thead>\n",
       "    <tr style=\"text-align: right;\">\n",
       "      <th></th>\n",
       "      <th></th>\n",
       "      <th></th>\n",
       "      <th>pf</th>\n",
       "    </tr>\n",
       "    <tr>\n",
       "      <th>team_id</th>\n",
       "      <th>year</th>\n",
       "      <th>park_id</th>\n",
       "      <th></th>\n",
       "    </tr>\n",
       "  </thead>\n",
       "  <tbody>\n",
       "    <tr>\n",
       "      <th rowspan=\"5\" valign=\"top\">ANA</th>\n",
       "      <th>2015</th>\n",
       "      <th>ANA01</th>\n",
       "      <td>0.860724</td>\n",
       "    </tr>\n",
       "    <tr>\n",
       "      <th>2016</th>\n",
       "      <th>ANA01</th>\n",
       "      <td>0.910053</td>\n",
       "    </tr>\n",
       "    <tr>\n",
       "      <th>2017</th>\n",
       "      <th>ANA01</th>\n",
       "      <td>0.949176</td>\n",
       "    </tr>\n",
       "    <tr>\n",
       "      <th>2018</th>\n",
       "      <th>ANA01</th>\n",
       "      <td>0.968622</td>\n",
       "    </tr>\n",
       "    <tr>\n",
       "      <th>2019</th>\n",
       "      <th>ANA01</th>\n",
       "      <td>1.006353</td>\n",
       "    </tr>\n",
       "  </tbody>\n",
       "</table>\n",
       "</div>"
      ],
      "text/plain": [
       "                            pf\n",
       "team_id year park_id          \n",
       "ANA     2015 ANA01    0.860724\n",
       "        2016 ANA01    0.910053\n",
       "        2017 ANA01    0.949176\n",
       "        2018 ANA01    0.968622\n",
       "        2019 ANA01    1.006353"
      ]
     },
     "execution_count": 35,
     "metadata": {},
     "output_type": "execute_result"
    }
   ],
   "source": [
    "pf = compute_pf(home_parks_runs, road_totals)\n",
    "pf.head()"
   ]
  },
  {
   "cell_type": "markdown",
   "metadata": {},
   "source": [
    "# Putting it All Together\n",
    "Starting over from scratch without all the explanations."
   ]
  },
  {
   "cell_type": "code",
   "execution_count": 36,
   "metadata": {},
   "outputs": [],
   "source": [
    "# find which games to remove and remove them\n",
    "tg_parks = create_tg_parks(team_game, game)\n",
    "home_parks = create_home_parks(tg_parks)\n",
    "home_parks_bats_last = create_home_parks_bats_last(home_parks, team_game, tg_parks)\n",
    "team_game = remove_games(home_parks_bats_last, team_game)\n",
    "\n",
    "# recompute tg_parks with fewer games\n",
    "tg_parks = create_tg_parks(team_game, game)"
   ]
  },
  {
   "cell_type": "code",
   "execution_count": 37,
   "metadata": {},
   "outputs": [],
   "source": [
    "# compute runs scored and runs allowed\n",
    "runs_scored = compute_runs_scored(tg_parks)\n",
    "runs_allowed = compute_runs_allowed(tg_parks)\n",
    "runs_total = compute_runs_total(runs_scored, runs_allowed)"
   ]
  },
  {
   "cell_type": "code",
   "execution_count": 38,
   "metadata": {},
   "outputs": [],
   "source": [
    "# compute runs scored and allowed at each team's home park, and on the road\n",
    "home_parks_runs = create_home_parks_runs(runs_total)\n",
    "road_parks_runs = create_road_parks_runs(runs_total)\n",
    "road_runs_totals = compute_road_totals(road_parks_runs)\n",
    "\n",
    "# compute the basic Park Factor\n",
    "pf = compute_pf(home_parks_runs, road_runs_totals)"
   ]
  },
  {
   "cell_type": "code",
   "execution_count": 39,
   "metadata": {},
   "outputs": [
    {
     "data": {
      "text/html": [
       "<div>\n",
       "<style scoped>\n",
       "    .dataframe tbody tr th:only-of-type {\n",
       "        vertical-align: middle;\n",
       "    }\n",
       "\n",
       "    .dataframe tbody tr th {\n",
       "        vertical-align: top;\n",
       "    }\n",
       "\n",
       "    .dataframe thead th {\n",
       "        text-align: right;\n",
       "    }\n",
       "</style>\n",
       "<table border=\"1\" class=\"dataframe\">\n",
       "  <thead>\n",
       "    <tr style=\"text-align: right;\">\n",
       "      <th></th>\n",
       "      <th></th>\n",
       "      <th></th>\n",
       "      <th>pf</th>\n",
       "    </tr>\n",
       "    <tr>\n",
       "      <th>team_id</th>\n",
       "      <th>year</th>\n",
       "      <th>park_id</th>\n",
       "      <th></th>\n",
       "    </tr>\n",
       "  </thead>\n",
       "  <tbody>\n",
       "    <tr>\n",
       "      <th rowspan=\"5\" valign=\"top\">ANA</th>\n",
       "      <th>2015</th>\n",
       "      <th>ANA01</th>\n",
       "      <td>0.860724</td>\n",
       "    </tr>\n",
       "    <tr>\n",
       "      <th>2016</th>\n",
       "      <th>ANA01</th>\n",
       "      <td>0.910053</td>\n",
       "    </tr>\n",
       "    <tr>\n",
       "      <th>2017</th>\n",
       "      <th>ANA01</th>\n",
       "      <td>0.949176</td>\n",
       "    </tr>\n",
       "    <tr>\n",
       "      <th>2018</th>\n",
       "      <th>ANA01</th>\n",
       "      <td>0.968622</td>\n",
       "    </tr>\n",
       "    <tr>\n",
       "      <th>2019</th>\n",
       "      <th>ANA01</th>\n",
       "      <td>1.006353</td>\n",
       "    </tr>\n",
       "  </tbody>\n",
       "</table>\n",
       "</div>"
      ],
      "text/plain": [
       "                            pf\n",
       "team_id year park_id          \n",
       "ANA     2015 ANA01    0.860724\n",
       "        2016 ANA01    0.910053\n",
       "        2017 ANA01    0.949176\n",
       "        2018 ANA01    0.968622\n",
       "        2019 ANA01    1.006353"
      ]
     },
     "execution_count": 39,
     "metadata": {},
     "output_type": "execute_result"
    }
   ],
   "source": [
    "pf.head()"
   ]
  },
  {
   "cell_type": "code",
   "execution_count": 40,
   "metadata": {},
   "outputs": [
    {
     "data": {
      "text/html": [
       "<div>\n",
       "<style scoped>\n",
       "    .dataframe tbody tr th:only-of-type {\n",
       "        vertical-align: middle;\n",
       "    }\n",
       "\n",
       "    .dataframe tbody tr th {\n",
       "        vertical-align: top;\n",
       "    }\n",
       "\n",
       "    .dataframe thead th {\n",
       "        text-align: right;\n",
       "    }\n",
       "</style>\n",
       "<table border=\"1\" class=\"dataframe\">\n",
       "  <thead>\n",
       "    <tr style=\"text-align: right;\">\n",
       "      <th></th>\n",
       "      <th></th>\n",
       "      <th></th>\n",
       "      <th>pf</th>\n",
       "    </tr>\n",
       "    <tr>\n",
       "      <th>team_id</th>\n",
       "      <th>year</th>\n",
       "      <th>park_id</th>\n",
       "      <th></th>\n",
       "    </tr>\n",
       "  </thead>\n",
       "  <tbody>\n",
       "    <tr>\n",
       "      <th>BOS</th>\n",
       "      <th>2019</th>\n",
       "      <th>BOS07</th>\n",
       "      <td>1.028987</td>\n",
       "    </tr>\n",
       "  </tbody>\n",
       "</table>\n",
       "</div>"
      ],
      "text/plain": [
       "                            pf\n",
       "team_id year park_id          \n",
       "BOS     2019 BOS07    1.028987"
      ]
     },
     "execution_count": 40,
     "metadata": {},
     "output_type": "execute_result"
    }
   ],
   "source": [
    "pf.query('team_id == \"BOS\" and year == 2019')"
   ]
  },
  {
   "cell_type": "markdown",
   "metadata": {},
   "source": [
    "We see that the basic PF for Fenway Park is 1.029 rounded to 3 decimal points.\n",
    "\n",
    "Spot Check by hand using ESPN's home/away splits for Boston 2019:  \n",
    "* http://www.espn.com/mlb/stats/team/_/stat/pitching/year/2019/split/33\n",
    "* http://www.espn.com/mlb/stats/team/_/stat/batting/year/2019/split/33\n",
    "\n",
    "home: 81 games 452 RS  439 RA -- includes London!  \n",
    "away: 81 games 449 RS  389 RA\n",
    "\n",
    "London Series Data: https://en.wikipedia.org/wiki/MLB_London_Series  \n",
    "Boston in London (as home team): 21 RS, 29 RA, 2 Games"
   ]
  },
  {
   "cell_type": "code",
   "execution_count": 41,
   "metadata": {},
   "outputs": [
    {
     "name": "stdout",
     "output_type": "stream",
     "text": [
      "pf: 1.029 pf_half:1.014\n"
     ]
    }
   ],
   "source": [
    "# Manually plug in the numbers, subtracting out those for London\n",
    "fenway_r_avg = (452 + 439 - 21 - 29) / 79\n",
    "away_r_avg = (449 + 389) / 81\n",
    "pf_fenway_2019 = fenway_r_avg / away_r_avg\n",
    "print(f'pf: {pf_fenway_2019:.3f} pf_half:{(1+pf_fenway_2019)/2:.3f}')"
   ]
  },
  {
   "cell_type": "markdown",
   "metadata": {},
   "source": [
    "The value calculated by hand exactly matches the code which computes the PF for every team for every year.\n",
    "\n",
    "What value do we get if we mistakenly include the high scoring London games in the total for Fenway Park?"
   ]
  },
  {
   "cell_type": "code",
   "execution_count": 42,
   "metadata": {},
   "outputs": [
    {
     "name": "stdout",
     "output_type": "stream",
     "text": [
      "pf: 1.063 pf_half:1.032\n"
     ]
    }
   ],
   "source": [
    "fenway_london_r_avg = (452+439) / 81\n",
    "away_r_avg = (449 + 389) / 81\n",
    "pf_fenway_london_2019 = fenway_london_r_avg / away_r_avg\n",
    "print(f'pf: {pf_fenway_london_2019:.3f} pf_half:{(1+pf_fenway_london_2019)/2:.3f}')"
   ]
  },
  {
   "cell_type": "markdown",
   "metadata": {},
   "source": [
    "ESPN shows the PF for Fenway Park in 2019 as 1.06.  This is the value you get when the runs scored in London are included in the Fenway Park totals.  \n",
    "See: http://www.espn.com/mlb/stats/parkfactor/_/year/2019\n",
    "\n",
    "Fangraphs, which presents the pf_half values, shows the half value as 1.03.  This is the value you get when the runs scored in London are included in the Fenway Park totals.  \n",
    "See: https://www.fangraphs.com/guts.aspx?type=pf&season=2019&teamid=0\n",
    "\n",
    "Of course, scoring lots of runs in London should not cause the Fenway Park PF to increase, but it did for both ESPN and Fangraphs.\n",
    "\n",
    "Perhaps the main reason this error has not been caught before is that the data was not wrangled to be tidy.  When data is not tidy, it is very difficult to analyze correctly.  This difficulty is a barrier to entry for those wishing to compute the Park Factor from the open-source Retrosheet data."
   ]
  },
  {
   "cell_type": "markdown",
   "metadata": {},
   "source": [
    "# Webscrape FanGraphs for PF\n",
    "This will allow for comparing many values with those computed here."
   ]
  },
  {
   "cell_type": "code",
   "execution_count": 43,
   "metadata": {},
   "outputs": [],
   "source": [
    "import requests\n",
    "from io import StringIO\n",
    "from bs4 import BeautifulSoup\n",
    "import requests"
   ]
  },
  {
   "cell_type": "code",
   "execution_count": 44,
   "metadata": {
    "scrolled": false
   },
   "outputs": [],
   "source": [
    "# read the parks factor table on the fangraphs website\n",
    "data = []\n",
    "for year in range(2015, 2020):\n",
    "    url = f'https://www.fangraphs.com/guts.aspx?type=pf&season={year}&teamid=0'\n",
    "    page = requests.get(url)\n",
    "    soup = BeautifulSoup(page.content, 'lxml')\n",
    "    \n",
    "    table = soup.find('table', class_='rgMasterTable')\n",
    "    \n",
    "    header = table.find('thead')\n",
    "    cols = [col.text for col in header.find_all('th')]\n",
    "    \n",
    "    body = table.find('tbody')\n",
    "    for row in body.find_all('tr'):\n",
    "        data.append([col.text for col in row.find_all('td')])"
   ]
  },
  {
   "cell_type": "code",
   "execution_count": 45,
   "metadata": {
    "scrolled": true
   },
   "outputs": [
    {
     "data": {
      "text/html": [
       "<div>\n",
       "<style scoped>\n",
       "    .dataframe tbody tr th:only-of-type {\n",
       "        vertical-align: middle;\n",
       "    }\n",
       "\n",
       "    .dataframe tbody tr th {\n",
       "        vertical-align: top;\n",
       "    }\n",
       "\n",
       "    .dataframe thead th {\n",
       "        text-align: right;\n",
       "    }\n",
       "</style>\n",
       "<table border=\"1\" class=\"dataframe\">\n",
       "  <thead>\n",
       "    <tr style=\"text-align: right;\">\n",
       "      <th></th>\n",
       "      <th>Season</th>\n",
       "      <th>Team</th>\n",
       "      <th>Basic (5yr)</th>\n",
       "      <th>3yr</th>\n",
       "      <th>1yr</th>\n",
       "      <th>1B</th>\n",
       "      <th>2B</th>\n",
       "      <th>3B</th>\n",
       "      <th>HR</th>\n",
       "      <th>SO</th>\n",
       "      <th>BB</th>\n",
       "      <th>GB</th>\n",
       "      <th>FB</th>\n",
       "      <th>LD</th>\n",
       "      <th>IFFB</th>\n",
       "      <th>FIP</th>\n",
       "    </tr>\n",
       "  </thead>\n",
       "  <tbody>\n",
       "    <tr>\n",
       "      <th>0</th>\n",
       "      <td>2015</td>\n",
       "      <td>Angels</td>\n",
       "      <td>97</td>\n",
       "      <td>95</td>\n",
       "      <td>93</td>\n",
       "      <td>100</td>\n",
       "      <td>96</td>\n",
       "      <td>88</td>\n",
       "      <td>98</td>\n",
       "      <td>102</td>\n",
       "      <td>97</td>\n",
       "      <td>101</td>\n",
       "      <td>100</td>\n",
       "      <td>98</td>\n",
       "      <td>100</td>\n",
       "      <td>98</td>\n",
       "    </tr>\n",
       "    <tr>\n",
       "      <th>1</th>\n",
       "      <td>2015</td>\n",
       "      <td>Orioles</td>\n",
       "      <td>101</td>\n",
       "      <td>101</td>\n",
       "      <td>108</td>\n",
       "      <td>101</td>\n",
       "      <td>96</td>\n",
       "      <td>87</td>\n",
       "      <td>106</td>\n",
       "      <td>98</td>\n",
       "      <td>100</td>\n",
       "      <td>101</td>\n",
       "      <td>102</td>\n",
       "      <td>100</td>\n",
       "      <td>100</td>\n",
       "      <td>103</td>\n",
       "    </tr>\n",
       "    <tr>\n",
       "      <th>2</th>\n",
       "      <td>2015</td>\n",
       "      <td>Red Sox</td>\n",
       "      <td>104</td>\n",
       "      <td>107</td>\n",
       "      <td>109</td>\n",
       "      <td>103</td>\n",
       "      <td>112</td>\n",
       "      <td>103</td>\n",
       "      <td>95</td>\n",
       "      <td>99</td>\n",
       "      <td>99</td>\n",
       "      <td>102</td>\n",
       "      <td>97</td>\n",
       "      <td>103</td>\n",
       "      <td>101</td>\n",
       "      <td>98</td>\n",
       "    </tr>\n",
       "    <tr>\n",
       "      <th>3</th>\n",
       "      <td>2015</td>\n",
       "      <td>White Sox</td>\n",
       "      <td>99</td>\n",
       "      <td>98</td>\n",
       "      <td>95</td>\n",
       "      <td>98</td>\n",
       "      <td>95</td>\n",
       "      <td>93</td>\n",
       "      <td>105</td>\n",
       "      <td>102</td>\n",
       "      <td>103</td>\n",
       "      <td>98</td>\n",
       "      <td>101</td>\n",
       "      <td>98</td>\n",
       "      <td>105</td>\n",
       "      <td>102</td>\n",
       "    </tr>\n",
       "    <tr>\n",
       "      <th>4</th>\n",
       "      <td>2015</td>\n",
       "      <td>Indians</td>\n",
       "      <td>102</td>\n",
       "      <td>106</td>\n",
       "      <td>112</td>\n",
       "      <td>101</td>\n",
       "      <td>106</td>\n",
       "      <td>83</td>\n",
       "      <td>102</td>\n",
       "      <td>100</td>\n",
       "      <td>100</td>\n",
       "      <td>101</td>\n",
       "      <td>97</td>\n",
       "      <td>101</td>\n",
       "      <td>92</td>\n",
       "      <td>100</td>\n",
       "    </tr>\n",
       "  </tbody>\n",
       "</table>\n",
       "</div>"
      ],
      "text/plain": [
       "   Season       Team  Basic (5yr)  3yr  1yr   1B   2B   3B   HR   SO   BB  \\\n",
       "0    2015     Angels           97   95   93  100   96   88   98  102   97   \n",
       "1    2015    Orioles          101  101  108  101   96   87  106   98  100   \n",
       "2    2015    Red Sox          104  107  109  103  112  103   95   99   99   \n",
       "3    2015  White Sox           99   98   95   98   95   93  105  102  103   \n",
       "4    2015    Indians          102  106  112  101  106   83  102  100  100   \n",
       "\n",
       "    GB   FB   LD  IFFB  FIP  \n",
       "0  101  100   98   100   98  \n",
       "1  101  102  100   100  103  \n",
       "2  102   97  103   101   98  \n",
       "3   98  101   98   105  102  \n",
       "4  101   97  101    92  100  "
      ]
     },
     "execution_count": 45,
     "metadata": {},
     "output_type": "execute_result"
    }
   ],
   "source": [
    "fangraphs = pd.DataFrame(data, columns = cols)\n",
    "\n",
    "# change datatypes from string to int\n",
    "for col in fangraphs.columns:\n",
    "    if col != 'Team':\n",
    "        fangraphs[col] = fangraphs[col].astype('int')\n",
    "\n",
    "fangraphs.head()"
   ]
  },
  {
   "cell_type": "code",
   "execution_count": 46,
   "metadata": {},
   "outputs": [],
   "source": [
    "# save the web scraped Fangraphs Park Factor data\n",
    "nb_data_path = data_dir / 'retrosheet/nb_data'\n",
    "nb_data_path.mkdir(parents=True, exist_ok=True)\n",
    "dh.to_csv_with_types(fangraphs, nb_data_path / 'fangraphs.csv')"
   ]
  },
  {
   "cell_type": "code",
   "execution_count": 47,
   "metadata": {},
   "outputs": [
    {
     "data": {
      "text/html": [
       "<div>\n",
       "<style scoped>\n",
       "    .dataframe tbody tr th:only-of-type {\n",
       "        vertical-align: middle;\n",
       "    }\n",
       "\n",
       "    .dataframe tbody tr th {\n",
       "        vertical-align: top;\n",
       "    }\n",
       "\n",
       "    .dataframe thead th {\n",
       "        text-align: right;\n",
       "    }\n",
       "</style>\n",
       "<table border=\"1\" class=\"dataframe\">\n",
       "  <thead>\n",
       "    <tr style=\"text-align: right;\">\n",
       "      <th></th>\n",
       "      <th>team_id</th>\n",
       "      <th>year</th>\n",
       "      <th>pf</th>\n",
       "      <th>name</th>\n",
       "    </tr>\n",
       "  </thead>\n",
       "  <tbody>\n",
       "    <tr>\n",
       "      <th>0</th>\n",
       "      <td>ANA</td>\n",
       "      <td>2015</td>\n",
       "      <td>0.860724</td>\n",
       "      <td>Angels</td>\n",
       "    </tr>\n",
       "    <tr>\n",
       "      <th>1</th>\n",
       "      <td>ANA</td>\n",
       "      <td>2016</td>\n",
       "      <td>0.910053</td>\n",
       "      <td>Angels</td>\n",
       "    </tr>\n",
       "    <tr>\n",
       "      <th>2</th>\n",
       "      <td>ANA</td>\n",
       "      <td>2017</td>\n",
       "      <td>0.949176</td>\n",
       "      <td>Angels</td>\n",
       "    </tr>\n",
       "    <tr>\n",
       "      <th>3</th>\n",
       "      <td>ANA</td>\n",
       "      <td>2018</td>\n",
       "      <td>0.968622</td>\n",
       "      <td>Angels</td>\n",
       "    </tr>\n",
       "    <tr>\n",
       "      <th>4</th>\n",
       "      <td>ANA</td>\n",
       "      <td>2019</td>\n",
       "      <td>1.006353</td>\n",
       "      <td>Angels</td>\n",
       "    </tr>\n",
       "  </tbody>\n",
       "</table>\n",
       "</div>"
      ],
      "text/plain": [
       "  team_id  year        pf    name\n",
       "0     ANA  2015  0.860724  Angels\n",
       "1     ANA  2016  0.910053  Angels\n",
       "2     ANA  2017  0.949176  Angels\n",
       "3     ANA  2018  0.968622  Angels\n",
       "4     ANA  2019  1.006353  Angels"
      ]
     },
     "execution_count": 47,
     "metadata": {},
     "output_type": "execute_result"
    }
   ],
   "source": [
    "# add the team name to the pf dataframe to compare with Fangraphs\n",
    "pf = pf.merge(teams[['team_id', 'year', 'name']], \n",
    "              left_on=['team_id', 'year'], \n",
    "              right_on=['team_id', 'year'])\n",
    "pf.head()"
   ]
  },
  {
   "cell_type": "code",
   "execution_count": 48,
   "metadata": {},
   "outputs": [],
   "source": [
    "# compute pf_half to compare with Fangraphs\n",
    "pf['pf_half'] = (1.0 + pf['pf']) / 2.0"
   ]
  },
  {
   "cell_type": "code",
   "execution_count": 49,
   "metadata": {},
   "outputs": [
    {
     "data": {
      "text/html": [
       "<div>\n",
       "<style scoped>\n",
       "    .dataframe tbody tr th:only-of-type {\n",
       "        vertical-align: middle;\n",
       "    }\n",
       "\n",
       "    .dataframe tbody tr th {\n",
       "        vertical-align: top;\n",
       "    }\n",
       "\n",
       "    .dataframe thead th {\n",
       "        text-align: right;\n",
       "    }\n",
       "</style>\n",
       "<table border=\"1\" class=\"dataframe\">\n",
       "  <thead>\n",
       "    <tr style=\"text-align: right;\">\n",
       "      <th></th>\n",
       "      <th>team_id</th>\n",
       "      <th>year</th>\n",
       "      <th>pf</th>\n",
       "      <th>name</th>\n",
       "      <th>pf_half</th>\n",
       "      <th>Season</th>\n",
       "      <th>Team</th>\n",
       "      <th>1yr</th>\n",
       "    </tr>\n",
       "  </thead>\n",
       "  <tbody>\n",
       "    <tr>\n",
       "      <th>0</th>\n",
       "      <td>ANA</td>\n",
       "      <td>2015</td>\n",
       "      <td>0.860724</td>\n",
       "      <td>Angels</td>\n",
       "      <td>0.930362</td>\n",
       "      <td>2015</td>\n",
       "      <td>Angels</td>\n",
       "      <td>93</td>\n",
       "    </tr>\n",
       "    <tr>\n",
       "      <th>1</th>\n",
       "      <td>ANA</td>\n",
       "      <td>2016</td>\n",
       "      <td>0.910053</td>\n",
       "      <td>Angels</td>\n",
       "      <td>0.955026</td>\n",
       "      <td>2016</td>\n",
       "      <td>Angels</td>\n",
       "      <td>96</td>\n",
       "    </tr>\n",
       "    <tr>\n",
       "      <th>2</th>\n",
       "      <td>ANA</td>\n",
       "      <td>2017</td>\n",
       "      <td>0.949176</td>\n",
       "      <td>Angels</td>\n",
       "      <td>0.974588</td>\n",
       "      <td>2017</td>\n",
       "      <td>Angels</td>\n",
       "      <td>98</td>\n",
       "    </tr>\n",
       "    <tr>\n",
       "      <th>3</th>\n",
       "      <td>ANA</td>\n",
       "      <td>2018</td>\n",
       "      <td>0.968622</td>\n",
       "      <td>Angels</td>\n",
       "      <td>0.984311</td>\n",
       "      <td>2018</td>\n",
       "      <td>Angels</td>\n",
       "      <td>99</td>\n",
       "    </tr>\n",
       "    <tr>\n",
       "      <th>4</th>\n",
       "      <td>ANA</td>\n",
       "      <td>2019</td>\n",
       "      <td>1.006353</td>\n",
       "      <td>Angels</td>\n",
       "      <td>1.003176</td>\n",
       "      <td>2019</td>\n",
       "      <td>Angels</td>\n",
       "      <td>101</td>\n",
       "    </tr>\n",
       "  </tbody>\n",
       "</table>\n",
       "</div>"
      ],
      "text/plain": [
       "  team_id  year        pf    name   pf_half  Season    Team  1yr\n",
       "0     ANA  2015  0.860724  Angels  0.930362    2015  Angels   93\n",
       "1     ANA  2016  0.910053  Angels  0.955026    2016  Angels   96\n",
       "2     ANA  2017  0.949176  Angels  0.974588    2017  Angels   98\n",
       "3     ANA  2018  0.968622  Angels  0.984311    2018  Angels   99\n",
       "4     ANA  2019  1.006353  Angels  1.003176    2019  Angels  101"
      ]
     },
     "execution_count": 49,
     "metadata": {},
     "output_type": "execute_result"
    }
   ],
   "source": [
    "# add the 1yr PF from Fangraphs\n",
    "pf_fg = pf.merge(fangraphs[['Season', 'Team', '1yr']],\n",
    "         left_on=['year', 'name'],\n",
    "         right_on=['Season', 'Team'],\n",
    "         validate='one_to_one')\n",
    "pf_fg.head()"
   ]
  },
  {
   "cell_type": "code",
   "execution_count": 50,
   "metadata": {},
   "outputs": [],
   "source": [
    "# compute the relative differences between pf_half and 1yr\n",
    "pf_fg['pf_half'] *= 100  # to be on the same scale as Fangraphs\n",
    "rel_diff = np.abs(1.0 - pf_fg['pf_half'] / pf_fg['1yr'])"
   ]
  },
  {
   "cell_type": "code",
   "execution_count": 51,
   "metadata": {},
   "outputs": [
    {
     "data": {
      "text/plain": [
       "15    0.021252\n",
       "24    0.015055\n",
       "dtype: float64"
      ]
     },
     "execution_count": 51,
     "metadata": {},
     "output_type": "execute_result"
    }
   ],
   "source": [
    "rel_diff.nlargest(2)"
   ]
  },
  {
   "cell_type": "code",
   "execution_count": 52,
   "metadata": {},
   "outputs": [
    {
     "data": {
      "text/html": [
       "<div>\n",
       "<style scoped>\n",
       "    .dataframe tbody tr th:only-of-type {\n",
       "        vertical-align: middle;\n",
       "    }\n",
       "\n",
       "    .dataframe tbody tr th {\n",
       "        vertical-align: top;\n",
       "    }\n",
       "\n",
       "    .dataframe thead th {\n",
       "        text-align: right;\n",
       "    }\n",
       "</style>\n",
       "<table border=\"1\" class=\"dataframe\">\n",
       "  <thead>\n",
       "    <tr style=\"text-align: right;\">\n",
       "      <th></th>\n",
       "      <th>team_id</th>\n",
       "      <th>year</th>\n",
       "      <th>pf</th>\n",
       "      <th>name</th>\n",
       "      <th>pf_half</th>\n",
       "      <th>Season</th>\n",
       "      <th>Team</th>\n",
       "      <th>1yr</th>\n",
       "    </tr>\n",
       "  </thead>\n",
       "  <tbody>\n",
       "    <tr>\n",
       "      <th>15</th>\n",
       "      <td>BAL</td>\n",
       "      <td>2015</td>\n",
       "      <td>1.205903</td>\n",
       "      <td>Orioles</td>\n",
       "      <td>110.295170</td>\n",
       "      <td>2015</td>\n",
       "      <td>Orioles</td>\n",
       "      <td>108</td>\n",
       "    </tr>\n",
       "    <tr>\n",
       "      <th>24</th>\n",
       "      <td>BOS</td>\n",
       "      <td>2019</td>\n",
       "      <td>1.028987</td>\n",
       "      <td>Red Sox</td>\n",
       "      <td>101.449352</td>\n",
       "      <td>2019</td>\n",
       "      <td>Red Sox</td>\n",
       "      <td>103</td>\n",
       "    </tr>\n",
       "  </tbody>\n",
       "</table>\n",
       "</div>"
      ],
      "text/plain": [
       "   team_id  year        pf     name     pf_half  Season     Team  1yr\n",
       "15     BAL  2015  1.205903  Orioles  110.295170    2015  Orioles  108\n",
       "24     BOS  2019  1.028987  Red Sox  101.449352    2019  Red Sox  103"
      ]
     },
     "execution_count": 52,
     "metadata": {},
     "output_type": "execute_result"
    }
   ],
   "source": [
    "# examine the 2 largest differences from Fangraphs\n",
    "pf_fg.loc[rel_diff.nlargest(2).index]"
   ]
  },
  {
   "cell_type": "markdown",
   "metadata": {},
   "source": [
    "These differences are for the games previously mentioned.  Boston hosting the Yankees in London in 2019 and Baltimore hosting Tampa Bay in Tampa Bay in 2015."
   ]
  },
  {
   "cell_type": "markdown",
   "metadata": {},
   "source": [
    "# Summary\n",
    "Computing the Park Factor is relatively easy after the Retrosheet data has been wrangled.\n",
    "\n",
    "The team batting last is not always playing at their home park.  Not accounting for this was seen to result in errors of up to 4% for the full PF value for teams playing in the last 5 years.  These errors were made by both ESPN and Fangraphs.\n",
    "\n",
    "As less than 1% of all games fall into this category, removing these games from the data is a reasonable option."
   ]
  }
 ],
 "metadata": {
  "kernelspec": {
   "display_name": "Python 3",
   "language": "python",
   "name": "python3"
  },
  "language_info": {
   "codemirror_mode": {
    "name": "ipython",
    "version": 3
   },
   "file_extension": ".py",
   "mimetype": "text/x-python",
   "name": "python",
   "nbconvert_exporter": "python",
   "pygments_lexer": "ipython3",
   "version": "3.7.5"
  }
 },
 "nbformat": 4,
 "nbformat_minor": 2
}
