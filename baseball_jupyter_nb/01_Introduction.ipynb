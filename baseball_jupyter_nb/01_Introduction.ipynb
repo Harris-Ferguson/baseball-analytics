{
 "cells": [
  {
   "cell_type": "markdown",
   "metadata": {},
   "source": [
    "# Analyzing Open Source Baseball Data\n",
    "\n",
    "This notebook has examples of several questions that can be answered using Pandas and the Lahman/Retrosheet data.\n",
    "\n",
    "This notebook will explain how the solution is arrived at, but it will not teach Python, Pandas, Numpy, Matplotlib, and Seaborn per se."
   ]
  },
  {
   "cell_type": "markdown",
   "metadata": {},
   "source": [
    "## Preliminaries\n",
    "\n",
    "This notebook assumes that the Lahman and Retrosheet data sets have been downloaded and wrangled using the scripts in the `../download_scripts` directory of this repo."
   ]
  },
  {
   "cell_type": "markdown",
   "metadata": {},
   "source": [
    "## MLB Data Summary\n",
    "\n",
    "Here are the key csv files.\n",
    "\n",
    "**Lahman**  \n",
    "* Stats per Player per Year:\n",
    "  * batting.csv\n",
    "  * pitching.csv\n",
    "  * fielding.csv\n",
    "* Stats per Team per Year:\n",
    "  * teams.csv -- contains team_id for both Lahman and Retrosheet\n",
    "* Other\n",
    "  * people.csv -- contains player_id for both Lahman and Retrosheet\n",
    "  \n",
    "**Retrosheet**  \n",
    "* Stats per Player per Game:\n",
    "  * batting.csv.gz\n",
    "  * pitching.csv.gz\n",
    "  * fielding.csv.gz\n",
    "* Stats per Team per Game:\n",
    "  * team_game.csv.gz\n",
    "* Stats per Game:\n",
    "  * game.csv.gz "
   ]
  },
  {
   "cell_type": "code",
   "execution_count": 1,
   "metadata": {},
   "outputs": [],
   "source": [
    "import os\n",
    "import pandas as pd\n",
    "import numpy as np\n",
    "from pathlib import Path\n",
    "import re\n",
    "import statsmodels.api as sm"
   ]
  },
  {
   "cell_type": "code",
   "execution_count": 2,
   "metadata": {},
   "outputs": [],
   "source": [
    "%matplotlib inline\n",
    "import matplotlib.pyplot as plt\n",
    "import seaborn as sns\n",
    "sns.set()"
   ]
  },
  {
   "cell_type": "code",
   "execution_count": 3,
   "metadata": {},
   "outputs": [],
   "source": [
    "import matplotlib as mpl\n",
    "mpl.rcParams['figure.dpi'] = 100 # increase the default dpi"
   ]
  },
  {
   "cell_type": "code",
   "execution_count": 4,
   "metadata": {},
   "outputs": [],
   "source": [
    "import sys\n",
    "\n",
    "# import data_helper.py from download_scripts directory\n",
    "sys.path.append('../download_scripts')\n",
    "import data_helper as dh"
   ]
  },
  {
   "cell_type": "code",
   "execution_count": 5,
   "metadata": {},
   "outputs": [],
   "source": [
    "data_dir = Path('../data')\n",
    "lahman_data = data_dir.joinpath('lahman/wrangled').resolve()\n",
    "retrosheet_data = data_dir.joinpath('retrosheet/wrangled').resolve()"
   ]
  },
  {
   "cell_type": "code",
   "execution_count": 6,
   "metadata": {},
   "outputs": [],
   "source": [
    "pd.set_option(\"display.max_columns\", 50)"
   ]
  },
  {
   "cell_type": "code",
   "execution_count": 7,
   "metadata": {},
   "outputs": [],
   "source": [
    "from IPython.display import HTML, display\n",
    "def game_id_to_url(game_id):\n",
    "    \"\"\"Create html link from game_id to box score on Baseball-Reference.com\"\"\"\n",
    "    url = 'https://www.baseball-reference.com/boxes/' + game_id[:3] + \\\n",
    "        '/' + game_id + '.shtml'\n",
    "    display(HTML(f'<a href=\"{url}\">{game_id}</a>'))"
   ]
  },
  {
   "cell_type": "code",
   "execution_count": 8,
   "metadata": {},
   "outputs": [],
   "source": [
    "def simple_loess(x, y, df, frac=1/3, it=0):\n",
    "    \"\"\"Smoothes noisy data.\n",
    "    \n",
    "    Increase frac to get more smoothing.\n",
    "    Decrease frac to get less smoothing.\n",
    "    \n",
    "    sns.lmplot has a loess option, but it uses poor defaults.\"\"\"\n",
    "    z = sm.nonparametric.lowess(df[y], df[x], frac=frac, it=it)\n",
    "    return pd.DataFrame(data=z, columns=[x, y])"
   ]
  },
  {
   "cell_type": "markdown",
   "metadata": {},
   "source": [
    "# Are Baseball Games Getting Longer over the Years?"
   ]
  },
  {
   "cell_type": "code",
   "execution_count": 9,
   "metadata": {},
   "outputs": [],
   "source": [
    "game = dh.from_csv_with_types(retrosheet_data / 'game.csv.gz')"
   ]
  },
  {
   "cell_type": "code",
   "execution_count": 10,
   "metadata": {},
   "outputs": [
    {
     "data": {
      "text/html": [
       "<div>\n",
       "<style scoped>\n",
       "    .dataframe tbody tr th:only-of-type {\n",
       "        vertical-align: middle;\n",
       "    }\n",
       "\n",
       "    .dataframe tbody tr th {\n",
       "        vertical-align: top;\n",
       "    }\n",
       "\n",
       "    .dataframe thead th {\n",
       "        text-align: right;\n",
       "    }\n",
       "</style>\n",
       "<table border=\"1\" class=\"dataframe\">\n",
       "  <thead>\n",
       "    <tr style=\"text-align: right;\">\n",
       "      <th></th>\n",
       "      <th>game_id</th>\n",
       "      <th>game_start_dt</th>\n",
       "      <th>game_ct</th>\n",
       "      <th>daynight_park_cd</th>\n",
       "      <th>park_id</th>\n",
       "      <th>base4_ump_id</th>\n",
       "      <th>base1_ump_id</th>\n",
       "      <th>base2_ump_id</th>\n",
       "      <th>base3_ump_id</th>\n",
       "      <th>scorer_record_id</th>\n",
       "      <th>translator_record_id</th>\n",
       "      <th>inputter_record_id</th>\n",
       "      <th>input_record_ts</th>\n",
       "      <th>method_record_cd</th>\n",
       "      <th>pitches_record_cd</th>\n",
       "      <th>game_length_minutes</th>\n",
       "      <th>game_length_innings</th>\n",
       "      <th>win_pit_id</th>\n",
       "      <th>lose_pit_id</th>\n",
       "      <th>save_pit_id</th>\n",
       "      <th>gwrbi_bat_id</th>\n",
       "      <th>game_length_outs</th>\n",
       "      <th>win_pit_name_tx</th>\n",
       "      <th>lose_pit_name_tx</th>\n",
       "      <th>save_pit_name_tx</th>\n",
       "      <th>goahead_rbi_id</th>\n",
       "      <th>goahead_rbi_name_tx</th>\n",
       "      <th>dh</th>\n",
       "      <th>attendance</th>\n",
       "      <th>temperature</th>\n",
       "      <th>wind_direction</th>\n",
       "      <th>wind_speed</th>\n",
       "      <th>field_condition</th>\n",
       "      <th>precip_type</th>\n",
       "      <th>sky_condition</th>\n",
       "    </tr>\n",
       "  </thead>\n",
       "  <tbody>\n",
       "    <tr>\n",
       "      <th>0</th>\n",
       "      <td>BAL195504120</td>\n",
       "      <td>1955-04-12</td>\n",
       "      <td>0</td>\n",
       "      <td>D</td>\n",
       "      <td>BAL11</td>\n",
       "      <td>grieb901</td>\n",
       "      <td>stevj901</td>\n",
       "      <td>nappl901</td>\n",
       "      <td>ricej901</td>\n",
       "      <td>Orioles</td>\n",
       "      <td>D Lamoureaux</td>\n",
       "      <td>D Lamoureaux</td>\n",
       "      <td>1997/01/17 5:20AM</td>\n",
       "      <td>0</td>\n",
       "      <td>0</td>\n",
       "      <td>145</td>\n",
       "      <td>9</td>\n",
       "      <td>sullf101</td>\n",
       "      <td>colej101</td>\n",
       "      <td>NaN</td>\n",
       "      <td>NaN</td>\n",
       "      <td>54</td>\n",
       "      <td>Frank Sullivan</td>\n",
       "      <td>Joe Coleman</td>\n",
       "      <td>(none)</td>\n",
       "      <td>throf101</td>\n",
       "      <td>Faye Throneberry</td>\n",
       "      <td>False</td>\n",
       "      <td>38085</td>\n",
       "      <td>NaN</td>\n",
       "      <td>NaN</td>\n",
       "      <td>NaN</td>\n",
       "      <td>NaN</td>\n",
       "      <td>NaN</td>\n",
       "      <td>NaN</td>\n",
       "    </tr>\n",
       "    <tr>\n",
       "      <th>1</th>\n",
       "      <td>BAL195504180</td>\n",
       "      <td>1955-04-18</td>\n",
       "      <td>0</td>\n",
       "      <td>N</td>\n",
       "      <td>BAL11</td>\n",
       "      <td>ricej901</td>\n",
       "      <td>grieb901</td>\n",
       "      <td>stevj901</td>\n",
       "      <td>nappl901</td>\n",
       "      <td>yankees,orioles</td>\n",
       "      <td>Sheldon Miller</td>\n",
       "      <td>Sheldon Miller</td>\n",
       "      <td>1996/09/01 9:46PM</td>\n",
       "      <td>1</td>\n",
       "      <td>0</td>\n",
       "      <td>146</td>\n",
       "      <td>9</td>\n",
       "      <td>fordw101</td>\n",
       "      <td>moorr101</td>\n",
       "      <td>NaN</td>\n",
       "      <td>NaN</td>\n",
       "      <td>54</td>\n",
       "      <td>Whitey Ford</td>\n",
       "      <td>Ray Moore</td>\n",
       "      <td>(none)</td>\n",
       "      <td>norei101</td>\n",
       "      <td>Irv Noren</td>\n",
       "      <td>False</td>\n",
       "      <td>35372</td>\n",
       "      <td>NaN</td>\n",
       "      <td>NaN</td>\n",
       "      <td>NaN</td>\n",
       "      <td>NaN</td>\n",
       "      <td>none</td>\n",
       "      <td>night</td>\n",
       "    </tr>\n",
       "    <tr>\n",
       "      <th>2</th>\n",
       "      <td>BAL195504220</td>\n",
       "      <td>1955-04-22</td>\n",
       "      <td>0</td>\n",
       "      <td>N</td>\n",
       "      <td>BAL11</td>\n",
       "      <td>berrc103</td>\n",
       "      <td>mckib901</td>\n",
       "      <td>flahr901</td>\n",
       "      <td>chyln901</td>\n",
       "      <td>Senators</td>\n",
       "      <td>Charles Voas</td>\n",
       "      <td>Charles Voas</td>\n",
       "      <td>1994/07/16 10:43AM</td>\n",
       "      <td>1</td>\n",
       "      <td>0</td>\n",
       "      <td>168</td>\n",
       "      <td>9</td>\n",
       "      <td>mcdem102</td>\n",
       "      <td>wilsj104</td>\n",
       "      <td>schmj101</td>\n",
       "      <td>NaN</td>\n",
       "      <td>54</td>\n",
       "      <td>Mickey McDermott</td>\n",
       "      <td>Jim Wilson</td>\n",
       "      <td>Johnny Schmitz</td>\n",
       "      <td>NaN</td>\n",
       "      <td>(none)</td>\n",
       "      <td>False</td>\n",
       "      <td>18723</td>\n",
       "      <td>NaN</td>\n",
       "      <td>NaN</td>\n",
       "      <td>NaN</td>\n",
       "      <td>NaN</td>\n",
       "      <td>NaN</td>\n",
       "      <td>NaN</td>\n",
       "    </tr>\n",
       "  </tbody>\n",
       "</table>\n",
       "</div>"
      ],
      "text/plain": [
       "        game_id game_start_dt  game_ct daynight_park_cd park_id base4_ump_id  \\\n",
       "0  BAL195504120    1955-04-12        0                D   BAL11     grieb901   \n",
       "1  BAL195504180    1955-04-18        0                N   BAL11     ricej901   \n",
       "2  BAL195504220    1955-04-22        0                N   BAL11     berrc103   \n",
       "\n",
       "  base1_ump_id base2_ump_id base3_ump_id scorer_record_id  \\\n",
       "0     stevj901     nappl901     ricej901          Orioles   \n",
       "1     grieb901     stevj901     nappl901  yankees,orioles   \n",
       "2     mckib901     flahr901     chyln901         Senators   \n",
       "\n",
       "  translator_record_id inputter_record_id     input_record_ts  \\\n",
       "0         D Lamoureaux       D Lamoureaux   1997/01/17 5:20AM   \n",
       "1       Sheldon Miller     Sheldon Miller   1996/09/01 9:46PM   \n",
       "2         Charles Voas       Charles Voas  1994/07/16 10:43AM   \n",
       "\n",
       "   method_record_cd  pitches_record_cd  game_length_minutes  \\\n",
       "0                 0                  0                  145   \n",
       "1                 1                  0                  146   \n",
       "2                 1                  0                  168   \n",
       "\n",
       "   game_length_innings win_pit_id lose_pit_id save_pit_id gwrbi_bat_id  \\\n",
       "0                    9   sullf101    colej101         NaN          NaN   \n",
       "1                    9   fordw101    moorr101         NaN          NaN   \n",
       "2                    9   mcdem102    wilsj104    schmj101          NaN   \n",
       "\n",
       "   game_length_outs   win_pit_name_tx lose_pit_name_tx save_pit_name_tx  \\\n",
       "0                54    Frank Sullivan      Joe Coleman           (none)   \n",
       "1                54       Whitey Ford        Ray Moore           (none)   \n",
       "2                54  Mickey McDermott       Jim Wilson   Johnny Schmitz   \n",
       "\n",
       "  goahead_rbi_id goahead_rbi_name_tx     dh  attendance  temperature  \\\n",
       "0       throf101    Faye Throneberry  False       38085          NaN   \n",
       "1       norei101           Irv Noren  False       35372          NaN   \n",
       "2            NaN              (none)  False       18723          NaN   \n",
       "\n",
       "  wind_direction  wind_speed field_condition precip_type sky_condition  \n",
       "0            NaN         NaN             NaN         NaN           NaN  \n",
       "1            NaN         NaN             NaN        none         night  \n",
       "2            NaN         NaN             NaN         NaN           NaN  "
      ]
     },
     "execution_count": 10,
     "metadata": {},
     "output_type": "execute_result"
    }
   ],
   "source": [
    "game.head(3)"
   ]
  },
  {
   "cell_type": "code",
   "execution_count": 11,
   "metadata": {},
   "outputs": [],
   "source": [
    "# analysis is easier if there is an explict year column\n",
    "game['year'] = game['game_start_dt'].dt.year"
   ]
  },
  {
   "cell_type": "code",
   "execution_count": 12,
   "metadata": {},
   "outputs": [
    {
     "data": {
      "text/html": [
       "<div>\n",
       "<style scoped>\n",
       "    .dataframe tbody tr th:only-of-type {\n",
       "        vertical-align: middle;\n",
       "    }\n",
       "\n",
       "    .dataframe tbody tr th {\n",
       "        vertical-align: top;\n",
       "    }\n",
       "\n",
       "    .dataframe thead th {\n",
       "        text-align: right;\n",
       "    }\n",
       "</style>\n",
       "<table border=\"1\" class=\"dataframe\">\n",
       "  <thead>\n",
       "    <tr style=\"text-align: right;\">\n",
       "      <th></th>\n",
       "      <th>year</th>\n",
       "      <th>game_length_minutes</th>\n",
       "    </tr>\n",
       "  </thead>\n",
       "  <tbody>\n",
       "    <tr>\n",
       "      <th>60</th>\n",
       "      <td>2015</td>\n",
       "      <td>180.804446</td>\n",
       "    </tr>\n",
       "    <tr>\n",
       "      <th>61</th>\n",
       "      <td>2016</td>\n",
       "      <td>184.771005</td>\n",
       "    </tr>\n",
       "    <tr>\n",
       "      <th>62</th>\n",
       "      <td>2017</td>\n",
       "      <td>188.736626</td>\n",
       "    </tr>\n",
       "    <tr>\n",
       "      <th>63</th>\n",
       "      <td>2018</td>\n",
       "      <td>184.953928</td>\n",
       "    </tr>\n",
       "    <tr>\n",
       "      <th>64</th>\n",
       "      <td>2019</td>\n",
       "      <td>189.989296</td>\n",
       "    </tr>\n",
       "  </tbody>\n",
       "</table>\n",
       "</div>"
      ],
      "text/plain": [
       "    year  game_length_minutes\n",
       "60  2015           180.804446\n",
       "61  2016           184.771005\n",
       "62  2017           188.736626\n",
       "63  2018           184.953928\n",
       "64  2019           189.989296"
      ]
     },
     "execution_count": 12,
     "metadata": {},
     "output_type": "execute_result"
    }
   ],
   "source": [
    "minutes_per_game = \\\n",
    "    game.groupby('year', as_index=False)['game_length_minutes'].aggregate('mean')\n",
    "minutes_per_game.tail()"
   ]
  },
  {
   "cell_type": "code",
   "execution_count": 13,
   "metadata": {},
   "outputs": [
    {
     "data": {
      "image/png": "[encoded data removed]",
      "text/plain": [
       "<Figure size 600x400 with 1 Axes>"
      ]
     },
     "metadata": {},
     "output_type": "display_data"
    }
   ],
   "source": [
    "# plot the data\n",
    "sns.lineplot('year', 'game_length_minutes', data=minutes_per_game);"
   ]
  },
  {
   "cell_type": "code",
   "execution_count": 14,
   "metadata": {},
   "outputs": [
    {
     "data": {
      "image/png": "[encoded data removed]",
      "text/plain": [
       "<Figure size 600x400 with 1 Axes>"
      ]
     },
     "metadata": {},
     "output_type": "display_data"
    }
   ],
   "source": [
    "# plot the data, but smooth it first\n",
    "df = simple_loess('year', 'game_length_minutes', minutes_per_game)\n",
    "sns.lineplot(x='year', y='game_length_minutes', data=df);"
   ]
  },
  {
   "cell_type": "markdown",
   "metadata": {},
   "source": [
    "Game length is increasing.  This could be due to more reliance on short relief pitchers. "
   ]
  },
  {
   "cell_type": "markdown",
   "metadata": {},
   "source": [
    "# Are Games that use a DH higher scoring?"
   ]
  },
  {
   "cell_type": "code",
   "execution_count": 15,
   "metadata": {},
   "outputs": [
    {
     "data": {
      "text/plain": [
       "1973"
      ]
     },
     "execution_count": 15,
     "metadata": {},
     "output_type": "execute_result"
    }
   ],
   "source": [
    "# find the first year that the dh was used\n",
    "dh_first = game.loc[game['dh'], 'year'].min()\n",
    "dh_first"
   ]
  },
  {
   "cell_type": "code",
   "execution_count": 16,
   "metadata": {},
   "outputs": [],
   "source": [
    "# only consider games from that year on\n",
    "game_dh = game[game['year'] >= dh_first]"
   ]
  },
  {
   "cell_type": "code",
   "execution_count": 17,
   "metadata": {},
   "outputs": [],
   "source": [
    "team_game = dh.from_csv_with_types(retrosheet_data / 'team_game.csv.gz')"
   ]
  },
  {
   "cell_type": "code",
   "execution_count": 18,
   "metadata": {},
   "outputs": [
    {
     "data": {
      "text/html": [
       "<div>\n",
       "<style scoped>\n",
       "    .dataframe tbody tr th:only-of-type {\n",
       "        vertical-align: middle;\n",
       "    }\n",
       "\n",
       "    .dataframe tbody tr th {\n",
       "        vertical-align: top;\n",
       "    }\n",
       "\n",
       "    .dataframe thead th {\n",
       "        text-align: right;\n",
       "    }\n",
       "</style>\n",
       "<table border=\"1\" class=\"dataframe\">\n",
       "  <thead>\n",
       "    <tr style=\"text-align: right;\">\n",
       "      <th></th>\n",
       "      <th>game_id</th>\n",
       "      <th>r</th>\n",
       "      <th>year</th>\n",
       "      <th>dh</th>\n",
       "    </tr>\n",
       "  </thead>\n",
       "  <tbody>\n",
       "    <tr>\n",
       "      <th>0</th>\n",
       "      <td>ATL197304060</td>\n",
       "      <td>1</td>\n",
       "      <td>1973</td>\n",
       "      <td>False</td>\n",
       "    </tr>\n",
       "    <tr>\n",
       "      <th>1</th>\n",
       "      <td>ATL197304060</td>\n",
       "      <td>2</td>\n",
       "      <td>1973</td>\n",
       "      <td>False</td>\n",
       "    </tr>\n",
       "    <tr>\n",
       "      <th>2</th>\n",
       "      <td>ATL197304081</td>\n",
       "      <td>3</td>\n",
       "      <td>1973</td>\n",
       "      <td>False</td>\n",
       "    </tr>\n",
       "    <tr>\n",
       "      <th>3</th>\n",
       "      <td>ATL197304081</td>\n",
       "      <td>10</td>\n",
       "      <td>1973</td>\n",
       "      <td>False</td>\n",
       "    </tr>\n",
       "    <tr>\n",
       "      <th>4</th>\n",
       "      <td>ATL197304082</td>\n",
       "      <td>4</td>\n",
       "      <td>1973</td>\n",
       "      <td>False</td>\n",
       "    </tr>\n",
       "  </tbody>\n",
       "</table>\n",
       "</div>"
      ],
      "text/plain": [
       "        game_id   r  year     dh\n",
       "0  ATL197304060   1  1973  False\n",
       "1  ATL197304060   2  1973  False\n",
       "2  ATL197304081   3  1973  False\n",
       "3  ATL197304081  10  1973  False\n",
       "4  ATL197304082   4  1973  False"
      ]
     },
     "execution_count": 18,
     "metadata": {},
     "output_type": "execute_result"
    }
   ],
   "source": [
    "# join between game and team_game to get the scores\n",
    "df = pd.merge(team_game[['game_id', 'r']], game_dh[['game_id', 'year', 'dh']], \n",
    "              left_on='game_id', right_on='game_id', how='inner')\n",
    "df.head()"
   ]
  },
  {
   "cell_type": "code",
   "execution_count": 19,
   "metadata": {},
   "outputs": [],
   "source": [
    "dh_games = df[df['dh']]\n",
    "no_dh_games = df[~df['dh']]"
   ]
  },
  {
   "cell_type": "code",
   "execution_count": 20,
   "metadata": {},
   "outputs": [
    {
     "data": {
      "text/plain": [
       "4.626851267939384"
      ]
     },
     "execution_count": 20,
     "metadata": {},
     "output_type": "execute_result"
    }
   ],
   "source": [
    "dh_games['r'].mean()"
   ]
  },
  {
   "cell_type": "code",
   "execution_count": 21,
   "metadata": {},
   "outputs": [
    {
     "data": {
      "text/plain": [
       "4.362823898648907"
      ]
     },
     "execution_count": 21,
     "metadata": {},
     "output_type": "execute_result"
    }
   ],
   "source": [
    "no_dh_games['r'].mean()"
   ]
  },
  {
   "cell_type": "code",
   "execution_count": 22,
   "metadata": {},
   "outputs": [
    {
     "data": {
      "text/plain": [
       "(104658, 104508)"
      ]
     },
     "execution_count": 22,
     "metadata": {},
     "output_type": "execute_result"
    }
   ],
   "source": [
    "len(dh_games), len(no_dh_games)"
   ]
  },
  {
   "cell_type": "code",
   "execution_count": 23,
   "metadata": {},
   "outputs": [
    {
     "data": {
      "text/plain": [
       "0.2640273692904769"
      ]
     },
     "execution_count": 23,
     "metadata": {},
     "output_type": "execute_result"
    }
   ],
   "source": [
    "delta = dh_games['r'].mean() - no_dh_games['r'].mean()\n",
    "delta"
   ]
  },
  {
   "cell_type": "markdown",
   "metadata": {},
   "source": [
    "Given the large number of games, this looks significant.  Run the [Monte Carlo](https://en.wikipedia.org/wiki/Resampling_(statistics)#Monte_Carlo_testing) version of the [permutation](https://en.wikipedia.org/wiki/Resampling_(statistics)#Permutation_tests) test to see how likely this large of a difference is."
   ]
  },
  {
   "cell_type": "code",
   "execution_count": 24,
   "metadata": {},
   "outputs": [],
   "source": [
    "x = dh_games['r'].values\n",
    "y = no_dh_games['r'].values"
   ]
  },
  {
   "cell_type": "code",
   "execution_count": 25,
   "metadata": {},
   "outputs": [],
   "source": [
    "def perm_test(x, y):\n",
    "    pooled = np.hstack([x, y])\n",
    "    np.random.shuffle(pooled)\n",
    "    x_sample = pooled[:len(x)]\n",
    "    y_sample = pooled[len(x):]\n",
    "    return x_sample.mean() - y_sample.mean()"
   ]
  },
  {
   "cell_type": "code",
   "execution_count": 26,
   "metadata": {},
   "outputs": [],
   "source": [
    "np.random.seed(100)\n",
    "N = 1000\n",
    "result_array = np.empty(N)\n",
    "for i in range(N):\n",
    "    result_array[i] = perm_test(x,y)"
   ]
  },
  {
   "cell_type": "code",
   "execution_count": 27,
   "metadata": {},
   "outputs": [
    {
     "data": {
      "text/plain": [
       "(-0.03885183947546089, 0.03976518459555578)"
      ]
     },
     "execution_count": 27,
     "metadata": {},
     "output_type": "execute_result"
    }
   ],
   "source": [
    "result_array.min(), result_array.max()"
   ]
  },
  {
   "cell_type": "code",
   "execution_count": 28,
   "metadata": {},
   "outputs": [
    {
     "data": {
      "text/plain": [
       "0.0"
      ]
     },
     "execution_count": 28,
     "metadata": {},
     "output_type": "execute_result"
    }
   ],
   "source": [
    "(result_array >= delta).mean()"
   ]
  },
  {
   "cell_type": "markdown",
   "metadata": {},
   "source": [
    "The observed difference of 0.264 is many times larger than the largest difference observed by chance in 1000 tries.\n",
    "\n",
    "The use of the Designated Hitter does increase the score."
   ]
  }
 ],
 "metadata": {
  "kernelspec": {
   "display_name": "Python 3",
   "language": "python",
   "name": "python3"
  },
  "language_info": {
   "codemirror_mode": {
    "name": "ipython",
    "version": 3
   },
   "file_extension": ".py",
   "mimetype": "text/x-python",
   "name": "python",
   "nbconvert_exporter": "python",
   "pygments_lexer": "ipython3",
   "version": "3.7.5"
  }
 },
 "nbformat": 4,
 "nbformat_minor": 2
}
