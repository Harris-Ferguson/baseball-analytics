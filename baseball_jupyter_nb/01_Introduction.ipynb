{
 "cells": [
  {
   "cell_type": "markdown",
   "metadata": {},
   "source": [
    "# Analyzing Open Source Baseball Data\n",
    "\n",
    "This notebook answers baseball questions that a fan might be interested in. The questions are answered by using Pandas and the Lahman/Retrosheet data.\n",
    "\n",
    "This notebook will explain how the answer is arrived at, but it will not teach Python, Pandas, Numpy, Matplotlib, and Seaborn per se."
   ]
  },
  {
   "cell_type": "markdown",
   "metadata": {},
   "source": [
    "## Table of Contents\n",
    "[Imports and Setup](#Imports-and-Setup)  \n",
    "[Load Data](#Load-the-Data)  \n",
    "[Are Baseball Games Getting Longer?](#Are-Baseball-Games-Getting-Longer-?)  \n",
    "[Are Games Longer due to Using More Pitchers?](#Are-Games-Longer-Due-to-Using-More-Pitchers?)  \n",
    "[Are Games that Use a DH Higher Scoring?](#Are-Games-that-Use-a-DH-Higher-Scoring?)  "
   ]
  },
  {
   "cell_type": "markdown",
   "metadata": {},
   "source": [
    "## Preliminaries\n",
    "\n",
    "This notebook assumes that the Lahman and Retrosheet data sets have been downloaded and wrangled using the scripts in the `../download_scripts` directory of this repo."
   ]
  },
  {
   "cell_type": "markdown",
   "metadata": {},
   "source": [
    "## MLB Data Summary\n",
    "\n",
    "Description of key csv files.\n",
    "\n",
    "**Lahman**  \n",
    "* Stats per Player per Year:\n",
    "  * batting.csv\n",
    "  * pitching.csv\n",
    "  * fielding.csv\n",
    "* Stats per Team per Year:\n",
    "  * teams.csv -- contains team_id for both Lahman and Retrosheet\n",
    "* Other\n",
    "  * people.csv -- contains player_id for both Lahman and Retrosheet\n",
    "  \n",
    "**Retrosheet**  \n",
    "* Stats per Player per Game:\n",
    "  * batting.csv.gz\n",
    "  * pitching.csv.gz\n",
    "  * fielding.csv.gz\n",
    "* Stats per Team per Game:\n",
    "  * team_game.csv.gz\n",
    "* Stats per Game:\n",
    "  * game.csv.gz "
   ]
  },
  {
   "cell_type": "markdown",
   "metadata": {},
   "source": [
    "## Imports and Setup"
   ]
  },
  {
   "cell_type": "code",
   "execution_count": 1,
   "metadata": {},
   "outputs": [],
   "source": [
    "import os\n",
    "import pandas as pd\n",
    "import numpy as np\n",
    "from pathlib import Path\n",
    "import re"
   ]
  },
  {
   "cell_type": "code",
   "execution_count": 2,
   "metadata": {},
   "outputs": [],
   "source": [
    "%matplotlib inline\n",
    "import matplotlib.pyplot as plt\n",
    "import seaborn as sns\n",
    "sns.set()"
   ]
  },
  {
   "cell_type": "code",
   "execution_count": 3,
   "metadata": {},
   "outputs": [],
   "source": [
    "import matplotlib as mpl\n",
    "mpl.rcParams['figure.dpi'] = 100 # increase the default dpi"
   ]
  },
  {
   "cell_type": "code",
   "execution_count": 4,
   "metadata": {},
   "outputs": [],
   "source": [
    "import sys\n",
    "\n",
    "# import data_helper.py from download_scripts directory\n",
    "sys.path.append('../download_scripts')\n",
    "import data_helper as dh"
   ]
  },
  {
   "cell_type": "code",
   "execution_count": 5,
   "metadata": {},
   "outputs": [],
   "source": [
    "data_dir = Path('../data')\n",
    "lahman_data = data_dir.joinpath('lahman/wrangled').resolve()\n",
    "retrosheet_data = data_dir.joinpath('retrosheet/wrangled').resolve()"
   ]
  },
  {
   "cell_type": "code",
   "execution_count": 6,
   "metadata": {},
   "outputs": [],
   "source": [
    "pd.set_option(\"display.max_columns\", 50)"
   ]
  },
  {
   "cell_type": "markdown",
   "metadata": {},
   "source": [
    "## Load the Data"
   ]
  },
  {
   "cell_type": "code",
   "execution_count": 7,
   "metadata": {},
   "outputs": [],
   "source": [
    "# some columns of interest\n",
    "usecols = ['game_id', 'game_start_dt', 'game_length_minutes', 'game_length_outs', \n",
    "           'game_length_innings', 'dh']\n",
    "game = dh.from_csv_with_types(retrosheet_data / 'game.csv.gz', usecols=usecols)"
   ]
  },
  {
   "cell_type": "code",
   "execution_count": 8,
   "metadata": {},
   "outputs": [
    {
     "data": {
      "text/html": [
       "<div>\n",
       "<style scoped>\n",
       "    .dataframe tbody tr th:only-of-type {\n",
       "        vertical-align: middle;\n",
       "    }\n",
       "\n",
       "    .dataframe tbody tr th {\n",
       "        vertical-align: top;\n",
       "    }\n",
       "\n",
       "    .dataframe thead th {\n",
       "        text-align: right;\n",
       "    }\n",
       "</style>\n",
       "<table border=\"1\" class=\"dataframe\">\n",
       "  <thead>\n",
       "    <tr style=\"text-align: right;\">\n",
       "      <th></th>\n",
       "      <th>game_id</th>\n",
       "      <th>game_start_dt</th>\n",
       "      <th>game_length_minutes</th>\n",
       "      <th>game_length_innings</th>\n",
       "      <th>game_length_outs</th>\n",
       "      <th>dh</th>\n",
       "    </tr>\n",
       "  </thead>\n",
       "  <tbody>\n",
       "    <tr>\n",
       "      <th>0</th>\n",
       "      <td>BAL195504120</td>\n",
       "      <td>1955-04-12</td>\n",
       "      <td>145</td>\n",
       "      <td>9</td>\n",
       "      <td>54</td>\n",
       "      <td>False</td>\n",
       "    </tr>\n",
       "    <tr>\n",
       "      <th>1</th>\n",
       "      <td>BAL195504180</td>\n",
       "      <td>1955-04-18</td>\n",
       "      <td>146</td>\n",
       "      <td>9</td>\n",
       "      <td>54</td>\n",
       "      <td>False</td>\n",
       "    </tr>\n",
       "    <tr>\n",
       "      <th>2</th>\n",
       "      <td>BAL195504220</td>\n",
       "      <td>1955-04-22</td>\n",
       "      <td>168</td>\n",
       "      <td>9</td>\n",
       "      <td>54</td>\n",
       "      <td>False</td>\n",
       "    </tr>\n",
       "  </tbody>\n",
       "</table>\n",
       "</div>"
      ],
      "text/plain": [
       "        game_id game_start_dt  game_length_minutes  game_length_innings  \\\n",
       "0  BAL195504120    1955-04-12                  145                    9   \n",
       "1  BAL195504180    1955-04-18                  146                    9   \n",
       "2  BAL195504220    1955-04-22                  168                    9   \n",
       "\n",
       "   game_length_outs     dh  \n",
       "0                54  False  \n",
       "1                54  False  \n",
       "2                54  False  "
      ]
     },
     "execution_count": 8,
     "metadata": {},
     "output_type": "execute_result"
    }
   ],
   "source": [
    "game.head(3)"
   ]
  },
  {
   "cell_type": "code",
   "execution_count": 9,
   "metadata": {},
   "outputs": [],
   "source": [
    "usecols = (lambda col: not col.startswith('lineup'))\n",
    "team_game = dh.from_csv_with_types(retrosheet_data / 'team_game.csv.gz', usecols=usecols)"
   ]
  },
  {
   "cell_type": "code",
   "execution_count": 10,
   "metadata": {},
   "outputs": [
    {
     "data": {
      "text/html": [
       "<div>\n",
       "<style scoped>\n",
       "    .dataframe tbody tr th:only-of-type {\n",
       "        vertical-align: middle;\n",
       "    }\n",
       "\n",
       "    .dataframe tbody tr th {\n",
       "        vertical-align: top;\n",
       "    }\n",
       "\n",
       "    .dataframe thead th {\n",
       "        text-align: right;\n",
       "    }\n",
       "</style>\n",
       "<table border=\"1\" class=\"dataframe\">\n",
       "  <thead>\n",
       "    <tr style=\"text-align: right;\">\n",
       "      <th></th>\n",
       "      <th>game_id</th>\n",
       "      <th>at_home</th>\n",
       "      <th>team_id</th>\n",
       "      <th>start_pit_id</th>\n",
       "      <th>opponent_team_id</th>\n",
       "      <th>r</th>\n",
       "      <th>h</th>\n",
       "      <th>e</th>\n",
       "      <th>lob</th>\n",
       "      <th>finish_pit_id</th>\n",
       "      <th>team_league_id</th>\n",
       "      <th>line_tx</th>\n",
       "      <th>ab</th>\n",
       "      <th>double</th>\n",
       "      <th>triple</th>\n",
       "      <th>hr</th>\n",
       "      <th>rbi</th>\n",
       "      <th>sh</th>\n",
       "      <th>sf</th>\n",
       "      <th>hbp</th>\n",
       "      <th>bb</th>\n",
       "      <th>ibb</th>\n",
       "      <th>so</th>\n",
       "      <th>sb</th>\n",
       "      <th>cs</th>\n",
       "      <th>gidp</th>\n",
       "      <th>xi</th>\n",
       "      <th>pitcher_ct</th>\n",
       "      <th>er</th>\n",
       "      <th>ter</th>\n",
       "      <th>wp</th>\n",
       "      <th>bk</th>\n",
       "      <th>po</th>\n",
       "      <th>a</th>\n",
       "      <th>pb</th>\n",
       "      <th>dp</th>\n",
       "      <th>tp</th>\n",
       "    </tr>\n",
       "  </thead>\n",
       "  <tbody>\n",
       "    <tr>\n",
       "      <th>0</th>\n",
       "      <td>BAL195504120</td>\n",
       "      <td>True</td>\n",
       "      <td>BAL</td>\n",
       "      <td>colej101</td>\n",
       "      <td>BOS</td>\n",
       "      <td>1</td>\n",
       "      <td>5</td>\n",
       "      <td>2</td>\n",
       "      <td>9</td>\n",
       "      <td>ferrd102</td>\n",
       "      <td>A</td>\n",
       "      <td>001000000</td>\n",
       "      <td>29</td>\n",
       "      <td>2</td>\n",
       "      <td>0</td>\n",
       "      <td>0</td>\n",
       "      <td>1</td>\n",
       "      <td>1</td>\n",
       "      <td>1</td>\n",
       "      <td>0</td>\n",
       "      <td>6</td>\n",
       "      <td>0</td>\n",
       "      <td>5</td>\n",
       "      <td>0</td>\n",
       "      <td>1</td>\n",
       "      <td>0</td>\n",
       "      <td>0</td>\n",
       "      <td>3</td>\n",
       "      <td>6</td>\n",
       "      <td>6</td>\n",
       "      <td>0</td>\n",
       "      <td>0</td>\n",
       "      <td>27</td>\n",
       "      <td>12</td>\n",
       "      <td>0</td>\n",
       "      <td>2</td>\n",
       "      <td>0</td>\n",
       "    </tr>\n",
       "    <tr>\n",
       "      <th>1</th>\n",
       "      <td>BAL195504180</td>\n",
       "      <td>True</td>\n",
       "      <td>BAL</td>\n",
       "      <td>moorr101</td>\n",
       "      <td>NYA</td>\n",
       "      <td>0</td>\n",
       "      <td>3</td>\n",
       "      <td>1</td>\n",
       "      <td>4</td>\n",
       "      <td>wilsj104</td>\n",
       "      <td>A</td>\n",
       "      <td>000000000</td>\n",
       "      <td>29</td>\n",
       "      <td>0</td>\n",
       "      <td>0</td>\n",
       "      <td>0</td>\n",
       "      <td>0</td>\n",
       "      <td>0</td>\n",
       "      <td>0</td>\n",
       "      <td>0</td>\n",
       "      <td>2</td>\n",
       "      <td>0</td>\n",
       "      <td>6</td>\n",
       "      <td>0</td>\n",
       "      <td>0</td>\n",
       "      <td>0</td>\n",
       "      <td>0</td>\n",
       "      <td>3</td>\n",
       "      <td>4</td>\n",
       "      <td>4</td>\n",
       "      <td>0</td>\n",
       "      <td>0</td>\n",
       "      <td>27</td>\n",
       "      <td>9</td>\n",
       "      <td>0</td>\n",
       "      <td>2</td>\n",
       "      <td>0</td>\n",
       "    </tr>\n",
       "    <tr>\n",
       "      <th>2</th>\n",
       "      <td>BAL195504220</td>\n",
       "      <td>True</td>\n",
       "      <td>BAL</td>\n",
       "      <td>wilsj104</td>\n",
       "      <td>WS1</td>\n",
       "      <td>2</td>\n",
       "      <td>8</td>\n",
       "      <td>1</td>\n",
       "      <td>11</td>\n",
       "      <td>johnd102</td>\n",
       "      <td>A</td>\n",
       "      <td>000000200</td>\n",
       "      <td>33</td>\n",
       "      <td>0</td>\n",
       "      <td>1</td>\n",
       "      <td>0</td>\n",
       "      <td>2</td>\n",
       "      <td>0</td>\n",
       "      <td>0</td>\n",
       "      <td>0</td>\n",
       "      <td>7</td>\n",
       "      <td>0</td>\n",
       "      <td>6</td>\n",
       "      <td>0</td>\n",
       "      <td>1</td>\n",
       "      <td>0</td>\n",
       "      <td>0</td>\n",
       "      <td>2</td>\n",
       "      <td>2</td>\n",
       "      <td>2</td>\n",
       "      <td>0</td>\n",
       "      <td>0</td>\n",
       "      <td>27</td>\n",
       "      <td>12</td>\n",
       "      <td>0</td>\n",
       "      <td>1</td>\n",
       "      <td>0</td>\n",
       "    </tr>\n",
       "  </tbody>\n",
       "</table>\n",
       "</div>"
      ],
      "text/plain": [
       "        game_id  at_home team_id start_pit_id opponent_team_id  r  h  e  lob  \\\n",
       "0  BAL195504120     True     BAL     colej101              BOS  1  5  2    9   \n",
       "1  BAL195504180     True     BAL     moorr101              NYA  0  3  1    4   \n",
       "2  BAL195504220     True     BAL     wilsj104              WS1  2  8  1   11   \n",
       "\n",
       "  finish_pit_id team_league_id    line_tx  ab  double  triple  hr  rbi  sh  \\\n",
       "0      ferrd102              A  001000000  29       2       0   0    1   1   \n",
       "1      wilsj104              A  000000000  29       0       0   0    0   0   \n",
       "2      johnd102              A  000000200  33       0       1   0    2   0   \n",
       "\n",
       "   sf  hbp  bb  ibb  so  sb  cs  gidp  xi  pitcher_ct  er  ter  wp  bk  po  \\\n",
       "0   1    0   6    0   5   0   1     0   0           3   6    6   0   0  27   \n",
       "1   0    0   2    0   6   0   0     0   0           3   4    4   0   0  27   \n",
       "2   0    0   7    0   6   0   1     0   0           2   2    2   0   0  27   \n",
       "\n",
       "    a  pb  dp  tp  \n",
       "0  12   0   2   0  \n",
       "1   9   0   2   0  \n",
       "2  12   0   1   0  "
      ]
     },
     "execution_count": 10,
     "metadata": {},
     "output_type": "execute_result"
    }
   ],
   "source": [
    "team_game.head(3)"
   ]
  },
  {
   "cell_type": "markdown",
   "metadata": {},
   "source": [
    "# Are Baseball Games Getting Longer ?"
   ]
  },
  {
   "cell_type": "code",
   "execution_count": 11,
   "metadata": {},
   "outputs": [],
   "source": [
    "# analysis is easier if there is an explict year column\n",
    "game['year'] = game['game_start_dt'].dt.year"
   ]
  },
  {
   "cell_type": "code",
   "execution_count": 12,
   "metadata": {},
   "outputs": [
    {
     "data": {
      "text/html": [
       "<div>\n",
       "<style scoped>\n",
       "    .dataframe tbody tr th:only-of-type {\n",
       "        vertical-align: middle;\n",
       "    }\n",
       "\n",
       "    .dataframe tbody tr th {\n",
       "        vertical-align: top;\n",
       "    }\n",
       "\n",
       "    .dataframe thead th {\n",
       "        text-align: right;\n",
       "    }\n",
       "</style>\n",
       "<table border=\"1\" class=\"dataframe\">\n",
       "  <thead>\n",
       "    <tr style=\"text-align: right;\">\n",
       "      <th></th>\n",
       "      <th>year</th>\n",
       "      <th>game_length_minutes</th>\n",
       "    </tr>\n",
       "  </thead>\n",
       "  <tbody>\n",
       "    <tr>\n",
       "      <th>60</th>\n",
       "      <td>2015</td>\n",
       "      <td>180.804446</td>\n",
       "    </tr>\n",
       "    <tr>\n",
       "      <th>61</th>\n",
       "      <td>2016</td>\n",
       "      <td>184.771005</td>\n",
       "    </tr>\n",
       "    <tr>\n",
       "      <th>62</th>\n",
       "      <td>2017</td>\n",
       "      <td>188.736626</td>\n",
       "    </tr>\n",
       "    <tr>\n",
       "      <th>63</th>\n",
       "      <td>2018</td>\n",
       "      <td>184.953928</td>\n",
       "    </tr>\n",
       "    <tr>\n",
       "      <th>64</th>\n",
       "      <td>2019</td>\n",
       "      <td>189.989296</td>\n",
       "    </tr>\n",
       "  </tbody>\n",
       "</table>\n",
       "</div>"
      ],
      "text/plain": [
       "    year  game_length_minutes\n",
       "60  2015           180.804446\n",
       "61  2016           184.771005\n",
       "62  2017           188.736626\n",
       "63  2018           184.953928\n",
       "64  2019           189.989296"
      ]
     },
     "execution_count": 12,
     "metadata": {},
     "output_type": "execute_result"
    }
   ],
   "source": [
    "minutes_per_game = \\\n",
    "    game.groupby('year', as_index=False)['game_length_minutes'].aggregate('mean')\n",
    "minutes_per_game.tail()"
   ]
  },
  {
   "cell_type": "code",
   "execution_count": 13,
   "metadata": {},
   "outputs": [
    {
     "data": {
      "image/png": "[encoded data removed]",
      "text/plain": [
       "<Figure size 600x400 with 1 Axes>"
      ]
     },
     "metadata": {},
     "output_type": "display_data"
    }
   ],
   "source": [
    "# plot the data and the smoothed data\n",
    "plt.style.use('seaborn-darkgrid')\n",
    "\n",
    "fig, ax = plt.subplots()\n",
    "ax.set_title('Game Length vs Year')\n",
    "ax.set_xlabel('Year')\n",
    "ax.set_ylabel('Game Length in Minutes')\n",
    "ax.set_title('Game Length vs Year')\n",
    "\n",
    "ax.plot('year', 'game_length_minutes', data = minutes_per_game, label='Mean Length per Year')\n",
    "df_smoothed = minutes_per_game.set_index('year').rolling(5).mean().reset_index()\n",
    "ax.plot('year', 'game_length_minutes', data=df_smoothed, label='5 Yr Moving Avg')\n",
    "ax.legend();"
   ]
  },
  {
   "cell_type": "markdown",
   "metadata": {},
   "source": [
    "Baseball games are taking longer to complete."
   ]
  },
  {
   "cell_type": "markdown",
   "metadata": {},
   "source": [
    "# Are Games Longer Due to Using More Pitchers?"
   ]
  },
  {
   "cell_type": "code",
   "execution_count": 14,
   "metadata": {},
   "outputs": [],
   "source": [
    "team_game['year'] = team_game['game_id'].str[3:7].astype('int')"
   ]
  },
  {
   "cell_type": "code",
   "execution_count": 15,
   "metadata": {},
   "outputs": [
    {
     "data": {
      "text/html": [
       "<div>\n",
       "<style scoped>\n",
       "    .dataframe tbody tr th:only-of-type {\n",
       "        vertical-align: middle;\n",
       "    }\n",
       "\n",
       "    .dataframe tbody tr th {\n",
       "        vertical-align: top;\n",
       "    }\n",
       "\n",
       "    .dataframe thead th {\n",
       "        text-align: right;\n",
       "    }\n",
       "</style>\n",
       "<table border=\"1\" class=\"dataframe\">\n",
       "  <thead>\n",
       "    <tr style=\"text-align: right;\">\n",
       "      <th></th>\n",
       "      <th>year</th>\n",
       "      <th>pitcher_ct</th>\n",
       "    </tr>\n",
       "  </thead>\n",
       "  <tbody>\n",
       "    <tr>\n",
       "      <th>0</th>\n",
       "      <td>1955</td>\n",
       "      <td>2.412259</td>\n",
       "    </tr>\n",
       "    <tr>\n",
       "      <th>1</th>\n",
       "      <td>1956</td>\n",
       "      <td>2.397490</td>\n",
       "    </tr>\n",
       "    <tr>\n",
       "      <th>2</th>\n",
       "      <td>1957</td>\n",
       "      <td>2.437449</td>\n",
       "    </tr>\n",
       "    <tr>\n",
       "      <th>3</th>\n",
       "      <td>1958</td>\n",
       "      <td>2.437754</td>\n",
       "    </tr>\n",
       "    <tr>\n",
       "      <th>4</th>\n",
       "      <td>1959</td>\n",
       "      <td>2.393522</td>\n",
       "    </tr>\n",
       "    <tr>\n",
       "      <th>...</th>\n",
       "      <td>...</td>\n",
       "      <td>...</td>\n",
       "    </tr>\n",
       "    <tr>\n",
       "      <th>60</th>\n",
       "      <td>2015</td>\n",
       "      <td>4.109922</td>\n",
       "    </tr>\n",
       "    <tr>\n",
       "      <th>61</th>\n",
       "      <td>2016</td>\n",
       "      <td>4.152801</td>\n",
       "    </tr>\n",
       "    <tr>\n",
       "      <th>62</th>\n",
       "      <td>2017</td>\n",
       "      <td>4.222016</td>\n",
       "    </tr>\n",
       "    <tr>\n",
       "      <th>63</th>\n",
       "      <td>2018</td>\n",
       "      <td>4.361374</td>\n",
       "    </tr>\n",
       "    <tr>\n",
       "      <th>64</th>\n",
       "      <td>2019</td>\n",
       "      <td>4.411898</td>\n",
       "    </tr>\n",
       "  </tbody>\n",
       "</table>\n",
       "<p>65 rows × 2 columns</p>\n",
       "</div>"
      ],
      "text/plain": [
       "    year  pitcher_ct\n",
       "0   1955    2.412259\n",
       "1   1956    2.397490\n",
       "2   1957    2.437449\n",
       "3   1958    2.437754\n",
       "4   1959    2.393522\n",
       "..   ...         ...\n",
       "60  2015    4.109922\n",
       "61  2016    4.152801\n",
       "62  2017    4.222016\n",
       "63  2018    4.361374\n",
       "64  2019    4.411898\n",
       "\n",
       "[65 rows x 2 columns]"
      ]
     },
     "execution_count": 15,
     "metadata": {},
     "output_type": "execute_result"
    }
   ],
   "source": [
    "pitcher_ct_mean = team_game.groupby('year', as_index=False)['pitcher_ct'].mean()\n",
    "pitcher_ct_mean"
   ]
  },
  {
   "cell_type": "code",
   "execution_count": 16,
   "metadata": {},
   "outputs": [
    {
     "data": {
      "image/png": "[encoded data removed]",
      "text/plain": [
       "<Figure size 600x400 with 1 Axes>"
      ]
     },
     "metadata": {},
     "output_type": "display_data"
    }
   ],
   "source": [
    "# plot the data and the smoothed data\n",
    "plt.style.use('seaborn-darkgrid')\n",
    "\n",
    "fig, ax = plt.subplots()\n",
    "ax.set_title('Pitcher Count per Game vs Year')\n",
    "ax.set_xlabel('Year')\n",
    "ax.set_ylabel('Pitcher Count')\n",
    "\n",
    "ax.plot('year', 'pitcher_ct', data=pitcher_ct_mean, label='Mean Pitchers per Game per Year')\n",
    "df_smoothed2 = pitcher_ct_mean.set_index('year').rolling(5).mean().reset_index()\n",
    "ax.plot('year', 'pitcher_ct', data=df_smoothed2, label='5 Yr Moving Avg')\n",
    "ax.legend();"
   ]
  },
  {
   "cell_type": "markdown",
   "metadata": {},
   "source": [
    "The number of pitchers per game has been steadily increasing since the late 70s."
   ]
  },
  {
   "cell_type": "code",
   "execution_count": 17,
   "metadata": {},
   "outputs": [
    {
     "data": {
      "image/png": "[encoded data removed]",
      "text/plain": [
       "<Figure size 640x480 with 2 Axes>"
      ]
     },
     "metadata": {},
     "output_type": "display_data"
    }
   ],
   "source": [
    "# show game length and pitcher count on same plot\n",
    "# x = df_smoothed['year']\n",
    "# y1 = df_smoothed['game_length_minutes']\n",
    "# y2 = df_smoothed2['pitcher_ct']\n",
    "\n",
    "x = minutes_per_game['year']\n",
    "y1 = minutes_per_game['game_length_minutes']\n",
    "y2 = pitcher_ct_mean['pitcher_ct']\n",
    "\n",
    "plt.style.use('default')\n",
    "\n",
    "fig, ax1 = plt.subplots()\n",
    "ax1.set_title('Game Length and Pitchers vs Year')\n",
    "ax1.set_xlabel('Year')\n",
    "\n",
    "color = 'tab:red'\n",
    "ax1.set_ylabel('Minutes Per Game', color=color)\n",
    "ax1.plot(x, y1, color=color)\n",
    "ax1.tick_params(axis='y', labelcolor=color)\n",
    "\n",
    "ax2 = ax1.twinx()  # instantiate a second axes that shares the same x-axis\n",
    "\n",
    "color = 'tab:blue'\n",
    "ax2.set_ylabel('Pitchers Per Game', color=color)\n",
    "ax2.plot(x, y2, color=color)\n",
    "ax2.tick_params(axis='y', labelcolor=color)\n",
    "\n",
    "fig.tight_layout()"
   ]
  },
  {
   "cell_type": "markdown",
   "metadata": {},
   "source": [
    "It looks like both game length and pitcher count are increasing in roughly the same manner.\n",
    "What's the Pearson Correlation Coefficient using the ungrouped data?"
   ]
  },
  {
   "cell_type": "code",
   "execution_count": 18,
   "metadata": {},
   "outputs": [
    {
     "data": {
      "text/html": [
       "<div>\n",
       "<style scoped>\n",
       "    .dataframe tbody tr th:only-of-type {\n",
       "        vertical-align: middle;\n",
       "    }\n",
       "\n",
       "    .dataframe tbody tr th {\n",
       "        vertical-align: top;\n",
       "    }\n",
       "\n",
       "    .dataframe thead th {\n",
       "        text-align: right;\n",
       "    }\n",
       "</style>\n",
       "<table border=\"1\" class=\"dataframe\">\n",
       "  <thead>\n",
       "    <tr style=\"text-align: right;\">\n",
       "      <th></th>\n",
       "      <th>game_id</th>\n",
       "      <th>team_id</th>\n",
       "      <th>pitcher_ct</th>\n",
       "      <th>year</th>\n",
       "      <th>game_length_minutes</th>\n",
       "    </tr>\n",
       "  </thead>\n",
       "  <tbody>\n",
       "    <tr>\n",
       "      <th>0</th>\n",
       "      <td>BAL195504120</td>\n",
       "      <td>BAL</td>\n",
       "      <td>3</td>\n",
       "      <td>1955</td>\n",
       "      <td>145</td>\n",
       "    </tr>\n",
       "    <tr>\n",
       "      <th>1</th>\n",
       "      <td>BAL195504120</td>\n",
       "      <td>BOS</td>\n",
       "      <td>1</td>\n",
       "      <td>1955</td>\n",
       "      <td>145</td>\n",
       "    </tr>\n",
       "    <tr>\n",
       "      <th>2</th>\n",
       "      <td>BAL195504180</td>\n",
       "      <td>BAL</td>\n",
       "      <td>3</td>\n",
       "      <td>1955</td>\n",
       "      <td>146</td>\n",
       "    </tr>\n",
       "    <tr>\n",
       "      <th>3</th>\n",
       "      <td>BAL195504180</td>\n",
       "      <td>NYA</td>\n",
       "      <td>1</td>\n",
       "      <td>1955</td>\n",
       "      <td>146</td>\n",
       "    </tr>\n",
       "    <tr>\n",
       "      <th>4</th>\n",
       "      <td>BAL195504220</td>\n",
       "      <td>BAL</td>\n",
       "      <td>2</td>\n",
       "      <td>1955</td>\n",
       "      <td>168</td>\n",
       "    </tr>\n",
       "  </tbody>\n",
       "</table>\n",
       "</div>"
      ],
      "text/plain": [
       "        game_id team_id  pitcher_ct  year  game_length_minutes\n",
       "0  BAL195504120     BAL           3  1955                  145\n",
       "1  BAL195504120     BOS           1  1955                  145\n",
       "2  BAL195504180     BAL           3  1955                  146\n",
       "3  BAL195504180     NYA           1  1955                  146\n",
       "4  BAL195504220     BAL           2  1955                  168"
      ]
     },
     "execution_count": 18,
     "metadata": {},
     "output_type": "execute_result"
    }
   ],
   "source": [
    "df = pd.merge(team_game[['game_id', 'team_id', 'pitcher_ct']], game[['game_id', 'year', 'game_length_minutes']], \n",
    "              left_on='game_id', right_on='game_id', how='inner')\n",
    "df.head()"
   ]
  },
  {
   "cell_type": "code",
   "execution_count": 19,
   "metadata": {},
   "outputs": [
    {
     "data": {
      "text/plain": [
       "0.618"
      ]
     },
     "execution_count": 19,
     "metadata": {},
     "output_type": "execute_result"
    }
   ],
   "source": [
    "df['pitcher_ct'].corr(df['game_length_minutes']).round(3)"
   ]
  },
  {
   "cell_type": "code",
   "execution_count": 20,
   "metadata": {},
   "outputs": [
    {
     "data": {
      "text/plain": [
       "264596"
      ]
     },
     "execution_count": 20,
     "metadata": {},
     "output_type": "execute_result"
    }
   ],
   "source": [
    "len(df)"
   ]
  },
  {
   "cell_type": "markdown",
   "metadata": {},
   "source": [
    "0.618 is a significant correlation for so many games.  Using more pitchers is associated with a longer game."
   ]
  },
  {
   "cell_type": "code",
   "execution_count": 21,
   "metadata": {},
   "outputs": [
    {
     "data": {
      "text/plain": [
       "(0.0, 0.6177469195166662)"
      ]
     },
     "execution_count": 21,
     "metadata": {},
     "output_type": "execute_result"
    }
   ],
   "source": [
    "# check the p-value (for a linear relationship)\n",
    "from scipy.stats import linregress\n",
    "x = linregress(df['pitcher_ct'], df['game_length_minutes'])\n",
    "x.pvalue, x.rvalue"
   ]
  },
  {
   "cell_type": "markdown",
   "metadata": {},
   "source": [
    "# Are Games that Use a DH Higher Scoring?"
   ]
  },
  {
   "cell_type": "code",
   "execution_count": 22,
   "metadata": {},
   "outputs": [
    {
     "data": {
      "text/plain": [
       "1973"
      ]
     },
     "execution_count": 22,
     "metadata": {},
     "output_type": "execute_result"
    }
   ],
   "source": [
    "# find the first year that the dh was used\n",
    "dh_first = game.loc[game['dh'], 'year'].min()\n",
    "dh_first"
   ]
  },
  {
   "cell_type": "code",
   "execution_count": 23,
   "metadata": {},
   "outputs": [],
   "source": [
    "# only consider games from that year on\n",
    "game_dh = game[game['year'] >= dh_first]"
   ]
  },
  {
   "cell_type": "code",
   "execution_count": 24,
   "metadata": {},
   "outputs": [
    {
     "data": {
      "text/html": [
       "<div>\n",
       "<style scoped>\n",
       "    .dataframe tbody tr th:only-of-type {\n",
       "        vertical-align: middle;\n",
       "    }\n",
       "\n",
       "    .dataframe tbody tr th {\n",
       "        vertical-align: top;\n",
       "    }\n",
       "\n",
       "    .dataframe thead th {\n",
       "        text-align: right;\n",
       "    }\n",
       "</style>\n",
       "<table border=\"1\" class=\"dataframe\">\n",
       "  <thead>\n",
       "    <tr style=\"text-align: right;\">\n",
       "      <th></th>\n",
       "      <th>game_id</th>\n",
       "      <th>team_id</th>\n",
       "      <th>r</th>\n",
       "      <th>year</th>\n",
       "      <th>dh</th>\n",
       "    </tr>\n",
       "  </thead>\n",
       "  <tbody>\n",
       "    <tr>\n",
       "      <th>0</th>\n",
       "      <td>ATL197304060</td>\n",
       "      <td>ATL</td>\n",
       "      <td>1</td>\n",
       "      <td>1973</td>\n",
       "      <td>False</td>\n",
       "    </tr>\n",
       "    <tr>\n",
       "      <th>1</th>\n",
       "      <td>ATL197304060</td>\n",
       "      <td>HOU</td>\n",
       "      <td>2</td>\n",
       "      <td>1973</td>\n",
       "      <td>False</td>\n",
       "    </tr>\n",
       "    <tr>\n",
       "      <th>2</th>\n",
       "      <td>ATL197304081</td>\n",
       "      <td>ATL</td>\n",
       "      <td>3</td>\n",
       "      <td>1973</td>\n",
       "      <td>False</td>\n",
       "    </tr>\n",
       "    <tr>\n",
       "      <th>3</th>\n",
       "      <td>ATL197304081</td>\n",
       "      <td>HOU</td>\n",
       "      <td>10</td>\n",
       "      <td>1973</td>\n",
       "      <td>False</td>\n",
       "    </tr>\n",
       "    <tr>\n",
       "      <th>4</th>\n",
       "      <td>ATL197304082</td>\n",
       "      <td>ATL</td>\n",
       "      <td>4</td>\n",
       "      <td>1973</td>\n",
       "      <td>False</td>\n",
       "    </tr>\n",
       "  </tbody>\n",
       "</table>\n",
       "</div>"
      ],
      "text/plain": [
       "        game_id team_id   r  year     dh\n",
       "0  ATL197304060     ATL   1  1973  False\n",
       "1  ATL197304060     HOU   2  1973  False\n",
       "2  ATL197304081     ATL   3  1973  False\n",
       "3  ATL197304081     HOU  10  1973  False\n",
       "4  ATL197304082     ATL   4  1973  False"
      ]
     },
     "execution_count": 24,
     "metadata": {},
     "output_type": "execute_result"
    }
   ],
   "source": [
    "# join between game and team_game to get the scores\n",
    "df = pd.merge(team_game[['game_id', 'team_id', 'r']], game_dh[['game_id', 'year', 'dh']], \n",
    "              left_on='game_id', right_on='game_id', how='inner')\n",
    "df.head()"
   ]
  },
  {
   "cell_type": "code",
   "execution_count": 25,
   "metadata": {},
   "outputs": [],
   "source": [
    "dh_games = df[df['dh']]\n",
    "no_dh_games = df[~df['dh']]"
   ]
  },
  {
   "cell_type": "code",
   "execution_count": 26,
   "metadata": {},
   "outputs": [
    {
     "data": {
      "text/plain": [
       "4.626851267939384"
      ]
     },
     "execution_count": 26,
     "metadata": {},
     "output_type": "execute_result"
    }
   ],
   "source": [
    "dh_games['r'].mean()"
   ]
  },
  {
   "cell_type": "code",
   "execution_count": 27,
   "metadata": {},
   "outputs": [
    {
     "data": {
      "text/plain": [
       "4.362823898648907"
      ]
     },
     "execution_count": 27,
     "metadata": {},
     "output_type": "execute_result"
    }
   ],
   "source": [
    "no_dh_games['r'].mean()"
   ]
  },
  {
   "cell_type": "code",
   "execution_count": 28,
   "metadata": {},
   "outputs": [
    {
     "data": {
      "text/plain": [
       "(104658, 104508)"
      ]
     },
     "execution_count": 28,
     "metadata": {},
     "output_type": "execute_result"
    }
   ],
   "source": [
    "len(dh_games), len(no_dh_games)"
   ]
  },
  {
   "cell_type": "code",
   "execution_count": 29,
   "metadata": {},
   "outputs": [
    {
     "data": {
      "text/plain": [
       "0.2640273692904769"
      ]
     },
     "execution_count": 29,
     "metadata": {},
     "output_type": "execute_result"
    }
   ],
   "source": [
    "delta = dh_games['r'].mean() - no_dh_games['r'].mean()\n",
    "delta"
   ]
  },
  {
   "cell_type": "markdown",
   "metadata": {},
   "source": [
    "Given the large number of games, this looks significant.  Run the <a href=\"https://en.wikipedia.org/wiki/Resampling_(statistics)#Monte_Carlo_testing\">Monte Carlo</a> version of the <a href=\"https://en.wikipedia.org/wiki/Resampling_(statistics)#Permutation_tests\">Permutation Test</a> to see how likely this large of a difference is."
   ]
  },
  {
   "cell_type": "code",
   "execution_count": 30,
   "metadata": {},
   "outputs": [],
   "source": [
    "x = dh_games['r'].values\n",
    "y = no_dh_games['r'].values"
   ]
  },
  {
   "cell_type": "code",
   "execution_count": 31,
   "metadata": {},
   "outputs": [],
   "source": [
    "def perm_test(x, y):\n",
    "    pooled = np.hstack([x, y])\n",
    "    np.random.shuffle(pooled)\n",
    "    x_sample = pooled[:len(x)]\n",
    "    y_sample = pooled[len(x):]\n",
    "    return x_sample.mean() - y_sample.mean()"
   ]
  },
  {
   "cell_type": "code",
   "execution_count": 32,
   "metadata": {},
   "outputs": [],
   "source": [
    "np.random.seed(100)\n",
    "N = 1000\n",
    "result_array = np.empty(N)\n",
    "for i in range(N):\n",
    "    result_array[i] = perm_test(x,y)"
   ]
  },
  {
   "cell_type": "code",
   "execution_count": 33,
   "metadata": {},
   "outputs": [
    {
     "data": {
      "text/plain": [
       "(-0.03885183947546089, 0.03976518459555578)"
      ]
     },
     "execution_count": 33,
     "metadata": {},
     "output_type": "execute_result"
    }
   ],
   "source": [
    "result_array.min(), result_array.max()"
   ]
  },
  {
   "cell_type": "code",
   "execution_count": 34,
   "metadata": {},
   "outputs": [
    {
     "data": {
      "text/plain": [
       "0.0"
      ]
     },
     "execution_count": 34,
     "metadata": {},
     "output_type": "execute_result"
    }
   ],
   "source": [
    "(result_array >= delta).mean()"
   ]
  },
  {
   "cell_type": "markdown",
   "metadata": {},
   "source": [
    "The observed difference of 0.264 is many times larger than the largest difference observed by chance in 1000 experiments.\n",
    "\n",
    "The use of the Designated Hitter is associated with a higher score."
   ]
  }
 ],
 "metadata": {
  "kernelspec": {
   "display_name": "Python 3",
   "language": "python",
   "name": "python3"
  },
  "language_info": {
   "codemirror_mode": {
    "name": "ipython",
    "version": 3
   },
   "file_extension": ".py",
   "mimetype": "text/x-python",
   "name": "python",
   "nbconvert_exporter": "python",
   "pygments_lexer": "ipython3",
   "version": "3.7.5"
  }
 },
 "nbformat": 4,
 "nbformat_minor": 2
}
